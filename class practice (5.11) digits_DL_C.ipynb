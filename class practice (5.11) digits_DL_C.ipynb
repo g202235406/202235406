{
 "cells": [
  {
   "cell_type": "code",
   "execution_count": 1,
   "id": "e1307f55",
   "metadata": {},
   "outputs": [],
   "source": [
    "import matplotlib.pyplot as plt\n",
    "import numpy as np\n",
    "import pandas as pd\n",
    "import seaborn as sns\n",
    "from sklearn.model_selection import train_test_split\n",
    "from sklearn.linear_model import LinearRegression\n",
    "from sklearn.metrics import mean_squared_error, r2_score\n",
    "from sklearn import metrics\n",
    "import tensorflow as tf\n",
    "from tensorflow import keras\n",
    "from tensorflow.keras import layers"
   ]
  },
  {
   "cell_type": "code",
   "execution_count": 2,
   "id": "e102ff3c",
   "metadata": {},
   "outputs": [
    {
     "data": {
      "text/plain": [
       "<matplotlib.image.AxesImage at 0x22b91c572b0>"
      ]
     },
     "execution_count": 2,
     "metadata": {},
     "output_type": "execute_result"
    },
    {
     "data": {
      "image/png": "[encoded data removed]",
      "text/plain": [
       "<Figure size 432x288 with 1 Axes>"
      ]
     },
     "metadata": {
      "needs_background": "light"
     },
     "output_type": "display_data"
    }
   ],
   "source": [
    "import matplotlib.pyplot as plt\n",
    "from sklearn import datasets, metrics\n",
    "from sklearn.model_selection import train_test_split\n",
    "\n",
    "\n",
    "digits = datasets.load_digits()\n",
    "plt.imshow(digits.images[0], cmap=plt.cm.gray_r, interpolation='nearest')"
   ]
  },
  {
   "cell_type": "code",
   "execution_count": 3,
   "id": "a5486786",
   "metadata": {},
   "outputs": [],
   "source": [
    "n_samples = len(digits.images)\n",
    "\n",
    "data = digits.images.reshape((n_samples, -1))\n",
    "\n",
    "# 이미지를 평판화 n x sample x 8 8 => n_sample x 64"
   ]
  },
  {
   "cell_type": "code",
   "execution_count": 4,
   "id": "2545cec6",
   "metadata": {},
   "outputs": [
    {
     "data": {
      "text/plain": [
       "array([[ 0.,  0.,  5., ...,  0.,  0.,  0.],\n",
       "       [ 0.,  0.,  0., ..., 10.,  0.,  0.],\n",
       "       [ 0.,  0.,  0., ..., 16.,  9.,  0.],\n",
       "       ...,\n",
       "       [ 0.,  0.,  1., ...,  6.,  0.,  0.],\n",
       "       [ 0.,  0.,  2., ..., 12.,  0.,  0.],\n",
       "       [ 0.,  0., 10., ..., 12.,  1.,  0.]])"
      ]
     },
     "execution_count": 4,
     "metadata": {},
     "output_type": "execute_result"
    }
   ],
   "source": [
    "data"
   ]
  },
  {
   "cell_type": "code",
   "execution_count": 5,
   "id": "95b977e5",
   "metadata": {},
   "outputs": [
    {
     "data": {
      "text/plain": [
       "array([0, 1, 2, ..., 8, 9, 8])"
      ]
     },
     "execution_count": 5,
     "metadata": {},
     "output_type": "execute_result"
    }
   ],
   "source": [
    "digits.target"
   ]
  },
  {
   "cell_type": "code",
   "execution_count": 6,
   "id": "1200ae43",
   "metadata": {},
   "outputs": [
    {
     "data": {
      "text/plain": [
       "numpy.ndarray"
      ]
     },
     "execution_count": 6,
     "metadata": {},
     "output_type": "execute_result"
    }
   ],
   "source": [
    "type(data)"
   ]
  },
  {
   "cell_type": "code",
   "execution_count": 7,
   "id": "80d83835",
   "metadata": {},
   "outputs": [],
   "source": [
    "X_train, X_test, y_train, y_test = train_test_split(data, digits.target, test_size=0.2)"
   ]
  },
  {
   "cell_type": "code",
   "execution_count": 8,
   "id": "2a4ef2eb",
   "metadata": {},
   "outputs": [
    {
     "name": "stdout",
     "output_type": "stream",
     "text": [
      "X train : (1437, 64)\n",
      "y train : (1437,)\n",
      "X test : (360, 64)\n",
      "y test : (360,)\n"
     ]
    }
   ],
   "source": [
    "print(\"X train :\", X_train.shape)\n",
    "print(\"y train :\", y_train.shape)\n",
    "print(\"X test :\", X_test.shape)\n",
    "print(\"y test :\", y_test.shape)"
   ]
  },
  {
   "cell_type": "code",
   "execution_count": 9,
   "id": "bd710207",
   "metadata": {},
   "outputs": [],
   "source": [
    "from sklearn.linear_model import LogisticRegression\n",
    "from sklearn.svm import SVC\n",
    "from sklearn.neural_network import MLPClassifier\n",
    "from sklearn.tree import DecisionTreeClassifier\n",
    "from sklearn.metrics import accuracy_score\n",
    "from sklearn.metrics import confusion_matrix"
   ]
  },
  {
   "cell_type": "code",
   "execution_count": 10,
   "id": "13bfcf7b",
   "metadata": {},
   "outputs": [
    {
     "name": "stdout",
     "output_type": "stream",
     "text": [
      "\n",
      "--- Logistic Regression Classifier ---\n",
      "0.9694444444444444\n",
      "[[43  0  0  0  0  0  0  0  0  0]\n",
      " [ 0 31  0  0  0  0  0  0  1  0]\n",
      " [ 0  1 36  2  0  0  0  0  0  0]\n",
      " [ 0  0  0 30  0  0  0  0  1  0]\n",
      " [ 0  1  0  0 39  0  0  0  0  0]\n",
      " [ 0  0  0  0  0 28  0  0  0  0]\n",
      " [ 0  0  0  0  0  0 42  0  0  0]\n",
      " [ 0  0  0  0  1  0  0 32  0  0]\n",
      " [ 0  1  0  0  1  1  0  0 29  0]\n",
      " [ 0  0  0  0  0  1  0  0  0 39]]\n"
     ]
    },
    {
     "name": "stderr",
     "output_type": "stream",
     "text": [
      "C:\\Users\\user\\anaconda3\\lib\\site-packages\\sklearn\\linear_model\\_logistic.py:814: ConvergenceWarning: lbfgs failed to converge (status=1):\n",
      "STOP: TOTAL NO. of ITERATIONS REACHED LIMIT.\n",
      "\n",
      "Increase the number of iterations (max_iter) or scale the data as shown in:\n",
      "    https://scikit-learn.org/stable/modules/preprocessing.html\n",
      "Please also refer to the documentation for alternative solver options:\n",
      "    https://scikit-learn.org/stable/modules/linear_model.html#logistic-regression\n",
      "  n_iter_i = _check_optimize_result(\n"
     ]
    }
   ],
   "source": [
    "clf_lr = LogisticRegression(random_state=0)\n",
    "clf_lr.fit(X_train, y_train)\n",
    "\n",
    "pred_lr = clf_lr.predict(X_test)\n",
    "\n",
    "print (\"\\n--- Logistic Regression Classifier ---\")\n",
    "print (accuracy_score(y_test, pred_lr))\n",
    "print (confusion_matrix(y_test, pred_lr))"
   ]
  },
  {
   "cell_type": "code",
   "execution_count": 11,
   "id": "6baaf756",
   "metadata": {},
   "outputs": [
    {
     "name": "stdout",
     "output_type": "stream",
     "text": [
      "\n",
      "--- SVM Classifier ---\n",
      "0.9861111111111112\n",
      "[[43  0  0  0  0  0  0  0  0  0]\n",
      " [ 0 32  0  0  0  0  0  0  0  0]\n",
      " [ 0  0 39  0  0  0  0  0  0  0]\n",
      " [ 0  0  1 30  0  0  0  0  0  0]\n",
      " [ 0  0  0  0 40  0  0  0  0  0]\n",
      " [ 0  0  0  0  0 27  1  0  0  0]\n",
      " [ 0  0  0  0  0  0 42  0  0  0]\n",
      " [ 0  0  0  0  0  0  0 33  0  0]\n",
      " [ 0  2  0  0  0  0  0  0 30  0]\n",
      " [ 0  0  0  0  0  1  0  0  0 39]]\n"
     ]
    }
   ],
   "source": [
    "clf_svm = SVC(random_state=0)\n",
    "clf_svm.fit(X_train, y_train)\n",
    "\n",
    "pred_svm = clf_svm.predict(X_test)\n",
    "\n",
    "print(\"\\n--- SVM Classifier ---\")\n",
    "cm_svm = confusion_matrix(y_test, pred_svm)\n",
    "print(accuracy_score(y_test, pred_svm))\n",
    "print(confusion_matrix(y_test, pred_svm))"
   ]
  },
  {
   "cell_type": "code",
   "execution_count": 12,
   "id": "556055b8",
   "metadata": {},
   "outputs": [
    {
     "name": "stdout",
     "output_type": "stream",
     "text": [
      "\n",
      "--- Decision Tree Classifier ---\n",
      "0.8611111111111112\n",
      "[[43  0  0  0  0  0  0  0  0  0]\n",
      " [ 0 30  0  0  0  0  0  0  2  0]\n",
      " [ 0  2 26  0  0  3  1  1  6  0]\n",
      " [ 0  2  0 24  0  0  0  1  1  3]\n",
      " [ 1  3  0  0 34  1  1  0  0  0]\n",
      " [ 0  0  0  0  0 26  1  0  0  1]\n",
      " [ 1  1  0  0  0  0 40  0  0  0]\n",
      " [ 0  0  0  0  1  0  0 31  0  1]\n",
      " [ 0  1  0  1  2  1  1  0 25  1]\n",
      " [ 0  3  0  2  0  2  1  1  0 31]]\n"
     ]
    }
   ],
   "source": [
    "clf_dt = DecisionTreeClassifier(random_state=0)\n",
    "clf_dt.fit(X_train, y_train)\n",
    "\n",
    "pred_dt = clf_dt.predict(X_test)\n",
    "\n",
    "print (\"\\n--- Decision Tree Classifier ---\")\n",
    "cm_dt = confusion_matrix(y_test, pred_dt)\n",
    "print (accuracy_score(y_test, pred_dt))\n",
    "print (confusion_matrix(y_test, pred_dt))"
   ]
  },
  {
   "cell_type": "code",
   "execution_count": 13,
   "id": "e43262f4",
   "metadata": {},
   "outputs": [
    {
     "name": "stdout",
     "output_type": "stream",
     "text": [
      "\n",
      "--- Radom Forest ---\n",
      "0.975\n",
      "[[43  0  0  0  0  0  0  0  0  0]\n",
      " [ 0 32  0  0  0  0  0  0  0  0]\n",
      " [ 0  0 39  0  0  0  0  0  0  0]\n",
      " [ 0  0  0 28  0  1  0  0  1  1]\n",
      " [ 0  0  0  0 40  0  0  0  0  0]\n",
      " [ 0  0  0  0  0 27  1  0  0  0]\n",
      " [ 0  0  0  0  0  0 42  0  0  0]\n",
      " [ 0  0  0  0  0  0  0 33  0  0]\n",
      " [ 0  2  0  0  0  0  0  0 30  0]\n",
      " [ 0  1  0  1  0  1  0  0  0 37]]\n"
     ]
    }
   ],
   "source": [
    "from sklearn.ensemble import RandomForestClassifier\n",
    "from sklearn.metrics import accuracy_score\n",
    "import pandas as pd\n",
    "import warnings\n",
    "warnings.filterwarnings('ignore')\n",
    "\n",
    "print (\"\\n--- Radom Forest ---\")\n",
    "rf_clf = RandomForestClassifier(random_state=0)\n",
    "rf_clf.fit(X_train, y_train)\n",
    "pred = rf_clf.predict(X_test)\n",
    "cm_rf = confusion_matrix(y_test, pred)\n",
    "print(accuracy_score(y_test,pred))\n",
    "print (confusion_matrix(y_test, pred))"
   ]
  },
  {
   "cell_type": "code",
   "execution_count": 14,
   "id": "35fd0cbd",
   "metadata": {},
   "outputs": [
    {
     "name": "stdout",
     "output_type": "stream",
     "text": [
      "\n",
      "--- Neural Network Classifier ---\n",
      "0.9666666666666667\n",
      "[[43  0  0  0  0  0  0  0  0  0]\n",
      " [ 0 32  0  0  0  0  0  0  0  0]\n",
      " [ 0  0 35  1  0  0  0  0  3  0]\n",
      " [ 0  0  2 28  0  1  0  0  0  0]\n",
      " [ 0  0  0  0 40  0  0  0  0  0]\n",
      " [ 0  0  0  0  0 27  1  0  0  0]\n",
      " [ 0  0  0  0  0  0 42  0  0  0]\n",
      " [ 0  0  0  0  0  0  0 33  0  0]\n",
      " [ 0  1  1  0  0  0  0  0 30  0]\n",
      " [ 0  0  0  1  0  1  0  0  0 38]]\n"
     ]
    }
   ],
   "source": [
    "clf_nn = MLPClassifier(random_state=0)\n",
    "clf_nn.fit(X_train, y_train)\n",
    "\n",
    "pred_nn = clf_nn.predict(X_test)\n",
    "\n",
    "print (\"\\n--- Neural Network Classifier ---\")\n",
    "cm_nn = confusion_matrix(y_test, pred_nn)\n",
    "print (accuracy_score(y_test, pred_nn))\n",
    "print (confusion_matrix(y_test, pred_nn))"
   ]
  },
  {
   "cell_type": "code",
   "execution_count": 15,
   "id": "ec388f0b",
   "metadata": {},
   "outputs": [
    {
     "data": {
      "text/plain": [
       "KNeighborsClassifier(n_neighbors=6)"
      ]
     },
     "execution_count": 15,
     "metadata": {},
     "output_type": "execute_result"
    }
   ],
   "source": [
    "from sklearn.neighbors import KNeighborsClassifier\n",
    "knn = KNeighborsClassifier(n_neighbors=6)\n",
    "knn.fit(X_train, y_train)"
   ]
  },
  {
   "cell_type": "code",
   "execution_count": 16,
   "id": "6060c283",
   "metadata": {},
   "outputs": [
    {
     "name": "stdout",
     "output_type": "stream",
     "text": [
      "0.9777777777777777\n"
     ]
    }
   ],
   "source": [
    "y_pred = knn.predict(X_test)\n",
    "# 정확도를 계산한다.\n",
    "\n",
    "scores = metrics.accuracy_score(y_test, y_pred)\n",
    "print(scores)"
   ]
  },
  {
   "cell_type": "code",
   "execution_count": 17,
   "id": "f15e4557",
   "metadata": {},
   "outputs": [
    {
     "data": {
      "image/png": "[encoded data removed]",
      "text/plain": [
       "<Figure size 432x288 with 2 Axes>"
      ]
     },
     "metadata": {
      "needs_background": "light"
     },
     "output_type": "display_data"
    }
   ],
   "source": [
    "disp = metrics.plot_confusion_matrix(knn, X_test, y_test)\n",
    "plt.show()"
   ]
  },
  {
   "cell_type": "code",
   "execution_count": 18,
   "id": "b50952c8",
   "metadata": {},
   "outputs": [],
   "source": [
    "X = data\n",
    "y = digits.target\n",
    "\n",
    "from sklearn.preprocessing import LabelEncoder\n",
    "encoder =  LabelEncoder()\n",
    "y1 = encoder.fit_transform(y)\n",
    "\n",
    "Y = pd.get_dummies(y1).values\n",
    "\n",
    "from sklearn.model_selection import train_test_split\n",
    "X_train,X_test, y_train,y_test = train_test_split(X,Y,test_size=0.2,random_state=0) "
   ]
  },
  {
   "cell_type": "code",
   "execution_count": 19,
   "id": "32dfb6f5",
   "metadata": {},
   "outputs": [
    {
     "data": {
      "text/plain": [
       "array([[ 0.,  0.,  5., ...,  0.,  0.,  0.],\n",
       "       [ 0.,  0.,  0., ..., 10.,  0.,  0.],\n",
       "       [ 0.,  0.,  0., ..., 16.,  9.,  0.],\n",
       "       ...,\n",
       "       [ 0.,  0.,  1., ...,  6.,  0.,  0.],\n",
       "       [ 0.,  0.,  2., ..., 12.,  0.,  0.],\n",
       "       [ 0.,  0., 10., ..., 12.,  1.,  0.]])"
      ]
     },
     "execution_count": 19,
     "metadata": {},
     "output_type": "execute_result"
    }
   ],
   "source": [
    "X"
   ]
  },
  {
   "cell_type": "code",
   "execution_count": 20,
   "id": "a61739c2",
   "metadata": {},
   "outputs": [
    {
     "data": {
      "text/plain": [
       "array([[1, 0, 0, ..., 0, 0, 0],\n",
       "       [0, 1, 0, ..., 0, 0, 0],\n",
       "       [0, 0, 1, ..., 0, 0, 0],\n",
       "       ...,\n",
       "       [0, 0, 0, ..., 0, 1, 0],\n",
       "       [0, 0, 0, ..., 0, 0, 1],\n",
       "       [0, 0, 0, ..., 0, 1, 0]], dtype=uint8)"
      ]
     },
     "execution_count": 20,
     "metadata": {},
     "output_type": "execute_result"
    }
   ],
   "source": [
    "Y"
   ]
  },
  {
   "cell_type": "code",
   "execution_count": 21,
   "id": "e56094e9",
   "metadata": {},
   "outputs": [
    {
     "data": {
      "text/plain": [
       "(1797, 64)"
      ]
     },
     "execution_count": 21,
     "metadata": {},
     "output_type": "execute_result"
    }
   ],
   "source": [
    "X.shape"
   ]
  },
  {
   "cell_type": "code",
   "execution_count": 22,
   "id": "6e879e20",
   "metadata": {},
   "outputs": [
    {
     "data": {
      "text/plain": [
       "(1797, 10)"
      ]
     },
     "execution_count": 22,
     "metadata": {},
     "output_type": "execute_result"
    }
   ],
   "source": [
    "Y.shape"
   ]
  },
  {
   "cell_type": "code",
   "execution_count": 23,
   "id": "14cb0e10",
   "metadata": {},
   "outputs": [
    {
     "data": {
      "text/plain": [
       "\"from tensorflow.keras.models import Sequential\\nfrom tensorflow.keras.layers import Dense\\nfrom tensorflow.keras.optimizers import SGD,Adam\\nfrom keras.layers import Input, Dense\\nfrom keras.models import Model\\n\\n# 이는 텐서를 반환합니다\\ninputs = Input(shape=(64,))\\nx = Dense(100, activation='relu')(inputs)\\nx1 = Dense(80, activation='relu')(x)\\nx2 = Dense(60, activation='relu')(x1)\\nx3 = Dense(30, activation='relu')(x2)\\noutputs=Dense(10,activation='softmax')(x3)\\n\\nmodel = Model(inputs=inputs, outputs=outputs)\\nmodel.compile(Adam(lr=0.04), 'categorical_crossentropy', metrics=['accuracy'])\\n\\nmodel.summary()\\n\""
      ]
     },
     "execution_count": 23,
     "metadata": {},
     "output_type": "execute_result"
    }
   ],
   "source": [
    "\"\"\"\n",
    "from tensorflow.keras.models import Sequential\n",
    "from tensorflow.keras.layers import Dense\n",
    "from tensorflow.keras.optimizers import SGD,Adam\n",
    "from keras.layers import Input, Dense\n",
    "from keras.models import Model\n",
    "\n",
    "# 이는 텐서를 반환합니다\n",
    "inputs = Input(shape=(64,))\n",
    "x = Dense(100, activation='relu')(inputs)\n",
    "x1 = Dense(80, activation='relu')(x)\n",
    "x2 = Dense(60, activation='relu')(x1)\n",
    "x3 = Dense(30, activation='relu')(x2)\n",
    "outputs=Dense(10,activation='softmax')(x3)\n",
    "\n",
    "model = Model(inputs=inputs, outputs=outputs)\n",
    "model.compile(Adam(lr=0.04), 'categorical_crossentropy', metrics=['accuracy'])\n",
    "\n",
    "model.summary()\n",
    "\"\"\""
   ]
  },
  {
   "cell_type": "code",
   "execution_count": 24,
   "id": "ae98ed16",
   "metadata": {},
   "outputs": [
    {
     "name": "stdout",
     "output_type": "stream",
     "text": [
      "Model: \"sequential\"\n",
      "_________________________________________________________________\n",
      " Layer (type)                Output Shape              Param #   \n",
      "=================================================================\n",
      " dense (Dense)               (None, 100)               6500      \n",
      "                                                                 \n",
      " dense_1 (Dense)             (None, 70)                7070      \n",
      "                                                                 \n",
      " dense_2 (Dense)             (None, 40)                2840      \n",
      "                                                                 \n",
      " dense_3 (Dense)             (None, 10)                410       \n",
      "                                                                 \n",
      "=================================================================\n",
      "Total params: 16,820\n",
      "Trainable params: 16,820\n",
      "Non-trainable params: 0\n",
      "_________________________________________________________________\n"
     ]
    }
   ],
   "source": [
    "from keras.models import Sequential\n",
    "from keras.layers import Dense\n",
    "from keras.optimizers import SGD,Adam\n",
    "from keras import backend \n",
    "\n",
    "\n",
    "model = Sequential()\n",
    "#softmax, tanh\n",
    "model.add(Dense(100,input_shape=(64,),activation='relu'))\n",
    "model.add(Dense(70,activation='relu'))\n",
    "model.add(Dense(40,activation='relu'))\n",
    "model.add(Dense(10,activation='softmax'))\n",
    " \n",
    "model.compile(Adam(lr=0.01), loss = 'categorical_crossentropy',metrics=['accuracy'])\n",
    "#categorical_crossentropy\n",
    "\n",
    "model.summary()"
   ]
  },
  {
   "cell_type": "code",
   "execution_count": 25,
   "id": "d79a946d",
   "metadata": {},
   "outputs": [
    {
     "name": "stdout",
     "output_type": "stream",
     "text": [
      "Epoch 1/100\n",
      "45/45 [==============================] - 1s 6ms/step - loss: 1.3062 - accuracy: 0.6374 - val_loss: 0.2723 - val_accuracy: 0.9083\n",
      "Epoch 2/100\n",
      "45/45 [==============================] - 0s 2ms/step - loss: 0.2682 - accuracy: 0.9054 - val_loss: 0.1770 - val_accuracy: 0.9556\n",
      "Epoch 3/100\n",
      "45/45 [==============================] - 0s 2ms/step - loss: 0.1494 - accuracy: 0.9513 - val_loss: 0.2580 - val_accuracy: 0.9139\n",
      "Epoch 4/100\n",
      "45/45 [==============================] - 0s 2ms/step - loss: 0.1927 - accuracy: 0.9408 - val_loss: 0.2559 - val_accuracy: 0.9361\n",
      "Epoch 5/100\n",
      "45/45 [==============================] - 0s 2ms/step - loss: 0.1518 - accuracy: 0.9541 - val_loss: 0.1500 - val_accuracy: 0.9528\n",
      "Epoch 6/100\n",
      "45/45 [==============================] - 0s 2ms/step - loss: 0.0946 - accuracy: 0.9687 - val_loss: 0.2195 - val_accuracy: 0.9472\n",
      "Epoch 7/100\n",
      "45/45 [==============================] - 0s 2ms/step - loss: 0.1339 - accuracy: 0.9569 - val_loss: 0.1054 - val_accuracy: 0.9667\n",
      "Epoch 8/100\n",
      "45/45 [==============================] - 0s 2ms/step - loss: 0.0905 - accuracy: 0.9694 - val_loss: 0.1649 - val_accuracy: 0.9667\n",
      "Epoch 9/100\n",
      "45/45 [==============================] - 0s 2ms/step - loss: 0.1031 - accuracy: 0.9659 - val_loss: 0.1426 - val_accuracy: 0.9639\n",
      "Epoch 10/100\n",
      "45/45 [==============================] - 0s 2ms/step - loss: 0.0607 - accuracy: 0.9798 - val_loss: 0.1150 - val_accuracy: 0.9694\n",
      "Epoch 11/100\n",
      "45/45 [==============================] - 0s 2ms/step - loss: 0.0268 - accuracy: 0.9903 - val_loss: 0.4114 - val_accuracy: 0.9222\n",
      "Epoch 12/100\n",
      "45/45 [==============================] - 0s 2ms/step - loss: 0.1022 - accuracy: 0.9701 - val_loss: 0.1280 - val_accuracy: 0.9667\n",
      "Epoch 13/100\n",
      "45/45 [==============================] - 0s 2ms/step - loss: 0.0761 - accuracy: 0.9763 - val_loss: 0.0889 - val_accuracy: 0.9806\n",
      "Epoch 14/100\n",
      "45/45 [==============================] - 0s 2ms/step - loss: 0.0729 - accuracy: 0.9763 - val_loss: 0.3733 - val_accuracy: 0.9139\n",
      "Epoch 15/100\n",
      "45/45 [==============================] - 0s 2ms/step - loss: 0.1225 - accuracy: 0.9645 - val_loss: 0.1218 - val_accuracy: 0.9583\n",
      "Epoch 16/100\n",
      "45/45 [==============================] - 0s 2ms/step - loss: 0.0582 - accuracy: 0.9833 - val_loss: 0.0840 - val_accuracy: 0.9806\n",
      "Epoch 17/100\n",
      "45/45 [==============================] - 0s 2ms/step - loss: 0.0218 - accuracy: 0.9923 - val_loss: 0.1235 - val_accuracy: 0.9778\n",
      "Epoch 18/100\n",
      "45/45 [==============================] - 0s 2ms/step - loss: 0.0083 - accuracy: 0.9979 - val_loss: 0.1119 - val_accuracy: 0.9861\n",
      "Epoch 19/100\n",
      "45/45 [==============================] - 0s 2ms/step - loss: 0.0356 - accuracy: 0.9923 - val_loss: 0.1890 - val_accuracy: 0.9611\n",
      "Epoch 20/100\n",
      "45/45 [==============================] - 0s 2ms/step - loss: 0.1144 - accuracy: 0.9749 - val_loss: 0.3114 - val_accuracy: 0.9333\n",
      "Epoch 21/100\n",
      "45/45 [==============================] - 0s 2ms/step - loss: 0.0641 - accuracy: 0.9770 - val_loss: 0.1455 - val_accuracy: 0.9694\n",
      "Epoch 22/100\n",
      "45/45 [==============================] - 0s 2ms/step - loss: 0.1047 - accuracy: 0.9749 - val_loss: 0.2354 - val_accuracy: 0.9472\n",
      "Epoch 23/100\n",
      "45/45 [==============================] - 0s 2ms/step - loss: 0.0732 - accuracy: 0.9819 - val_loss: 0.1960 - val_accuracy: 0.9500\n",
      "Epoch 24/100\n",
      "45/45 [==============================] - 0s 2ms/step - loss: 0.1266 - accuracy: 0.9736 - val_loss: 0.2597 - val_accuracy: 0.9361\n",
      "Epoch 25/100\n",
      "45/45 [==============================] - 0s 2ms/step - loss: 0.1797 - accuracy: 0.9589 - val_loss: 0.2626 - val_accuracy: 0.9361\n",
      "Epoch 26/100\n",
      "45/45 [==============================] - 0s 2ms/step - loss: 0.0925 - accuracy: 0.9708 - val_loss: 0.1460 - val_accuracy: 0.9639\n",
      "Epoch 27/100\n",
      "45/45 [==============================] - 0s 2ms/step - loss: 0.0575 - accuracy: 0.9805 - val_loss: 0.1867 - val_accuracy: 0.9694\n",
      "Epoch 28/100\n",
      "45/45 [==============================] - 0s 2ms/step - loss: 0.0922 - accuracy: 0.9736 - val_loss: 0.2262 - val_accuracy: 0.9528\n",
      "Epoch 29/100\n",
      "45/45 [==============================] - 0s 2ms/step - loss: 0.0648 - accuracy: 0.9812 - val_loss: 0.1311 - val_accuracy: 0.9694\n",
      "Epoch 30/100\n",
      "45/45 [==============================] - 0s 2ms/step - loss: 0.1308 - accuracy: 0.9701 - val_loss: 0.1919 - val_accuracy: 0.9472\n",
      "Epoch 31/100\n",
      "45/45 [==============================] - 0s 2ms/step - loss: 0.0956 - accuracy: 0.9701 - val_loss: 0.3136 - val_accuracy: 0.9583\n",
      "Epoch 32/100\n",
      "45/45 [==============================] - 0s 2ms/step - loss: 0.2285 - accuracy: 0.9471 - val_loss: 0.2807 - val_accuracy: 0.9472\n",
      "Epoch 33/100\n",
      "45/45 [==============================] - 0s 2ms/step - loss: 0.1808 - accuracy: 0.9631 - val_loss: 0.1712 - val_accuracy: 0.9583\n",
      "Epoch 34/100\n",
      "45/45 [==============================] - 0s 3ms/step - loss: 0.0719 - accuracy: 0.9812 - val_loss: 0.1014 - val_accuracy: 0.9806\n",
      "Epoch 35/100\n",
      "45/45 [==============================] - 0s 2ms/step - loss: 0.0347 - accuracy: 0.9916 - val_loss: 0.1761 - val_accuracy: 0.9611\n",
      "Epoch 36/100\n",
      "45/45 [==============================] - 0s 2ms/step - loss: 0.0461 - accuracy: 0.9889 - val_loss: 0.1427 - val_accuracy: 0.9639\n",
      "Epoch 37/100\n",
      "45/45 [==============================] - 0s 2ms/step - loss: 0.1099 - accuracy: 0.9847 - val_loss: 0.3015 - val_accuracy: 0.9639\n",
      "Epoch 38/100\n",
      "45/45 [==============================] - 0s 2ms/step - loss: 0.1908 - accuracy: 0.9659 - val_loss: 0.1922 - val_accuracy: 0.9611\n",
      "Epoch 39/100\n",
      "45/45 [==============================] - 0s 2ms/step - loss: 0.0547 - accuracy: 0.9854 - val_loss: 0.1035 - val_accuracy: 0.9861\n",
      "Epoch 40/100\n",
      "45/45 [==============================] - 0s 2ms/step - loss: 0.0144 - accuracy: 0.9930 - val_loss: 0.1299 - val_accuracy: 0.9722\n",
      "Epoch 41/100\n",
      "45/45 [==============================] - 0s 2ms/step - loss: 0.0159 - accuracy: 0.9923 - val_loss: 0.1258 - val_accuracy: 0.9806\n",
      "Epoch 42/100\n",
      "45/45 [==============================] - 0s 2ms/step - loss: 0.0106 - accuracy: 0.9972 - val_loss: 0.1328 - val_accuracy: 0.9806\n",
      "Epoch 43/100\n",
      "45/45 [==============================] - 0s 2ms/step - loss: 0.0120 - accuracy: 0.9972 - val_loss: 0.1482 - val_accuracy: 0.9833\n",
      "Epoch 44/100\n",
      "45/45 [==============================] - 0s 2ms/step - loss: 0.0064 - accuracy: 0.9986 - val_loss: 0.1464 - val_accuracy: 0.9833\n",
      "Epoch 45/100\n",
      "45/45 [==============================] - 0s 2ms/step - loss: 0.0021 - accuracy: 1.0000 - val_loss: 0.1532 - val_accuracy: 0.9833\n",
      "Epoch 46/100\n",
      "45/45 [==============================] - 0s 2ms/step - loss: 6.3039e-04 - accuracy: 1.0000 - val_loss: 0.1555 - val_accuracy: 0.9833\n",
      "Epoch 47/100\n",
      "45/45 [==============================] - 0s 2ms/step - loss: 4.7852e-04 - accuracy: 1.0000 - val_loss: 0.1575 - val_accuracy: 0.9833\n",
      "Epoch 48/100\n",
      "45/45 [==============================] - 0s 2ms/step - loss: 3.1891e-04 - accuracy: 1.0000 - val_loss: 0.1588 - val_accuracy: 0.9833\n",
      "Epoch 49/100\n",
      "45/45 [==============================] - 0s 2ms/step - loss: 2.6301e-04 - accuracy: 1.0000 - val_loss: 0.1597 - val_accuracy: 0.9833\n",
      "Epoch 50/100\n",
      "45/45 [==============================] - 0s 2ms/step - loss: 2.2551e-04 - accuracy: 1.0000 - val_loss: 0.1615 - val_accuracy: 0.9833\n",
      "Epoch 51/100\n",
      "45/45 [==============================] - 0s 2ms/step - loss: 1.8919e-04 - accuracy: 1.0000 - val_loss: 0.1626 - val_accuracy: 0.9833\n",
      "Epoch 52/100\n",
      "45/45 [==============================] - 0s 2ms/step - loss: 1.6763e-04 - accuracy: 1.0000 - val_loss: 0.1640 - val_accuracy: 0.9833\n",
      "Epoch 53/100\n",
      "45/45 [==============================] - 0s 2ms/step - loss: 1.5074e-04 - accuracy: 1.0000 - val_loss: 0.1655 - val_accuracy: 0.9833\n",
      "Epoch 54/100\n",
      "45/45 [==============================] - 0s 3ms/step - loss: 1.3667e-04 - accuracy: 1.0000 - val_loss: 0.1666 - val_accuracy: 0.9833\n",
      "Epoch 55/100\n",
      "45/45 [==============================] - 0s 2ms/step - loss: 1.2277e-04 - accuracy: 1.0000 - val_loss: 0.1679 - val_accuracy: 0.9833\n",
      "Epoch 56/100\n",
      "45/45 [==============================] - 0s 2ms/step - loss: 1.1220e-04 - accuracy: 1.0000 - val_loss: 0.1693 - val_accuracy: 0.9833\n",
      "Epoch 57/100\n",
      "45/45 [==============================] - 0s 2ms/step - loss: 1.0265e-04 - accuracy: 1.0000 - val_loss: 0.1702 - val_accuracy: 0.9833\n",
      "Epoch 58/100\n"
     ]
    },
    {
     "name": "stdout",
     "output_type": "stream",
     "text": [
      "45/45 [==============================] - 0s 2ms/step - loss: 9.6079e-05 - accuracy: 1.0000 - val_loss: 0.1712 - val_accuracy: 0.9833\n",
      "Epoch 59/100\n",
      "45/45 [==============================] - 0s 2ms/step - loss: 8.9258e-05 - accuracy: 1.0000 - val_loss: 0.1720 - val_accuracy: 0.9833\n",
      "Epoch 60/100\n",
      "45/45 [==============================] - 0s 3ms/step - loss: 8.4300e-05 - accuracy: 1.0000 - val_loss: 0.1731 - val_accuracy: 0.9833\n",
      "Epoch 61/100\n",
      "45/45 [==============================] - 0s 2ms/step - loss: 7.6211e-05 - accuracy: 1.0000 - val_loss: 0.1740 - val_accuracy: 0.9833\n",
      "Epoch 62/100\n",
      "45/45 [==============================] - 0s 2ms/step - loss: 7.1820e-05 - accuracy: 1.0000 - val_loss: 0.1746 - val_accuracy: 0.9833\n",
      "Epoch 63/100\n",
      "45/45 [==============================] - 0s 2ms/step - loss: 6.7178e-05 - accuracy: 1.0000 - val_loss: 0.1758 - val_accuracy: 0.9833\n",
      "Epoch 64/100\n",
      "45/45 [==============================] - 0s 2ms/step - loss: 6.3609e-05 - accuracy: 1.0000 - val_loss: 0.1767 - val_accuracy: 0.9833\n",
      "Epoch 65/100\n",
      "45/45 [==============================] - 0s 2ms/step - loss: 5.9711e-05 - accuracy: 1.0000 - val_loss: 0.1775 - val_accuracy: 0.9833\n",
      "Epoch 66/100\n",
      "45/45 [==============================] - 0s 2ms/step - loss: 5.4632e-05 - accuracy: 1.0000 - val_loss: 0.1784 - val_accuracy: 0.9833\n",
      "Epoch 67/100\n",
      "45/45 [==============================] - 0s 2ms/step - loss: 5.1907e-05 - accuracy: 1.0000 - val_loss: 0.1790 - val_accuracy: 0.9833\n",
      "Epoch 68/100\n",
      "45/45 [==============================] - 0s 2ms/step - loss: 4.7999e-05 - accuracy: 1.0000 - val_loss: 0.1797 - val_accuracy: 0.9833\n",
      "Epoch 69/100\n",
      "45/45 [==============================] - 0s 2ms/step - loss: 4.5725e-05 - accuracy: 1.0000 - val_loss: 0.1805 - val_accuracy: 0.9833\n",
      "Epoch 70/100\n",
      "45/45 [==============================] - 0s 2ms/step - loss: 4.3399e-05 - accuracy: 1.0000 - val_loss: 0.1812 - val_accuracy: 0.9833\n",
      "Epoch 71/100\n",
      "45/45 [==============================] - 0s 2ms/step - loss: 4.0624e-05 - accuracy: 1.0000 - val_loss: 0.1818 - val_accuracy: 0.9833\n",
      "Epoch 72/100\n",
      "45/45 [==============================] - 0s 2ms/step - loss: 3.8536e-05 - accuracy: 1.0000 - val_loss: 0.1823 - val_accuracy: 0.9833\n",
      "Epoch 73/100\n",
      "45/45 [==============================] - 0s 2ms/step - loss: 3.6890e-05 - accuracy: 1.0000 - val_loss: 0.1830 - val_accuracy: 0.9833\n",
      "Epoch 74/100\n",
      "45/45 [==============================] - 0s 2ms/step - loss: 3.5342e-05 - accuracy: 1.0000 - val_loss: 0.1837 - val_accuracy: 0.9833\n",
      "Epoch 75/100\n",
      "45/45 [==============================] - 0s 2ms/step - loss: 3.3204e-05 - accuracy: 1.0000 - val_loss: 0.1844 - val_accuracy: 0.9833\n",
      "Epoch 76/100\n",
      "45/45 [==============================] - 0s 2ms/step - loss: 3.1651e-05 - accuracy: 1.0000 - val_loss: 0.1852 - val_accuracy: 0.9833\n",
      "Epoch 77/100\n",
      "45/45 [==============================] - 0s 2ms/step - loss: 3.0130e-05 - accuracy: 1.0000 - val_loss: 0.1858 - val_accuracy: 0.9833\n",
      "Epoch 78/100\n",
      "45/45 [==============================] - 0s 2ms/step - loss: 2.8671e-05 - accuracy: 1.0000 - val_loss: 0.1864 - val_accuracy: 0.9833\n",
      "Epoch 79/100\n",
      "45/45 [==============================] - 0s 2ms/step - loss: 2.7477e-05 - accuracy: 1.0000 - val_loss: 0.1869 - val_accuracy: 0.9833\n",
      "Epoch 80/100\n",
      "45/45 [==============================] - 0s 2ms/step - loss: 2.6139e-05 - accuracy: 1.0000 - val_loss: 0.1877 - val_accuracy: 0.9833\n",
      "Epoch 81/100\n",
      "45/45 [==============================] - 0s 2ms/step - loss: 2.5068e-05 - accuracy: 1.0000 - val_loss: 0.1883 - val_accuracy: 0.9833\n",
      "Epoch 82/100\n",
      "45/45 [==============================] - 0s 2ms/step - loss: 2.3915e-05 - accuracy: 1.0000 - val_loss: 0.1889 - val_accuracy: 0.9833\n",
      "Epoch 83/100\n",
      "45/45 [==============================] - 0s 2ms/step - loss: 2.2964e-05 - accuracy: 1.0000 - val_loss: 0.1895 - val_accuracy: 0.9833\n",
      "Epoch 84/100\n",
      "45/45 [==============================] - 0s 2ms/step - loss: 2.1970e-05 - accuracy: 1.0000 - val_loss: 0.1902 - val_accuracy: 0.9833\n",
      "Epoch 85/100\n",
      "45/45 [==============================] - 0s 2ms/step - loss: 2.1144e-05 - accuracy: 1.0000 - val_loss: 0.1908 - val_accuracy: 0.9833\n",
      "Epoch 86/100\n",
      "45/45 [==============================] - 0s 2ms/step - loss: 2.0195e-05 - accuracy: 1.0000 - val_loss: 0.1912 - val_accuracy: 0.9833\n",
      "Epoch 87/100\n",
      "45/45 [==============================] - 0s 2ms/step - loss: 1.9460e-05 - accuracy: 1.0000 - val_loss: 0.1919 - val_accuracy: 0.9833\n",
      "Epoch 88/100\n",
      "45/45 [==============================] - 0s 2ms/step - loss: 1.8812e-05 - accuracy: 1.0000 - val_loss: 0.1923 - val_accuracy: 0.9833\n",
      "Epoch 89/100\n",
      "45/45 [==============================] - 0s 2ms/step - loss: 1.7879e-05 - accuracy: 1.0000 - val_loss: 0.1929 - val_accuracy: 0.9833\n",
      "Epoch 90/100\n",
      "45/45 [==============================] - 0s 2ms/step - loss: 1.7214e-05 - accuracy: 1.0000 - val_loss: 0.1935 - val_accuracy: 0.9833\n",
      "Epoch 91/100\n",
      "45/45 [==============================] - 0s 2ms/step - loss: 1.6575e-05 - accuracy: 1.0000 - val_loss: 0.1942 - val_accuracy: 0.9833\n",
      "Epoch 92/100\n",
      "45/45 [==============================] - 0s 2ms/step - loss: 1.5990e-05 - accuracy: 1.0000 - val_loss: 0.1945 - val_accuracy: 0.9833\n",
      "Epoch 93/100\n",
      "45/45 [==============================] - 0s 2ms/step - loss: 1.5318e-05 - accuracy: 1.0000 - val_loss: 0.1952 - val_accuracy: 0.9833\n",
      "Epoch 94/100\n",
      "45/45 [==============================] - 0s 2ms/step - loss: 1.4730e-05 - accuracy: 1.0000 - val_loss: 0.1957 - val_accuracy: 0.9833\n",
      "Epoch 95/100\n",
      "45/45 [==============================] - 0s 2ms/step - loss: 1.4210e-05 - accuracy: 1.0000 - val_loss: 0.1961 - val_accuracy: 0.9833\n",
      "Epoch 96/100\n",
      "45/45 [==============================] - 0s 2ms/step - loss: 1.3738e-05 - accuracy: 1.0000 - val_loss: 0.1968 - val_accuracy: 0.9833\n",
      "Epoch 97/100\n",
      "45/45 [==============================] - 0s 2ms/step - loss: 1.3226e-05 - accuracy: 1.0000 - val_loss: 0.1972 - val_accuracy: 0.9833\n",
      "Epoch 98/100\n",
      "45/45 [==============================] - 0s 2ms/step - loss: 1.2752e-05 - accuracy: 1.0000 - val_loss: 0.1979 - val_accuracy: 0.9833\n",
      "Epoch 99/100\n",
      "45/45 [==============================] - 0s 2ms/step - loss: 1.2309e-05 - accuracy: 1.0000 - val_loss: 0.1983 - val_accuracy: 0.9833\n",
      "Epoch 100/100\n",
      "45/45 [==============================] - 0s 3ms/step - loss: 1.1898e-05 - accuracy: 1.0000 - val_loss: 0.1987 - val_accuracy: 0.9833\n",
      "12/12 [==============================] - 0s 1ms/step\n"
     ]
    }
   ],
   "source": [
    "model_history=model.fit(x=X_train, y=y_train, epochs=100, batch_size=32,validation_data= (X_test,y_test))\n",
    "y_pred = model.predict(X_test)\n",
    "y_test_class = np.argmax(y_test,axis=1)\n",
    "y_pred_class = np.argmax(y_pred,axis=1)"
   ]
  },
  {
   "cell_type": "code",
   "execution_count": 26,
   "id": "02273094",
   "metadata": {},
   "outputs": [
    {
     "data": {
      "image/png": "[encoded data removed]",
      "text/plain": [
       "<Figure size 432x288 with 1 Axes>"
      ]
     },
     "metadata": {
      "needs_background": "light"
     },
     "output_type": "display_data"
    }
   ],
   "source": [
    "import matplotlib.pyplot as plt\n",
    "import seaborn as sns\n",
    "\n",
    "loss =model_history.history['loss']\n",
    "val_loss =model_history.history['val_loss']\n",
    "epochs = range(1, len(loss) + 1)\n",
    "plt.plot(epochs, loss, 'y', label='Training loss')\n",
    "plt.plot(epochs, val_loss, 'r', label='Validation loss')\n",
    "plt.title('Training and validation loss')\n",
    "plt.xlabel('Epochs')\n",
    "plt.ylabel('Loss')\n",
    "plt.legend()\n",
    "plt.show()"
   ]
  },
  {
   "cell_type": "code",
   "execution_count": 27,
   "id": "3f090d78",
   "metadata": {},
   "outputs": [
    {
     "data": {
      "image/png": "[encoded data removed]",
      "text/plain": [
       "<Figure size 432x288 with 1 Axes>"
      ]
     },
     "metadata": {
      "needs_background": "light"
     },
     "output_type": "display_data"
    }
   ],
   "source": [
    "acc =model_history.history['accuracy']\n",
    "val_acc =model_history.history['val_accuracy']\n",
    "plt.plot(epochs, acc, 'y', label='Training acc')\n",
    "plt.plot(epochs, val_acc, 'r', label='Validation acc')\n",
    "plt.title('Training and validation accuracy')\n",
    "plt.xlabel('Epochs')\n",
    "plt.ylabel('Accuracy')\n",
    "plt.legend()\n",
    "plt.show()"
   ]
  },
  {
   "cell_type": "code",
   "execution_count": 28,
   "id": "901db10d",
   "metadata": {},
   "outputs": [
    {
     "name": "stdout",
     "output_type": "stream",
     "text": [
      "              precision    recall  f1-score   support\n",
      "\n",
      "           0       1.00      1.00      1.00        27\n",
      "           1       0.97      0.97      0.97        35\n",
      "           2       1.00      1.00      1.00        36\n",
      "           3       1.00      1.00      1.00        29\n",
      "           4       1.00      1.00      1.00        30\n",
      "           5       0.97      0.97      0.97        40\n",
      "           6       1.00      0.98      0.99        44\n",
      "           7       0.97      1.00      0.99        39\n",
      "           8       0.95      0.97      0.96        39\n",
      "           9       0.97      0.95      0.96        41\n",
      "\n",
      "    accuracy                           0.98       360\n",
      "   macro avg       0.98      0.98      0.98       360\n",
      "weighted avg       0.98      0.98      0.98       360\n",
      "\n",
      "[[27  0  0  0  0  0  0  0  0  0]\n",
      " [ 0 34  0  0  0  0  0  0  1  0]\n",
      " [ 0  0 36  0  0  0  0  0  0  0]\n",
      " [ 0  0  0 29  0  0  0  0  0  0]\n",
      " [ 0  0  0  0 30  0  0  0  0  0]\n",
      " [ 0  0  0  0  0 39  0  0  0  1]\n",
      " [ 0  0  0  0  0  0 43  0  1  0]\n",
      " [ 0  0  0  0  0  0  0 39  0  0]\n",
      " [ 0  1  0  0  0  0  0  0 38  0]\n",
      " [ 0  0  0  0  0  1  0  1  0 39]]\n"
     ]
    }
   ],
   "source": [
    "from sklearn.metrics import classification_report,confusion_matrix\n",
    "print(classification_report(y_test_class,y_pred_class))\n",
    "print(confusion_matrix(y_test_class,y_pred_class))"
   ]
  }
 ],
 "metadata": {
  "kernelspec": {
   "display_name": "Python 3 (ipykernel)",
   "language": "python",
   "name": "python3"
  },
  "language_info": {
   "codemirror_mode": {
    "name": "ipython",
    "version": 3
   },
   "file_extension": ".py",
   "mimetype": "text/x-python",
   "name": "python",
   "nbconvert_exporter": "python",
   "pygments_lexer": "ipython3",
   "version": "3.9.12"
  }
 },
 "nbformat": 4,
 "nbformat_minor": 5
}
