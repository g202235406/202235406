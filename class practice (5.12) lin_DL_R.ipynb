{
 "cells": [
  {
   "cell_type": "code",
   "execution_count": 1,
   "id": "21267f87",
   "metadata": {},
   "outputs": [],
   "source": [
    "import numpy as np\n",
    "import matplotlib.pyplot as plt\n",
    "import pandas as pd\n",
    "import seaborn as sns\n",
    "from scipy import stats  # 과학용 계산 라이브러리\n",
    "from sklearn.datasets import load_linnerud\n",
    "from sklearn.model_selection import train_test_split"
   ]
  },
  {
   "cell_type": "code",
   "execution_count": 2,
   "id": "cd83a5b5",
   "metadata": {},
   "outputs": [],
   "source": [
    "lin = load_linnerud()"
   ]
  },
  {
   "cell_type": "code",
   "execution_count": 3,
   "id": "a2b5c79c",
   "metadata": {},
   "outputs": [
    {
     "data": {
      "text/plain": [
       "{'data': array([[  5., 162.,  60.],\n",
       "        [  2., 110.,  60.],\n",
       "        [ 12., 101., 101.],\n",
       "        [ 12., 105.,  37.],\n",
       "        [ 13., 155.,  58.],\n",
       "        [  4., 101.,  42.],\n",
       "        [  8., 101.,  38.],\n",
       "        [  6., 125.,  40.],\n",
       "        [ 15., 200.,  40.],\n",
       "        [ 17., 251., 250.],\n",
       "        [ 17., 120.,  38.],\n",
       "        [ 13., 210., 115.],\n",
       "        [ 14., 215., 105.],\n",
       "        [  1.,  50.,  50.],\n",
       "        [  6.,  70.,  31.],\n",
       "        [ 12., 210., 120.],\n",
       "        [  4.,  60.,  25.],\n",
       "        [ 11., 230.,  80.],\n",
       "        [ 15., 225.,  73.],\n",
       "        [  2., 110.,  43.]]),\n",
       " 'feature_names': ['Chins', 'Situps', 'Jumps'],\n",
       " 'target': array([[191.,  36.,  50.],\n",
       "        [189.,  37.,  52.],\n",
       "        [193.,  38.,  58.],\n",
       "        [162.,  35.,  62.],\n",
       "        [189.,  35.,  46.],\n",
       "        [182.,  36.,  56.],\n",
       "        [211.,  38.,  56.],\n",
       "        [167.,  34.,  60.],\n",
       "        [176.,  31.,  74.],\n",
       "        [154.,  33.,  56.],\n",
       "        [169.,  34.,  50.],\n",
       "        [166.,  33.,  52.],\n",
       "        [154.,  34.,  64.],\n",
       "        [247.,  46.,  50.],\n",
       "        [193.,  36.,  46.],\n",
       "        [202.,  37.,  62.],\n",
       "        [176.,  37.,  54.],\n",
       "        [157.,  32.,  52.],\n",
       "        [156.,  33.,  54.],\n",
       "        [138.,  33.,  68.]]),\n",
       " 'target_names': ['Weight', 'Waist', 'Pulse'],\n",
       " 'frame': None,\n",
       " 'DESCR': '.. _linnerrud_dataset:\\n\\nLinnerrud dataset\\n-----------------\\n\\n**Data Set Characteristics:**\\n\\n    :Number of Instances: 20\\n    :Number of Attributes: 3\\n    :Missing Attribute Values: None\\n\\nThe Linnerud dataset is a multi-output regression dataset. It consists of three\\nexercise (data) and three physiological (target) variables collected from\\ntwenty middle-aged men in a fitness club:\\n\\n- *physiological* - CSV containing 20 observations on 3 physiological variables:\\n   Weight, Waist and Pulse.\\n- *exercise* - CSV containing 20 observations on 3 exercise variables:\\n   Chins, Situps and Jumps.\\n\\n.. topic:: References\\n\\n  * Tenenhaus, M. (1998). La regression PLS: theorie et pratique. Paris:\\n    Editions Technic.\\n',\n",
       " 'data_filename': 'linnerud_exercise.csv',\n",
       " 'target_filename': 'linnerud_physiological.csv',\n",
       " 'data_module': 'sklearn.datasets.data'}"
      ]
     },
     "execution_count": 3,
     "metadata": {},
     "output_type": "execute_result"
    }
   ],
   "source": [
    "lin"
   ]
  },
  {
   "cell_type": "code",
   "execution_count": 4,
   "id": "90ebfff5",
   "metadata": {},
   "outputs": [],
   "source": [
    "df = pd.DataFrame(lin.data, columns = lin.feature_names)"
   ]
  },
  {
   "cell_type": "code",
   "execution_count": 5,
   "id": "d0a87b0d",
   "metadata": {},
   "outputs": [
    {
     "data": {
      "text/html": [
       "<div>\n",
       "<style scoped>\n",
       "    .dataframe tbody tr th:only-of-type {\n",
       "        vertical-align: middle;\n",
       "    }\n",
       "\n",
       "    .dataframe tbody tr th {\n",
       "        vertical-align: top;\n",
       "    }\n",
       "\n",
       "    .dataframe thead th {\n",
       "        text-align: right;\n",
       "    }\n",
       "</style>\n",
       "<table border=\"1\" class=\"dataframe\">\n",
       "  <thead>\n",
       "    <tr style=\"text-align: right;\">\n",
       "      <th></th>\n",
       "      <th>Chins</th>\n",
       "      <th>Situps</th>\n",
       "      <th>Jumps</th>\n",
       "    </tr>\n",
       "  </thead>\n",
       "  <tbody>\n",
       "    <tr>\n",
       "      <th>0</th>\n",
       "      <td>5.0</td>\n",
       "      <td>162.0</td>\n",
       "      <td>60.0</td>\n",
       "    </tr>\n",
       "    <tr>\n",
       "      <th>1</th>\n",
       "      <td>2.0</td>\n",
       "      <td>110.0</td>\n",
       "      <td>60.0</td>\n",
       "    </tr>\n",
       "    <tr>\n",
       "      <th>2</th>\n",
       "      <td>12.0</td>\n",
       "      <td>101.0</td>\n",
       "      <td>101.0</td>\n",
       "    </tr>\n",
       "    <tr>\n",
       "      <th>3</th>\n",
       "      <td>12.0</td>\n",
       "      <td>105.0</td>\n",
       "      <td>37.0</td>\n",
       "    </tr>\n",
       "    <tr>\n",
       "      <th>4</th>\n",
       "      <td>13.0</td>\n",
       "      <td>155.0</td>\n",
       "      <td>58.0</td>\n",
       "    </tr>\n",
       "  </tbody>\n",
       "</table>\n",
       "</div>"
      ],
      "text/plain": [
       "   Chins  Situps  Jumps\n",
       "0    5.0   162.0   60.0\n",
       "1    2.0   110.0   60.0\n",
       "2   12.0   101.0  101.0\n",
       "3   12.0   105.0   37.0\n",
       "4   13.0   155.0   58.0"
      ]
     },
     "execution_count": 5,
     "metadata": {},
     "output_type": "execute_result"
    }
   ],
   "source": [
    "df.head()"
   ]
  },
  {
   "cell_type": "code",
   "execution_count": 6,
   "id": "36870e60",
   "metadata": {},
   "outputs": [
    {
     "data": {
      "text/plain": [
       "Index(['Chins', 'Situps', 'Jumps'], dtype='object')"
      ]
     },
     "execution_count": 6,
     "metadata": {},
     "output_type": "execute_result"
    }
   ],
   "source": [
    "df.columns"
   ]
  },
  {
   "cell_type": "code",
   "execution_count": 7,
   "id": "8e2fe85f",
   "metadata": {},
   "outputs": [
    {
     "data": {
      "text/plain": [
       "(20, 3)"
      ]
     },
     "execution_count": 7,
     "metadata": {},
     "output_type": "execute_result"
    }
   ],
   "source": [
    "df.shape"
   ]
  },
  {
   "cell_type": "code",
   "execution_count": 8,
   "id": "0f4dc81b",
   "metadata": {},
   "outputs": [
    {
     "data": {
      "text/html": [
       "<div>\n",
       "<style scoped>\n",
       "    .dataframe tbody tr th:only-of-type {\n",
       "        vertical-align: middle;\n",
       "    }\n",
       "\n",
       "    .dataframe tbody tr th {\n",
       "        vertical-align: top;\n",
       "    }\n",
       "\n",
       "    .dataframe thead th {\n",
       "        text-align: right;\n",
       "    }\n",
       "</style>\n",
       "<table border=\"1\" class=\"dataframe\">\n",
       "  <thead>\n",
       "    <tr style=\"text-align: right;\">\n",
       "      <th></th>\n",
       "      <th>Chins</th>\n",
       "      <th>Situps</th>\n",
       "      <th>Jumps</th>\n",
       "      <th>Weight</th>\n",
       "      <th>Waist</th>\n",
       "      <th>Pulse</th>\n",
       "    </tr>\n",
       "  </thead>\n",
       "  <tbody>\n",
       "    <tr>\n",
       "      <th>0</th>\n",
       "      <td>5.0</td>\n",
       "      <td>162.0</td>\n",
       "      <td>60.0</td>\n",
       "      <td>191.0</td>\n",
       "      <td>36.0</td>\n",
       "      <td>50.0</td>\n",
       "    </tr>\n",
       "    <tr>\n",
       "      <th>1</th>\n",
       "      <td>2.0</td>\n",
       "      <td>110.0</td>\n",
       "      <td>60.0</td>\n",
       "      <td>189.0</td>\n",
       "      <td>37.0</td>\n",
       "      <td>52.0</td>\n",
       "    </tr>\n",
       "    <tr>\n",
       "      <th>2</th>\n",
       "      <td>12.0</td>\n",
       "      <td>101.0</td>\n",
       "      <td>101.0</td>\n",
       "      <td>193.0</td>\n",
       "      <td>38.0</td>\n",
       "      <td>58.0</td>\n",
       "    </tr>\n",
       "    <tr>\n",
       "      <th>3</th>\n",
       "      <td>12.0</td>\n",
       "      <td>105.0</td>\n",
       "      <td>37.0</td>\n",
       "      <td>162.0</td>\n",
       "      <td>35.0</td>\n",
       "      <td>62.0</td>\n",
       "    </tr>\n",
       "    <tr>\n",
       "      <th>4</th>\n",
       "      <td>13.0</td>\n",
       "      <td>155.0</td>\n",
       "      <td>58.0</td>\n",
       "      <td>189.0</td>\n",
       "      <td>35.0</td>\n",
       "      <td>46.0</td>\n",
       "    </tr>\n",
       "  </tbody>\n",
       "</table>\n",
       "</div>"
      ],
      "text/plain": [
       "   Chins  Situps  Jumps  Weight  Waist  Pulse\n",
       "0    5.0   162.0   60.0   191.0   36.0   50.0\n",
       "1    2.0   110.0   60.0   189.0   37.0   52.0\n",
       "2   12.0   101.0  101.0   193.0   38.0   58.0\n",
       "3   12.0   105.0   37.0   162.0   35.0   62.0\n",
       "4   13.0   155.0   58.0   189.0   35.0   46.0"
      ]
     },
     "execution_count": 8,
     "metadata": {},
     "output_type": "execute_result"
    }
   ],
   "source": [
    "df[['Weight', 'Waist', 'Pulse']] = lin.target\n",
    "df.head()"
   ]
  },
  {
   "cell_type": "code",
   "execution_count": 9,
   "id": "2de4099d",
   "metadata": {},
   "outputs": [
    {
     "data": {
      "text/plain": [
       "Chins     0\n",
       "Situps    0\n",
       "Jumps     0\n",
       "Weight    0\n",
       "Waist     0\n",
       "Pulse     0\n",
       "dtype: int64"
      ]
     },
     "execution_count": 9,
     "metadata": {},
     "output_type": "execute_result"
    }
   ],
   "source": [
    "df.isna().sum()"
   ]
  },
  {
   "cell_type": "code",
   "execution_count": 10,
   "id": "b0819f78",
   "metadata": {},
   "outputs": [
    {
     "data": {
      "image/png": "[encoded data removed]",
      "text/plain": [
       "<Figure size 432x288 with 1 Axes>"
      ]
     },
     "metadata": {
      "needs_background": "light"
     },
     "output_type": "display_data"
    }
   ],
   "source": [
    "df.describe()\n",
    "plt.hist(df['Pulse'])\n",
    "plt.title('Pulse')\n",
    "plt.show()"
   ]
  },
  {
   "cell_type": "code",
   "execution_count": 11,
   "id": "dabc2d3d",
   "metadata": {},
   "outputs": [
    {
     "data": {
      "text/html": [
       "<div>\n",
       "<style scoped>\n",
       "    .dataframe tbody tr th:only-of-type {\n",
       "        vertical-align: middle;\n",
       "    }\n",
       "\n",
       "    .dataframe tbody tr th {\n",
       "        vertical-align: top;\n",
       "    }\n",
       "\n",
       "    .dataframe thead th {\n",
       "        text-align: right;\n",
       "    }\n",
       "</style>\n",
       "<table border=\"1\" class=\"dataframe\">\n",
       "  <thead>\n",
       "    <tr style=\"text-align: right;\">\n",
       "      <th></th>\n",
       "      <th>Chins</th>\n",
       "      <th>Situps</th>\n",
       "      <th>Jumps</th>\n",
       "      <th>Pulse</th>\n",
       "    </tr>\n",
       "  </thead>\n",
       "  <tbody>\n",
       "    <tr>\n",
       "      <th>0</th>\n",
       "      <td>5.0</td>\n",
       "      <td>162.0</td>\n",
       "      <td>60.0</td>\n",
       "      <td>50.0</td>\n",
       "    </tr>\n",
       "    <tr>\n",
       "      <th>1</th>\n",
       "      <td>2.0</td>\n",
       "      <td>110.0</td>\n",
       "      <td>60.0</td>\n",
       "      <td>52.0</td>\n",
       "    </tr>\n",
       "    <tr>\n",
       "      <th>2</th>\n",
       "      <td>12.0</td>\n",
       "      <td>101.0</td>\n",
       "      <td>101.0</td>\n",
       "      <td>58.0</td>\n",
       "    </tr>\n",
       "    <tr>\n",
       "      <th>3</th>\n",
       "      <td>12.0</td>\n",
       "      <td>105.0</td>\n",
       "      <td>37.0</td>\n",
       "      <td>62.0</td>\n",
       "    </tr>\n",
       "    <tr>\n",
       "      <th>4</th>\n",
       "      <td>13.0</td>\n",
       "      <td>155.0</td>\n",
       "      <td>58.0</td>\n",
       "      <td>46.0</td>\n",
       "    </tr>\n",
       "  </tbody>\n",
       "</table>\n",
       "</div>"
      ],
      "text/plain": [
       "   Chins  Situps  Jumps  Pulse\n",
       "0    5.0   162.0   60.0   50.0\n",
       "1    2.0   110.0   60.0   52.0\n",
       "2   12.0   101.0  101.0   58.0\n",
       "3   12.0   105.0   37.0   62.0\n",
       "4   13.0   155.0   58.0   46.0"
      ]
     },
     "execution_count": 11,
     "metadata": {},
     "output_type": "execute_result"
    }
   ],
   "source": [
    "df_1 = df[['Chins', 'Situps', 'Jumps','Pulse']]\n",
    "df_1.head()"
   ]
  },
  {
   "cell_type": "code",
   "execution_count": 12,
   "id": "8e732b53",
   "metadata": {},
   "outputs": [],
   "source": [
    "X=df[['Chins', 'Situps', 'Jumps']]"
   ]
  },
  {
   "cell_type": "code",
   "execution_count": 13,
   "id": "167e7b39",
   "metadata": {},
   "outputs": [],
   "source": [
    "Y=df['Pulse']"
   ]
  },
  {
   "cell_type": "code",
   "execution_count": 14,
   "id": "38802c32",
   "metadata": {},
   "outputs": [
    {
     "data": {
      "image/png": "[encoded data removed]",
      "text/plain": [
       "<Figure size 1152x576 with 3 Axes>"
      ]
     },
     "metadata": {
      "needs_background": "light"
     },
     "output_type": "display_data"
    }
   ],
   "source": [
    "fig, axs = plt.subplots(figsize=(16,8), ncols=3)\n",
    "\n",
    "lm_features = ['Chins', 'Situps', 'Jumps']\n",
    "\n",
    "for i, feature in enumerate(lm_features):\n",
    "    sns.regplot(x=feature, y='Waist', data=df, ax=axs[i])"
   ]
  },
  {
   "cell_type": "code",
   "execution_count": 15,
   "id": "a994435b",
   "metadata": {},
   "outputs": [
    {
     "data": {
      "image/png": "[encoded data removed]",
      "text/plain": [
       "<Figure size 720x720 with 1 Axes>"
      ]
     },
     "metadata": {
      "needs_background": "light"
     },
     "output_type": "display_data"
    }
   ],
   "source": [
    "df_corr=df_1.corr()\n",
    "\n",
    "#히트맵\n",
    "plt.figure(figsize=(10,10))\n",
    "sns.set(font_scale=0.8)\n",
    "sns.heatmap(df_corr, annot=True, cbar=False)\n",
    "plt.show()"
   ]
  },
  {
   "cell_type": "code",
   "execution_count": 16,
   "id": "9e2dc62e",
   "metadata": {},
   "outputs": [],
   "source": [
    "X_train, X_test, y_train, y_test = train_test_split(X, Y,test_size=0.25,random_state=42)"
   ]
  },
  {
   "cell_type": "code",
   "execution_count": 17,
   "id": "15b526c3",
   "metadata": {},
   "outputs": [],
   "source": [
    "X_train = X_train.to_numpy()\n",
    "y_train = y_train.to_numpy()\n",
    "X_test = X_test.to_numpy()\n",
    "y_test = y_test.to_numpy()"
   ]
  },
  {
   "cell_type": "code",
   "execution_count": 18,
   "id": "3828eace",
   "metadata": {},
   "outputs": [
    {
     "name": "stdout",
     "output_type": "stream",
     "text": [
      "Model: \"sequential\"\n",
      "_________________________________________________________________\n",
      " Layer (type)                Output Shape              Param #   \n",
      "=================================================================\n",
      " dense (Dense)               (None, 64)                256       \n",
      "                                                                 \n",
      " dense_1 (Dense)             (None, 32)                2080      \n",
      "                                                                 \n",
      " dense_2 (Dense)             (None, 16)                528       \n",
      "                                                                 \n",
      " dense_3 (Dense)             (None, 8)                 136       \n",
      "                                                                 \n",
      " dense_4 (Dense)             (None, 1)                 9         \n",
      "                                                                 \n",
      "=================================================================\n",
      "Total params: 3,009\n",
      "Trainable params: 3,009\n",
      "Non-trainable params: 0\n",
      "_________________________________________________________________\n"
     ]
    }
   ],
   "source": [
    "from tensorflow.keras.models import Sequential\n",
    "from tensorflow.keras.layers import Dense\n",
    "\n",
    "model = Sequential()\n",
    "model.add(Dense(64, activation = 'relu', input_shape = (3,)))\n",
    "model.add(Dense(32, activation = 'relu'))\n",
    "model.add(Dense(16, activation = 'relu'))\n",
    "model.add(Dense(8, activation = 'relu'))\n",
    "model.add(Dense(1))\n",
    "model.compile(optimizer = 'rmsprop', loss = 'mae', metrics = ['mae'])\n",
    "\n",
    "model.summary()"
   ]
  },
  {
   "cell_type": "code",
   "execution_count": 19,
   "id": "8e8ad485",
   "metadata": {},
   "outputs": [
    {
     "name": "stdout",
     "output_type": "stream",
     "text": [
      "Epoch 1/100\n",
      "1/1 [==============================] - 1s 887ms/step - loss: 54.7036 - mae: 54.7036 - val_loss: 52.1418 - val_mae: 52.1418\n",
      "Epoch 2/100\n",
      "1/1 [==============================] - 0s 34ms/step - loss: 51.1119 - mae: 51.1119 - val_loss: 49.1593 - val_mae: 49.1593\n",
      "Epoch 3/100\n",
      "1/1 [==============================] - 0s 35ms/step - loss: 48.7898 - mae: 48.7898 - val_loss: 46.6012 - val_mae: 46.6012\n",
      "Epoch 4/100\n",
      "1/1 [==============================] - 0s 36ms/step - loss: 46.7681 - mae: 46.7681 - val_loss: 44.5480 - val_mae: 44.5480\n",
      "Epoch 5/100\n",
      "1/1 [==============================] - 0s 31ms/step - loss: 45.1471 - mae: 45.1471 - val_loss: 42.5644 - val_mae: 42.5644\n",
      "Epoch 6/100\n",
      "1/1 [==============================] - 0s 33ms/step - loss: 43.5692 - mae: 43.5692 - val_loss: 40.5525 - val_mae: 40.5525\n",
      "Epoch 7/100\n",
      "1/1 [==============================] - 0s 35ms/step - loss: 41.9785 - mae: 41.9785 - val_loss: 38.5263 - val_mae: 38.5263\n",
      "Epoch 8/100\n",
      "1/1 [==============================] - 0s 35ms/step - loss: 40.3740 - mae: 40.3740 - val_loss: 36.4579 - val_mae: 36.4579\n",
      "Epoch 9/100\n",
      "1/1 [==============================] - 0s 31ms/step - loss: 38.7822 - mae: 38.7822 - val_loss: 34.3297 - val_mae: 34.3297\n",
      "Epoch 10/100\n",
      "1/1 [==============================] - 0s 31ms/step - loss: 37.1301 - mae: 37.1301 - val_loss: 32.1233 - val_mae: 32.1233\n",
      "Epoch 11/100\n",
      "1/1 [==============================] - 0s 32ms/step - loss: 35.4188 - mae: 35.4188 - val_loss: 29.8141 - val_mae: 29.8141\n",
      "Epoch 12/100\n",
      "1/1 [==============================] - 0s 32ms/step - loss: 33.6356 - mae: 33.6356 - val_loss: 27.4234 - val_mae: 27.4234\n",
      "Epoch 13/100\n",
      "1/1 [==============================] - 0s 33ms/step - loss: 31.7833 - mae: 31.7833 - val_loss: 24.9410 - val_mae: 24.9410\n",
      "Epoch 14/100\n",
      "1/1 [==============================] - 0s 32ms/step - loss: 29.8607 - mae: 29.8607 - val_loss: 22.3642 - val_mae: 22.3642\n",
      "Epoch 15/100\n",
      "1/1 [==============================] - 0s 37ms/step - loss: 28.2854 - mae: 28.2854 - val_loss: 20.3718 - val_mae: 20.3718\n",
      "Epoch 16/100\n",
      "1/1 [==============================] - 0s 34ms/step - loss: 27.1511 - mae: 27.1511 - val_loss: 18.2313 - val_mae: 18.2313\n",
      "Epoch 17/100\n",
      "1/1 [==============================] - 0s 31ms/step - loss: 25.9658 - mae: 25.9658 - val_loss: 16.1082 - val_mae: 16.1082\n",
      "Epoch 18/100\n",
      "1/1 [==============================] - 0s 29ms/step - loss: 24.7091 - mae: 24.7091 - val_loss: 14.8845 - val_mae: 14.8845\n",
      "Epoch 19/100\n",
      "1/1 [==============================] - 0s 42ms/step - loss: 23.7122 - mae: 23.7122 - val_loss: 14.4654 - val_mae: 14.4654\n",
      "Epoch 20/100\n",
      "1/1 [==============================] - 0s 30ms/step - loss: 23.4420 - mae: 23.4420 - val_loss: 13.8320 - val_mae: 13.8320\n",
      "Epoch 21/100\n",
      "1/1 [==============================] - 0s 35ms/step - loss: 23.1591 - mae: 23.1591 - val_loss: 13.1842 - val_mae: 13.1842\n",
      "Epoch 22/100\n",
      "1/1 [==============================] - 0s 34ms/step - loss: 22.8607 - mae: 22.8607 - val_loss: 12.5020 - val_mae: 12.5020\n",
      "Epoch 23/100\n",
      "1/1 [==============================] - 0s 35ms/step - loss: 22.5457 - mae: 22.5457 - val_loss: 11.8990 - val_mae: 11.8990\n",
      "Epoch 24/100\n",
      "1/1 [==============================] - 0s 30ms/step - loss: 22.2097 - mae: 22.2097 - val_loss: 11.5634 - val_mae: 11.5634\n",
      "Epoch 25/100\n",
      "1/1 [==============================] - 0s 34ms/step - loss: 21.8765 - mae: 21.8765 - val_loss: 11.4978 - val_mae: 11.4978\n",
      "Epoch 26/100\n",
      "1/1 [==============================] - 0s 31ms/step - loss: 21.7786 - mae: 21.7786 - val_loss: 11.4656 - val_mae: 11.4656\n",
      "Epoch 27/100\n",
      "1/1 [==============================] - 0s 31ms/step - loss: 21.7278 - mae: 21.7278 - val_loss: 11.4557 - val_mae: 11.4557\n",
      "Epoch 28/100\n",
      "1/1 [==============================] - 0s 29ms/step - loss: 21.7783 - mae: 21.7783 - val_loss: 11.3971 - val_mae: 11.3971\n",
      "Epoch 29/100\n",
      "1/1 [==============================] - 0s 43ms/step - loss: 21.7924 - mae: 21.7924 - val_loss: 11.3833 - val_mae: 11.3833\n",
      "Epoch 30/100\n",
      "1/1 [==============================] - 0s 34ms/step - loss: 21.6992 - mae: 21.6992 - val_loss: 11.3710 - val_mae: 11.3710\n",
      "Epoch 31/100\n",
      "1/1 [==============================] - 0s 32ms/step - loss: 21.6332 - mae: 21.6332 - val_loss: 11.3564 - val_mae: 11.3564\n",
      "Epoch 32/100\n",
      "1/1 [==============================] - 0s 31ms/step - loss: 21.6401 - mae: 21.6401 - val_loss: 11.2893 - val_mae: 11.2893\n",
      "Epoch 33/100\n",
      "1/1 [==============================] - 0s 31ms/step - loss: 21.7268 - mae: 21.7268 - val_loss: 11.2806 - val_mae: 11.2806\n",
      "Epoch 34/100\n",
      "1/1 [==============================] - 0s 31ms/step - loss: 21.6364 - mae: 21.6364 - val_loss: 11.2650 - val_mae: 11.2650\n",
      "Epoch 35/100\n",
      "1/1 [==============================] - 0s 43ms/step - loss: 21.5787 - mae: 21.5787 - val_loss: 11.2487 - val_mae: 11.2487\n",
      "Epoch 36/100\n",
      "1/1 [==============================] - 0s 33ms/step - loss: 21.5197 - mae: 21.5197 - val_loss: 11.3300 - val_mae: 11.3300\n",
      "Epoch 37/100\n",
      "1/1 [==============================] - 0s 36ms/step - loss: 21.5953 - mae: 21.5953 - val_loss: 11.1580 - val_mae: 11.1580\n",
      "Epoch 38/100\n",
      "1/1 [==============================] - 0s 34ms/step - loss: 21.6207 - mae: 21.6207 - val_loss: 11.1480 - val_mae: 11.1480\n",
      "Epoch 39/100\n",
      "1/1 [==============================] - 0s 35ms/step - loss: 21.5308 - mae: 21.5308 - val_loss: 11.1307 - val_mae: 11.1307\n",
      "Epoch 40/100\n",
      "1/1 [==============================] - 0s 36ms/step - loss: 21.4654 - mae: 21.4654 - val_loss: 11.1133 - val_mae: 11.1133\n",
      "Epoch 41/100\n",
      "1/1 [==============================] - 0s 33ms/step - loss: 21.4308 - mae: 21.4308 - val_loss: 11.0608 - val_mae: 11.0608\n",
      "Epoch 42/100\n",
      "1/1 [==============================] - 0s 33ms/step - loss: 21.4756 - mae: 21.4756 - val_loss: 11.0444 - val_mae: 11.0444\n",
      "Epoch 43/100\n",
      "1/1 [==============================] - 0s 34ms/step - loss: 21.4003 - mae: 21.4003 - val_loss: 11.0364 - val_mae: 11.0364\n",
      "Epoch 44/100\n",
      "1/1 [==============================] - 0s 33ms/step - loss: 21.3548 - mae: 21.3548 - val_loss: 10.9686 - val_mae: 10.9686\n",
      "Epoch 45/100\n",
      "1/1 [==============================] - 0s 32ms/step - loss: 21.4192 - mae: 21.4192 - val_loss: 10.9589 - val_mae: 10.9589\n",
      "Epoch 46/100\n",
      "1/1 [==============================] - 0s 35ms/step - loss: 21.3224 - mae: 21.3224 - val_loss: 11.0681 - val_mae: 11.0681\n",
      "Epoch 47/100\n",
      "1/1 [==============================] - 0s 33ms/step - loss: 21.2892 - mae: 21.2892 - val_loss: 10.8700 - val_mae: 10.8700\n",
      "Epoch 48/100\n",
      "1/1 [==============================] - 0s 33ms/step - loss: 21.3416 - mae: 21.3416 - val_loss: 10.8550 - val_mae: 10.8550\n",
      "Epoch 49/100\n",
      "1/1 [==============================] - 0s 31ms/step - loss: 21.2403 - mae: 21.2403 - val_loss: 11.0827 - val_mae: 11.0827\n",
      "Epoch 50/100\n",
      "1/1 [==============================] - 0s 33ms/step - loss: 21.2078 - mae: 21.2078 - val_loss: 10.7315 - val_mae: 10.7315\n",
      "Epoch 51/100\n",
      "1/1 [==============================] - 0s 32ms/step - loss: 21.2413 - mae: 21.2413 - val_loss: 10.6993 - val_mae: 10.6993\n",
      "Epoch 52/100\n",
      "1/1 [==============================] - 0s 33ms/step - loss: 21.1305 - mae: 21.1305 - val_loss: 11.1141 - val_mae: 11.1141\n",
      "Epoch 53/100\n",
      "1/1 [==============================] - 0s 32ms/step - loss: 21.0790 - mae: 21.0790 - val_loss: 10.5716 - val_mae: 10.5716\n",
      "Epoch 54/100\n",
      "1/1 [==============================] - 0s 30ms/step - loss: 21.1351 - mae: 21.1351 - val_loss: 10.5337 - val_mae: 10.5337\n",
      "Epoch 55/100\n",
      "1/1 [==============================] - 0s 31ms/step - loss: 20.9978 - mae: 20.9978 - val_loss: 11.1437 - val_mae: 11.1437\n",
      "Epoch 56/100\n",
      "1/1 [==============================] - 0s 31ms/step - loss: 20.9855 - mae: 20.9855 - val_loss: 10.5507 - val_mae: 10.5507\n",
      "Epoch 57/100\n",
      "1/1 [==============================] - 0s 32ms/step - loss: 21.0177 - mae: 21.0177 - val_loss: 10.3795 - val_mae: 10.3795\n",
      "Epoch 58/100\n",
      "1/1 [==============================] - 0s 33ms/step - loss: 20.8885 - mae: 20.8885 - val_loss: 11.1135 - val_mae: 11.1135\n",
      "Epoch 59/100\n",
      "1/1 [==============================] - 0s 31ms/step - loss: 20.8742 - mae: 20.8742 - val_loss: 10.5822 - val_mae: 10.5822\n",
      "Epoch 60/100\n",
      "1/1 [==============================] - 0s 32ms/step - loss: 20.9060 - mae: 20.9060 - val_loss: 10.1288 - val_mae: 10.1288\n",
      "Epoch 61/100\n",
      "1/1 [==============================] - 0s 32ms/step - loss: 20.7851 - mae: 20.7851 - val_loss: 10.8578 - val_mae: 10.8578\n"
     ]
    },
    {
     "name": "stdout",
     "output_type": "stream",
     "text": [
      "Epoch 62/100\n",
      "1/1 [==============================] - 0s 32ms/step - loss: 20.7189 - mae: 20.7189 - val_loss: 10.6428 - val_mae: 10.6428\n",
      "Epoch 63/100\n",
      "1/1 [==============================] - 0s 30ms/step - loss: 20.8137 - mae: 20.8137 - val_loss: 9.9659 - val_mae: 9.9659\n",
      "Epoch 64/100\n",
      "1/1 [==============================] - 0s 28ms/step - loss: 20.6696 - mae: 20.6696 - val_loss: 10.7352 - val_mae: 10.7352\n",
      "Epoch 65/100\n",
      "1/1 [==============================] - 0s 29ms/step - loss: 20.5765 - mae: 20.5765 - val_loss: 10.6994 - val_mae: 10.6994\n",
      "Epoch 66/100\n",
      "1/1 [==============================] - 0s 33ms/step - loss: 20.6926 - mae: 20.6926 - val_loss: 10.0672 - val_mae: 10.0672\n",
      "Epoch 67/100\n",
      "1/1 [==============================] - 0s 33ms/step - loss: 20.5578 - mae: 20.5578 - val_loss: 10.4458 - val_mae: 10.4458\n",
      "Epoch 68/100\n",
      "1/1 [==============================] - 0s 34ms/step - loss: 20.4333 - mae: 20.4333 - val_loss: 11.2587 - val_mae: 11.2587\n",
      "Epoch 69/100\n",
      "1/1 [==============================] - 0s 33ms/step - loss: 20.5300 - mae: 20.5300 - val_loss: 10.2331 - val_mae: 10.2331\n",
      "Epoch 70/100\n",
      "1/1 [==============================] - 0s 36ms/step - loss: 20.4453 - mae: 20.4453 - val_loss: 10.1673 - val_mae: 10.1673\n",
      "Epoch 71/100\n",
      "1/1 [==============================] - 0s 36ms/step - loss: 20.2977 - mae: 20.2977 - val_loss: 11.0079 - val_mae: 11.0079\n",
      "Epoch 72/100\n",
      "1/1 [==============================] - 0s 34ms/step - loss: 20.3285 - mae: 20.3285 - val_loss: 10.4140 - val_mae: 10.4140\n",
      "Epoch 73/100\n",
      "1/1 [==============================] - 0s 33ms/step - loss: 20.3190 - mae: 20.3190 - val_loss: 10.2175 - val_mae: 10.2175\n",
      "Epoch 74/100\n",
      "1/1 [==============================] - 0s 33ms/step - loss: 20.1372 - mae: 20.1372 - val_loss: 10.9485 - val_mae: 10.9485\n",
      "Epoch 75/100\n",
      "1/1 [==============================] - 0s 31ms/step - loss: 20.2679 - mae: 20.2679 - val_loss: 11.9556 - val_mae: 11.9556\n",
      "Epoch 76/100\n",
      "1/1 [==============================] - 0s 31ms/step - loss: 20.4358 - mae: 20.4358 - val_loss: 11.1434 - val_mae: 11.1434\n",
      "Epoch 77/100\n",
      "1/1 [==============================] - 0s 31ms/step - loss: 20.2991 - mae: 20.2991 - val_loss: 10.6353 - val_mae: 10.6353\n",
      "Epoch 78/100\n",
      "1/1 [==============================] - 0s 31ms/step - loss: 20.1844 - mae: 20.1844 - val_loss: 10.1076 - val_mae: 10.1076\n",
      "Epoch 79/100\n",
      "1/1 [==============================] - 0s 33ms/step - loss: 20.0726 - mae: 20.0726 - val_loss: 10.2122 - val_mae: 10.2122\n",
      "Epoch 80/100\n",
      "1/1 [==============================] - 0s 36ms/step - loss: 19.9664 - mae: 19.9664 - val_loss: 10.4041 - val_mae: 10.4041\n",
      "Epoch 81/100\n",
      "1/1 [==============================] - 0s 33ms/step - loss: 20.0593 - mae: 20.0593 - val_loss: 10.7649 - val_mae: 10.7649\n",
      "Epoch 82/100\n",
      "1/1 [==============================] - 0s 31ms/step - loss: 20.1107 - mae: 20.1107 - val_loss: 10.2289 - val_mae: 10.2289\n",
      "Epoch 83/100\n",
      "1/1 [==============================] - 0s 30ms/step - loss: 19.9975 - mae: 19.9975 - val_loss: 10.1800 - val_mae: 10.1800\n",
      "Epoch 84/100\n",
      "1/1 [==============================] - 0s 34ms/step - loss: 19.8865 - mae: 19.8865 - val_loss: 10.4065 - val_mae: 10.4065\n",
      "Epoch 85/100\n",
      "1/1 [==============================] - 0s 31ms/step - loss: 20.0586 - mae: 20.0586 - val_loss: 11.5311 - val_mae: 11.5311\n",
      "Epoch 86/100\n",
      "1/1 [==============================] - 0s 32ms/step - loss: 20.0327 - mae: 20.0327 - val_loss: 10.5121 - val_mae: 10.5121\n",
      "Epoch 87/100\n",
      "1/1 [==============================] - 0s 35ms/step - loss: 19.9165 - mae: 19.9165 - val_loss: 10.1487 - val_mae: 10.1487\n",
      "Epoch 88/100\n",
      "1/1 [==============================] - 0s 33ms/step - loss: 19.7997 - mae: 19.7997 - val_loss: 10.3841 - val_mae: 10.3841\n",
      "Epoch 89/100\n",
      "1/1 [==============================] - 0s 32ms/step - loss: 20.0493 - mae: 20.0493 - val_loss: 12.2312 - val_mae: 12.2312\n",
      "Epoch 90/100\n",
      "1/1 [==============================] - 0s 32ms/step - loss: 19.9328 - mae: 19.9328 - val_loss: 10.9265 - val_mae: 10.9265\n",
      "Epoch 91/100\n",
      "1/1 [==============================] - 0s 32ms/step - loss: 19.8060 - mae: 19.8060 - val_loss: 10.3946 - val_mae: 10.3946\n",
      "Epoch 92/100\n",
      "1/1 [==============================] - 0s 31ms/step - loss: 19.7931 - mae: 19.7931 - val_loss: 13.9596 - val_mae: 13.9596\n",
      "Epoch 93/100\n",
      "1/1 [==============================] - 0s 32ms/step - loss: 19.9658 - mae: 19.9658 - val_loss: 10.2863 - val_mae: 10.2863\n",
      "Epoch 94/100\n",
      "1/1 [==============================] - 0s 30ms/step - loss: 19.7447 - mae: 19.7447 - val_loss: 10.3457 - val_mae: 10.3457\n",
      "Epoch 95/100\n",
      "1/1 [==============================] - 0s 32ms/step - loss: 19.8810 - mae: 19.8810 - val_loss: 12.6978 - val_mae: 12.6978\n",
      "Epoch 96/100\n",
      "1/1 [==============================] - 0s 32ms/step - loss: 19.8667 - mae: 19.8667 - val_loss: 11.7892 - val_mae: 11.7892\n",
      "Epoch 97/100\n",
      "1/1 [==============================] - 0s 32ms/step - loss: 19.7575 - mae: 19.7575 - val_loss: 11.0203 - val_mae: 11.0203\n",
      "Epoch 98/100\n",
      "1/1 [==============================] - 0s 31ms/step - loss: 19.6473 - mae: 19.6473 - val_loss: 10.7832 - val_mae: 10.7832\n",
      "Epoch 99/100\n",
      "1/1 [==============================] - 0s 34ms/step - loss: 19.8549 - mae: 19.8549 - val_loss: 13.7752 - val_mae: 13.7752\n",
      "Epoch 100/100\n",
      "1/1 [==============================] - 0s 30ms/step - loss: 19.8200 - mae: 19.8200 - val_loss: 10.6976 - val_mae: 10.6976\n"
     ]
    }
   ],
   "source": [
    "N_EPOCHS = 100\n",
    "history = model.fit(X_train, y_train, epochs = N_EPOCHS, validation_data=(X_test, y_test))"
   ]
  },
  {
   "cell_type": "code",
   "execution_count": 20,
   "id": "029c6919",
   "metadata": {},
   "outputs": [
    {
     "name": "stdout",
     "output_type": "stream",
     "text": [
      "1/1 [==============================] - 0s 24ms/step - loss: 10.6976 - mae: 10.6976\n"
     ]
    },
    {
     "data": {
      "text/plain": [
       "[10.697638511657715, 10.697638511657715]"
      ]
     },
     "execution_count": 20,
     "metadata": {},
     "output_type": "execute_result"
    }
   ],
   "source": [
    "model.evaluate(X_test, y_test)"
   ]
  },
  {
   "cell_type": "code",
   "execution_count": 21,
   "id": "4a42fd1b",
   "metadata": {},
   "outputs": [
    {
     "data": {
      "image/png": "[encoded data removed]",
      "text/plain": [
       "<Figure size 720x504 with 1 Axes>"
      ]
     },
     "metadata": {},
     "output_type": "display_data"
    }
   ],
   "source": [
    "import matplotlib.pyplot as plt\n",
    "plt.figure(figsize=(10,7))\n",
    "plt.plot(range(N_EPOCHS), history.history['loss'], label='train loss')\n",
    "plt.plot(range(N_EPOCHS), history.history['val_loss'], label='test loss')\n",
    "plt.xlabel('Epoch')\n",
    "plt.ylabel('Loss')\n",
    "plt.legend()\n",
    "plt.show()"
   ]
  },
  {
   "cell_type": "code",
   "execution_count": 23,
   "id": "c4a72128",
   "metadata": {},
   "outputs": [
    {
     "data": {
      "image/png": "[encoded data removed]",
      "text/plain": [
       "<Figure size 720x504 with 1 Axes>"
      ]
     },
     "metadata": {},
     "output_type": "display_data"
    }
   ],
   "source": [
    "import matplotlib.pyplot as plt\n",
    "plt.figure(figsize=(10,7))\n",
    "plt.plot(range(N_EPOCHS), history.history['mae'], label='mae')\n",
    "plt.plot(range(N_EPOCHS), history.history['val_mae'], label='test mae')\n",
    "plt.xlabel('Epoch')\n",
    "plt.ylabel('Loss')\n",
    "plt.legend()\n",
    "plt.show()"
   ]
  }
 ],
 "metadata": {
  "kernelspec": {
   "display_name": "Python 3 (ipykernel)",
   "language": "python",
   "name": "python3"
  },
  "language_info": {
   "codemirror_mode": {
    "name": "ipython",
    "version": 3
   },
   "file_extension": ".py",
   "mimetype": "text/x-python",
   "name": "python",
   "nbconvert_exporter": "python",
   "pygments_lexer": "ipython3",
   "version": "3.9.12"
  }
 },
 "nbformat": 4,
 "nbformat_minor": 5
}
