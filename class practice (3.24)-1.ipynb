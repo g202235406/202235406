{
 "cells": [
  {
   "cell_type": "code",
   "execution_count": 1,
   "id": "21267f87",
   "metadata": {},
   "outputs": [],
   "source": [
    "import numpy as np\n",
    "import matplotlib.pyplot as plt\n",
    "import pandas as pd\n",
    "import seaborn as sns\n",
    "from scipy import stats  # 과학용 계산 라이브러리\n",
    "from sklearn.datasets import load_linnerud"
   ]
  },
  {
   "cell_type": "code",
   "execution_count": 2,
   "id": "cd83a5b5",
   "metadata": {},
   "outputs": [],
   "source": [
    "lin = load_linnerud()"
   ]
  },
  {
   "cell_type": "code",
   "execution_count": 3,
   "id": "a2b5c79c",
   "metadata": {},
   "outputs": [
    {
     "data": {
      "text/plain": [
       "{'data': array([[  5., 162.,  60.],\n",
       "        [  2., 110.,  60.],\n",
       "        [ 12., 101., 101.],\n",
       "        [ 12., 105.,  37.],\n",
       "        [ 13., 155.,  58.],\n",
       "        [  4., 101.,  42.],\n",
       "        [  8., 101.,  38.],\n",
       "        [  6., 125.,  40.],\n",
       "        [ 15., 200.,  40.],\n",
       "        [ 17., 251., 250.],\n",
       "        [ 17., 120.,  38.],\n",
       "        [ 13., 210., 115.],\n",
       "        [ 14., 215., 105.],\n",
       "        [  1.,  50.,  50.],\n",
       "        [  6.,  70.,  31.],\n",
       "        [ 12., 210., 120.],\n",
       "        [  4.,  60.,  25.],\n",
       "        [ 11., 230.,  80.],\n",
       "        [ 15., 225.,  73.],\n",
       "        [  2., 110.,  43.]]),\n",
       " 'feature_names': ['Chins', 'Situps', 'Jumps'],\n",
       " 'target': array([[191.,  36.,  50.],\n",
       "        [189.,  37.,  52.],\n",
       "        [193.,  38.,  58.],\n",
       "        [162.,  35.,  62.],\n",
       "        [189.,  35.,  46.],\n",
       "        [182.,  36.,  56.],\n",
       "        [211.,  38.,  56.],\n",
       "        [167.,  34.,  60.],\n",
       "        [176.,  31.,  74.],\n",
       "        [154.,  33.,  56.],\n",
       "        [169.,  34.,  50.],\n",
       "        [166.,  33.,  52.],\n",
       "        [154.,  34.,  64.],\n",
       "        [247.,  46.,  50.],\n",
       "        [193.,  36.,  46.],\n",
       "        [202.,  37.,  62.],\n",
       "        [176.,  37.,  54.],\n",
       "        [157.,  32.,  52.],\n",
       "        [156.,  33.,  54.],\n",
       "        [138.,  33.,  68.]]),\n",
       " 'target_names': ['Weight', 'Waist', 'Pulse'],\n",
       " 'frame': None,\n",
       " 'DESCR': '.. _linnerrud_dataset:\\n\\nLinnerrud dataset\\n-----------------\\n\\n**Data Set Characteristics:**\\n\\n    :Number of Instances: 20\\n    :Number of Attributes: 3\\n    :Missing Attribute Values: None\\n\\nThe Linnerud dataset is a multi-output regression dataset. It consists of three\\nexercise (data) and three physiological (target) variables collected from\\ntwenty middle-aged men in a fitness club:\\n\\n- *physiological* - CSV containing 20 observations on 3 physiological variables:\\n   Weight, Waist and Pulse.\\n- *exercise* - CSV containing 20 observations on 3 exercise variables:\\n   Chins, Situps and Jumps.\\n\\n.. topic:: References\\n\\n  * Tenenhaus, M. (1998). La regression PLS: theorie et pratique. Paris:\\n    Editions Technic.\\n',\n",
       " 'data_filename': 'linnerud_exercise.csv',\n",
       " 'target_filename': 'linnerud_physiological.csv',\n",
       " 'data_module': 'sklearn.datasets.data'}"
      ]
     },
     "execution_count": 3,
     "metadata": {},
     "output_type": "execute_result"
    }
   ],
   "source": [
    "lin"
   ]
  },
  {
   "cell_type": "code",
   "execution_count": 4,
   "id": "90ebfff5",
   "metadata": {},
   "outputs": [],
   "source": [
    "df = pd.DataFrame(lin.data, columns = lin.feature_names)"
   ]
  },
  {
   "cell_type": "code",
   "execution_count": 5,
   "id": "d0a87b0d",
   "metadata": {},
   "outputs": [
    {
     "data": {
      "text/html": [
       "<div>\n",
       "<style scoped>\n",
       "    .dataframe tbody tr th:only-of-type {\n",
       "        vertical-align: middle;\n",
       "    }\n",
       "\n",
       "    .dataframe tbody tr th {\n",
       "        vertical-align: top;\n",
       "    }\n",
       "\n",
       "    .dataframe thead th {\n",
       "        text-align: right;\n",
       "    }\n",
       "</style>\n",
       "<table border=\"1\" class=\"dataframe\">\n",
       "  <thead>\n",
       "    <tr style=\"text-align: right;\">\n",
       "      <th></th>\n",
       "      <th>Chins</th>\n",
       "      <th>Situps</th>\n",
       "      <th>Jumps</th>\n",
       "    </tr>\n",
       "  </thead>\n",
       "  <tbody>\n",
       "    <tr>\n",
       "      <th>0</th>\n",
       "      <td>5.0</td>\n",
       "      <td>162.0</td>\n",
       "      <td>60.0</td>\n",
       "    </tr>\n",
       "    <tr>\n",
       "      <th>1</th>\n",
       "      <td>2.0</td>\n",
       "      <td>110.0</td>\n",
       "      <td>60.0</td>\n",
       "    </tr>\n",
       "    <tr>\n",
       "      <th>2</th>\n",
       "      <td>12.0</td>\n",
       "      <td>101.0</td>\n",
       "      <td>101.0</td>\n",
       "    </tr>\n",
       "    <tr>\n",
       "      <th>3</th>\n",
       "      <td>12.0</td>\n",
       "      <td>105.0</td>\n",
       "      <td>37.0</td>\n",
       "    </tr>\n",
       "    <tr>\n",
       "      <th>4</th>\n",
       "      <td>13.0</td>\n",
       "      <td>155.0</td>\n",
       "      <td>58.0</td>\n",
       "    </tr>\n",
       "  </tbody>\n",
       "</table>\n",
       "</div>"
      ],
      "text/plain": [
       "   Chins  Situps  Jumps\n",
       "0    5.0   162.0   60.0\n",
       "1    2.0   110.0   60.0\n",
       "2   12.0   101.0  101.0\n",
       "3   12.0   105.0   37.0\n",
       "4   13.0   155.0   58.0"
      ]
     },
     "execution_count": 5,
     "metadata": {},
     "output_type": "execute_result"
    }
   ],
   "source": [
    "df.head()"
   ]
  },
  {
   "cell_type": "code",
   "execution_count": 6,
   "id": "36870e60",
   "metadata": {},
   "outputs": [
    {
     "data": {
      "text/plain": [
       "Index(['Chins', 'Situps', 'Jumps'], dtype='object')"
      ]
     },
     "execution_count": 6,
     "metadata": {},
     "output_type": "execute_result"
    }
   ],
   "source": [
    "df.columns"
   ]
  },
  {
   "cell_type": "code",
   "execution_count": 7,
   "id": "8e2fe85f",
   "metadata": {},
   "outputs": [
    {
     "data": {
      "text/plain": [
       "(20, 3)"
      ]
     },
     "execution_count": 7,
     "metadata": {},
     "output_type": "execute_result"
    }
   ],
   "source": [
    "df.shape"
   ]
  },
  {
   "cell_type": "code",
   "execution_count": 8,
   "id": "0f4dc81b",
   "metadata": {},
   "outputs": [
    {
     "data": {
      "text/html": [
       "<div>\n",
       "<style scoped>\n",
       "    .dataframe tbody tr th:only-of-type {\n",
       "        vertical-align: middle;\n",
       "    }\n",
       "\n",
       "    .dataframe tbody tr th {\n",
       "        vertical-align: top;\n",
       "    }\n",
       "\n",
       "    .dataframe thead th {\n",
       "        text-align: right;\n",
       "    }\n",
       "</style>\n",
       "<table border=\"1\" class=\"dataframe\">\n",
       "  <thead>\n",
       "    <tr style=\"text-align: right;\">\n",
       "      <th></th>\n",
       "      <th>Chins</th>\n",
       "      <th>Situps</th>\n",
       "      <th>Jumps</th>\n",
       "      <th>Weight</th>\n",
       "      <th>Waist</th>\n",
       "      <th>Pulse</th>\n",
       "    </tr>\n",
       "  </thead>\n",
       "  <tbody>\n",
       "    <tr>\n",
       "      <th>0</th>\n",
       "      <td>5.0</td>\n",
       "      <td>162.0</td>\n",
       "      <td>60.0</td>\n",
       "      <td>191.0</td>\n",
       "      <td>36.0</td>\n",
       "      <td>50.0</td>\n",
       "    </tr>\n",
       "    <tr>\n",
       "      <th>1</th>\n",
       "      <td>2.0</td>\n",
       "      <td>110.0</td>\n",
       "      <td>60.0</td>\n",
       "      <td>189.0</td>\n",
       "      <td>37.0</td>\n",
       "      <td>52.0</td>\n",
       "    </tr>\n",
       "    <tr>\n",
       "      <th>2</th>\n",
       "      <td>12.0</td>\n",
       "      <td>101.0</td>\n",
       "      <td>101.0</td>\n",
       "      <td>193.0</td>\n",
       "      <td>38.0</td>\n",
       "      <td>58.0</td>\n",
       "    </tr>\n",
       "    <tr>\n",
       "      <th>3</th>\n",
       "      <td>12.0</td>\n",
       "      <td>105.0</td>\n",
       "      <td>37.0</td>\n",
       "      <td>162.0</td>\n",
       "      <td>35.0</td>\n",
       "      <td>62.0</td>\n",
       "    </tr>\n",
       "    <tr>\n",
       "      <th>4</th>\n",
       "      <td>13.0</td>\n",
       "      <td>155.0</td>\n",
       "      <td>58.0</td>\n",
       "      <td>189.0</td>\n",
       "      <td>35.0</td>\n",
       "      <td>46.0</td>\n",
       "    </tr>\n",
       "  </tbody>\n",
       "</table>\n",
       "</div>"
      ],
      "text/plain": [
       "   Chins  Situps  Jumps  Weight  Waist  Pulse\n",
       "0    5.0   162.0   60.0   191.0   36.0   50.0\n",
       "1    2.0   110.0   60.0   189.0   37.0   52.0\n",
       "2   12.0   101.0  101.0   193.0   38.0   58.0\n",
       "3   12.0   105.0   37.0   162.0   35.0   62.0\n",
       "4   13.0   155.0   58.0   189.0   35.0   46.0"
      ]
     },
     "execution_count": 8,
     "metadata": {},
     "output_type": "execute_result"
    }
   ],
   "source": [
    "df[['Weight', 'Waist', 'Pulse']] = lin.target\n",
    "df.head()"
   ]
  },
  {
   "cell_type": "code",
   "execution_count": 9,
   "id": "dabc2d3d",
   "metadata": {},
   "outputs": [
    {
     "data": {
      "text/html": [
       "<div>\n",
       "<style scoped>\n",
       "    .dataframe tbody tr th:only-of-type {\n",
       "        vertical-align: middle;\n",
       "    }\n",
       "\n",
       "    .dataframe tbody tr th {\n",
       "        vertical-align: top;\n",
       "    }\n",
       "\n",
       "    .dataframe thead th {\n",
       "        text-align: right;\n",
       "    }\n",
       "</style>\n",
       "<table border=\"1\" class=\"dataframe\">\n",
       "  <thead>\n",
       "    <tr style=\"text-align: right;\">\n",
       "      <th></th>\n",
       "      <th>Chins</th>\n",
       "      <th>Situps</th>\n",
       "      <th>Jumps</th>\n",
       "      <th>Weight</th>\n",
       "    </tr>\n",
       "  </thead>\n",
       "  <tbody>\n",
       "    <tr>\n",
       "      <th>0</th>\n",
       "      <td>5.0</td>\n",
       "      <td>162.0</td>\n",
       "      <td>60.0</td>\n",
       "      <td>191.0</td>\n",
       "    </tr>\n",
       "    <tr>\n",
       "      <th>1</th>\n",
       "      <td>2.0</td>\n",
       "      <td>110.0</td>\n",
       "      <td>60.0</td>\n",
       "      <td>189.0</td>\n",
       "    </tr>\n",
       "    <tr>\n",
       "      <th>2</th>\n",
       "      <td>12.0</td>\n",
       "      <td>101.0</td>\n",
       "      <td>101.0</td>\n",
       "      <td>193.0</td>\n",
       "    </tr>\n",
       "    <tr>\n",
       "      <th>3</th>\n",
       "      <td>12.0</td>\n",
       "      <td>105.0</td>\n",
       "      <td>37.0</td>\n",
       "      <td>162.0</td>\n",
       "    </tr>\n",
       "    <tr>\n",
       "      <th>4</th>\n",
       "      <td>13.0</td>\n",
       "      <td>155.0</td>\n",
       "      <td>58.0</td>\n",
       "      <td>189.0</td>\n",
       "    </tr>\n",
       "  </tbody>\n",
       "</table>\n",
       "</div>"
      ],
      "text/plain": [
       "   Chins  Situps  Jumps  Weight\n",
       "0    5.0   162.0   60.0   191.0\n",
       "1    2.0   110.0   60.0   189.0\n",
       "2   12.0   101.0  101.0   193.0\n",
       "3   12.0   105.0   37.0   162.0\n",
       "4   13.0   155.0   58.0   189.0"
      ]
     },
     "execution_count": 9,
     "metadata": {},
     "output_type": "execute_result"
    }
   ],
   "source": [
    "df_1 = df[['Chins', 'Situps', 'Jumps','Weight']]\n",
    "df_1.head()"
   ]
  },
  {
   "cell_type": "code",
   "execution_count": 10,
   "id": "376f8685",
   "metadata": {},
   "outputs": [
    {
     "data": {
      "text/html": [
       "<div>\n",
       "<style scoped>\n",
       "    .dataframe tbody tr th:only-of-type {\n",
       "        vertical-align: middle;\n",
       "    }\n",
       "\n",
       "    .dataframe tbody tr th {\n",
       "        vertical-align: top;\n",
       "    }\n",
       "\n",
       "    .dataframe thead th {\n",
       "        text-align: right;\n",
       "    }\n",
       "</style>\n",
       "<table border=\"1\" class=\"dataframe\">\n",
       "  <thead>\n",
       "    <tr style=\"text-align: right;\">\n",
       "      <th></th>\n",
       "      <th>Chins</th>\n",
       "      <th>Situps</th>\n",
       "      <th>Jumps</th>\n",
       "      <th>Waist</th>\n",
       "    </tr>\n",
       "  </thead>\n",
       "  <tbody>\n",
       "    <tr>\n",
       "      <th>0</th>\n",
       "      <td>5.0</td>\n",
       "      <td>162.0</td>\n",
       "      <td>60.0</td>\n",
       "      <td>36.0</td>\n",
       "    </tr>\n",
       "    <tr>\n",
       "      <th>1</th>\n",
       "      <td>2.0</td>\n",
       "      <td>110.0</td>\n",
       "      <td>60.0</td>\n",
       "      <td>37.0</td>\n",
       "    </tr>\n",
       "    <tr>\n",
       "      <th>2</th>\n",
       "      <td>12.0</td>\n",
       "      <td>101.0</td>\n",
       "      <td>101.0</td>\n",
       "      <td>38.0</td>\n",
       "    </tr>\n",
       "    <tr>\n",
       "      <th>3</th>\n",
       "      <td>12.0</td>\n",
       "      <td>105.0</td>\n",
       "      <td>37.0</td>\n",
       "      <td>35.0</td>\n",
       "    </tr>\n",
       "    <tr>\n",
       "      <th>4</th>\n",
       "      <td>13.0</td>\n",
       "      <td>155.0</td>\n",
       "      <td>58.0</td>\n",
       "      <td>35.0</td>\n",
       "    </tr>\n",
       "  </tbody>\n",
       "</table>\n",
       "</div>"
      ],
      "text/plain": [
       "   Chins  Situps  Jumps  Waist\n",
       "0    5.0   162.0   60.0   36.0\n",
       "1    2.0   110.0   60.0   37.0\n",
       "2   12.0   101.0  101.0   38.0\n",
       "3   12.0   105.0   37.0   35.0\n",
       "4   13.0   155.0   58.0   35.0"
      ]
     },
     "execution_count": 10,
     "metadata": {},
     "output_type": "execute_result"
    }
   ],
   "source": [
    "df_2 = df[['Chins', 'Situps', 'Jumps', 'Waist']]\n",
    "df_2.head()"
   ]
  },
  {
   "cell_type": "code",
   "execution_count": 11,
   "id": "cd2d91c1",
   "metadata": {},
   "outputs": [
    {
     "data": {
      "text/plain": [
       "Index(['Chins', 'Situps', 'Jumps', 'Weight'], dtype='object')"
      ]
     },
     "execution_count": 11,
     "metadata": {},
     "output_type": "execute_result"
    }
   ],
   "source": [
    "df_1.columns"
   ]
  },
  {
   "cell_type": "code",
   "execution_count": 12,
   "id": "38802c32",
   "metadata": {},
   "outputs": [
    {
     "data": {
      "image/png": "[encoded data removed]",
      "text/plain": [
       "<Figure size 1152x576 with 3 Axes>"
      ]
     },
     "metadata": {
      "needs_background": "light"
     },
     "output_type": "display_data"
    }
   ],
   "source": [
    "fig, axs = plt.subplots(figsize=(16,8), ncols=3)\n",
    "\n",
    "lm_features = ['Chins', 'Situps', 'Jumps']\n",
    "\n",
    "for i, feature in enumerate(lm_features):\n",
    "    sns.regplot(x=feature, y='Waist', data=df, ax=axs[i])"
   ]
  },
  {
   "cell_type": "code",
   "execution_count": 13,
   "id": "a994435b",
   "metadata": {},
   "outputs": [
    {
     "data": {
      "image/png": "[encoded data removed]",
      "text/plain": [
       "<Figure size 720x720 with 1 Axes>"
      ]
     },
     "metadata": {
      "needs_background": "light"
     },
     "output_type": "display_data"
    }
   ],
   "source": [
    "df_corr=df_1.corr()\n",
    "\n",
    "#히트맵\n",
    "plt.figure(figsize=(10,10))\n",
    "sns.set(font_scale=0.8)\n",
    "sns.heatmap(df_corr, annot=True, cbar=False)\n",
    "plt.show()"
   ]
  },
  {
   "cell_type": "code",
   "execution_count": 14,
   "id": "2066a506",
   "metadata": {},
   "outputs": [],
   "source": [
    "from sklearn.model_selection import train_test_split\n",
    "from sklearn.linear_model import LinearRegression\n",
    "from sklearn.metrics import mean_squared_error, r2_score"
   ]
  },
  {
   "cell_type": "code",
   "execution_count": 15,
   "id": "76ce5873",
   "metadata": {},
   "outputs": [
    {
     "name": "stdout",
     "output_type": "stream",
     "text": [
      "(15, 3) (15,)\n",
      "(5, 3) (5,)\n"
     ]
    }
   ],
   "source": [
    "from sklearn.model_selection import train_test_split\n",
    "\n",
    "x_data=df.loc[:, ['Chins', 'Situps', 'Jumps']]\n",
    "y_data=df.loc[:, 'Weight']\n",
    "X_train, X_test, y_train, y_test=train_test_split(x_data,\n",
    "                                                  y_data,\n",
    "                                                  test_size=0.25,\n",
    "                                                  shuffle=True,\n",
    "                                                  random_state=12)\n",
    "print(X_train.shape, y_train.shape)\n",
    "print(X_test.shape, y_test.shape)"
   ]
  },
  {
   "cell_type": "code",
   "execution_count": 16,
   "id": "cebe366f",
   "metadata": {},
   "outputs": [
    {
     "data": {
      "text/html": [
       "<div>\n",
       "<style scoped>\n",
       "    .dataframe tbody tr th:only-of-type {\n",
       "        vertical-align: middle;\n",
       "    }\n",
       "\n",
       "    .dataframe tbody tr th {\n",
       "        vertical-align: top;\n",
       "    }\n",
       "\n",
       "    .dataframe thead th {\n",
       "        text-align: right;\n",
       "    }\n",
       "</style>\n",
       "<table border=\"1\" class=\"dataframe\">\n",
       "  <thead>\n",
       "    <tr style=\"text-align: right;\">\n",
       "      <th></th>\n",
       "      <th>Chins</th>\n",
       "      <th>Situps</th>\n",
       "      <th>Jumps</th>\n",
       "    </tr>\n",
       "  </thead>\n",
       "  <tbody>\n",
       "    <tr>\n",
       "      <th>16</th>\n",
       "      <td>4.0</td>\n",
       "      <td>60.0</td>\n",
       "      <td>25.0</td>\n",
       "    </tr>\n",
       "    <tr>\n",
       "      <th>10</th>\n",
       "      <td>17.0</td>\n",
       "      <td>120.0</td>\n",
       "      <td>38.0</td>\n",
       "    </tr>\n",
       "    <tr>\n",
       "      <th>8</th>\n",
       "      <td>15.0</td>\n",
       "      <td>200.0</td>\n",
       "      <td>40.0</td>\n",
       "    </tr>\n",
       "    <tr>\n",
       "      <th>5</th>\n",
       "      <td>4.0</td>\n",
       "      <td>101.0</td>\n",
       "      <td>42.0</td>\n",
       "    </tr>\n",
       "    <tr>\n",
       "      <th>4</th>\n",
       "      <td>13.0</td>\n",
       "      <td>155.0</td>\n",
       "      <td>58.0</td>\n",
       "    </tr>\n",
       "  </tbody>\n",
       "</table>\n",
       "</div>"
      ],
      "text/plain": [
       "    Chins  Situps  Jumps\n",
       "16    4.0    60.0   25.0\n",
       "10   17.0   120.0   38.0\n",
       "8    15.0   200.0   40.0\n",
       "5     4.0   101.0   42.0\n",
       "4    13.0   155.0   58.0"
      ]
     },
     "execution_count": 16,
     "metadata": {},
     "output_type": "execute_result"
    }
   ],
   "source": [
    "X_train.head()"
   ]
  },
  {
   "cell_type": "code",
   "execution_count": 17,
   "id": "4ef77df3",
   "metadata": {},
   "outputs": [
    {
     "data": {
      "text/plain": [
       "16    176.0\n",
       "10    169.0\n",
       "8     176.0\n",
       "5     182.0\n",
       "4     189.0\n",
       "Name: Weight, dtype: float64"
      ]
     },
     "execution_count": 17,
     "metadata": {},
     "output_type": "execute_result"
    }
   ],
   "source": [
    "y_train.head()"
   ]
  },
  {
   "cell_type": "code",
   "execution_count": 18,
   "id": "fe8f0147",
   "metadata": {},
   "outputs": [],
   "source": [
    "lr = LinearRegression()"
   ]
  },
  {
   "cell_type": "code",
   "execution_count": 19,
   "id": "60677a15",
   "metadata": {},
   "outputs": [
    {
     "data": {
      "text/plain": [
       "LinearRegression()"
      ]
     },
     "execution_count": 19,
     "metadata": {},
     "output_type": "execute_result"
    }
   ],
   "source": [
    "lr.fit(X_train, y_train)"
   ]
  },
  {
   "cell_type": "code",
   "execution_count": 20,
   "id": "f15bd376",
   "metadata": {},
   "outputs": [
    {
     "name": "stdout",
     "output_type": "stream",
     "text": [
      "회귀계수(기울기): [-1.  -0.1  0.2]\n",
      "상수항(절편): 199.3\n"
     ]
    }
   ],
   "source": [
    "print(\"회귀계수(기울기):\", np.round(lr.coef_, 1)) #np: numpy, coef_: 피처에 대한 회귀 계수 값\n",
    "print(\"상수항(절편):\", np.round(lr.intercept_, 1))  #intercept_: 상수항(절편) 값"
   ]
  },
  {
   "cell_type": "code",
   "execution_count": 21,
   "id": "5979794a",
   "metadata": {},
   "outputs": [
    {
     "name": "stdout",
     "output_type": "stream",
     "text": [
      "(15, 3) (5, 3)\n"
     ]
    }
   ],
   "source": [
    "y_preds = lr.predict(X_test)\n",
    "print(X_train.shape, X_test.shape)"
   ]
  },
  {
   "cell_type": "code",
   "execution_count": 22,
   "id": "dea8749e",
   "metadata": {},
   "outputs": [
    {
     "name": "stdout",
     "output_type": "stream",
     "text": [
      "MSE : 1264.513, RMSE: 35.560\n",
      "Variance score : 0.130\n"
     ]
    }
   ],
   "source": [
    "mse = mean_squared_error(y_test, y_preds)\n",
    "rmse = np.sqrt(mse)\n",
    "print(f'MSE : {mse:.3f}, RMSE: {rmse:.3f}')\n",
    "print(f'Variance score : {r2_score(y_test, y_preds):.3f}')"
   ]
  },
  {
   "cell_type": "code",
   "execution_count": 23,
   "id": "352b8ab4",
   "metadata": {},
   "outputs": [
    {
     "name": "stdout",
     "output_type": "stream",
     "text": [
      "절편 값: 199.33150389629282\n",
      "회귀계수: [-1.  -0.1  0.2]\n"
     ]
    }
   ],
   "source": [
    "print(\"절편 값:\", lr.intercept_) \n",
    "print(\"회귀계수:\", np.round(lr.coef_,1))"
   ]
  },
  {
   "cell_type": "code",
   "execution_count": 24,
   "id": "0d526c72",
   "metadata": {},
   "outputs": [
    {
     "data": {
      "image/png": "[encoded data removed]",
      "text/plain": [
       "<Figure size 720x360 with 1 Axes>"
      ]
     },
     "metadata": {},
     "output_type": "display_data"
    }
   ],
   "source": [
    "y_test_pred=lr.predict(X_test)\n",
    "plt.figure(figsize=(10,5))\n",
    "plt.scatter(X_test['Situps'], y_test, label='y_test')\n",
    "plt.scatter(X_test['Situps'], y_test_pred, c='r', label='y_pred')\n",
    "#plt.plot(X_train, lr.predict(X_train), color='blue')\n",
    "plt.show()"
   ]
  },
  {
   "cell_type": "code",
   "execution_count": 25,
   "id": "ec55f69f",
   "metadata": {},
   "outputs": [
    {
     "data": {
      "image/png": "[encoded data removed]",
      "text/plain": [
       "<Figure size 720x360 with 1 Axes>"
      ]
     },
     "metadata": {},
     "output_type": "display_data"
    }
   ],
   "source": [
    "y_test_pred=lr.predict(X_test)\n",
    "plt.figure(figsize=(10,5))\n",
    "plt.scatter(X_test['Chins'], y_test, label='y_test')\n",
    "plt.scatter(X_test['Chins'], y_test_pred, c='r', label='y_pred')\n",
    "#plt.plot(X_train, lr.predict(X_train), color='blue')\n",
    "plt.show()"
   ]
  },
  {
   "cell_type": "code",
   "execution_count": 26,
   "id": "0d574ca1",
   "metadata": {},
   "outputs": [
    {
     "data": {
      "image/png": "[encoded data removed]",
      "text/plain": [
       "<Figure size 720x360 with 1 Axes>"
      ]
     },
     "metadata": {},
     "output_type": "display_data"
    }
   ],
   "source": [
    "y_test_pred=lr.predict(X_test)\n",
    "plt.figure(figsize=(10,5))\n",
    "plt.scatter(X_test['Jumps'], y_test, label='y_test')\n",
    "plt.scatter(X_test['Jumps'], y_test_pred, c='r', label='y_pred')\n",
    "#plt.plot(X_train, lr.predict(X_train), color='blue')\n",
    "plt.show()"
   ]
  },
  {
   "cell_type": "code",
   "execution_count": 27,
   "id": "4c2d78a3",
   "metadata": {},
   "outputs": [
    {
     "data": {
      "text/html": [
       "<div>\n",
       "<style scoped>\n",
       "    .dataframe tbody tr th:only-of-type {\n",
       "        vertical-align: middle;\n",
       "    }\n",
       "\n",
       "    .dataframe tbody tr th {\n",
       "        vertical-align: top;\n",
       "    }\n",
       "\n",
       "    .dataframe thead th {\n",
       "        text-align: right;\n",
       "    }\n",
       "</style>\n",
       "<table border=\"1\" class=\"dataframe\">\n",
       "  <thead>\n",
       "    <tr style=\"text-align: right;\">\n",
       "      <th></th>\n",
       "      <th>Chins</th>\n",
       "      <th>Situps</th>\n",
       "      <th>Jumps</th>\n",
       "    </tr>\n",
       "  </thead>\n",
       "  <tbody>\n",
       "    <tr>\n",
       "      <th>19</th>\n",
       "      <td>2.0</td>\n",
       "      <td>110.0</td>\n",
       "      <td>43.0</td>\n",
       "    </tr>\n",
       "    <tr>\n",
       "      <th>13</th>\n",
       "      <td>1.0</td>\n",
       "      <td>50.0</td>\n",
       "      <td>50.0</td>\n",
       "    </tr>\n",
       "    <tr>\n",
       "      <th>9</th>\n",
       "      <td>17.0</td>\n",
       "      <td>251.0</td>\n",
       "      <td>250.0</td>\n",
       "    </tr>\n",
       "    <tr>\n",
       "      <th>7</th>\n",
       "      <td>6.0</td>\n",
       "      <td>125.0</td>\n",
       "      <td>40.0</td>\n",
       "    </tr>\n",
       "    <tr>\n",
       "      <th>14</th>\n",
       "      <td>6.0</td>\n",
       "      <td>70.0</td>\n",
       "      <td>31.0</td>\n",
       "    </tr>\n",
       "  </tbody>\n",
       "</table>\n",
       "</div>"
      ],
      "text/plain": [
       "    Chins  Situps  Jumps\n",
       "19    2.0   110.0   43.0\n",
       "13    1.0    50.0   50.0\n",
       "9    17.0   251.0  250.0\n",
       "7     6.0   125.0   40.0\n",
       "14    6.0    70.0   31.0"
      ]
     },
     "execution_count": 27,
     "metadata": {},
     "output_type": "execute_result"
    }
   ],
   "source": [
    "X_test"
   ]
  },
  {
   "cell_type": "code",
   "execution_count": 28,
   "id": "f70fd7c0",
   "metadata": {},
   "outputs": [
    {
     "name": "stdout",
     "output_type": "stream",
     "text": [
      "(15, 3)\n"
     ]
    }
   ],
   "source": [
    "from sklearn.preprocessing import PolynomialFeatures\n",
    "poly = PolynomialFeatures(degree = 1, include_bias=False)\n",
    "poly.fit(X_train)\n",
    "train_poly = poly.transform(X_train)\n",
    "test_poly = poly.transform(X_test)\n",
    "print(train_poly.shape)"
   ]
  },
  {
   "cell_type": "code",
   "execution_count": 29,
   "id": "9ecc10f1",
   "metadata": {},
   "outputs": [],
   "source": [
    "from sklearn.preprocessing import StandardScaler\n",
    "ss = StandardScaler()\n",
    "ss.fit(train_poly)\n",
    "X_train = ss.transform(train_poly)\n",
    "X_test = ss.transform(test_poly)"
   ]
  },
  {
   "cell_type": "code",
   "execution_count": 30,
   "id": "3d11a05d",
   "metadata": {},
   "outputs": [],
   "source": [
    "from sklearn.linear_model import Ridge\n",
    "from sklearn.linear_model import Lasso"
   ]
  },
  {
   "cell_type": "code",
   "execution_count": 31,
   "id": "9575c865",
   "metadata": {},
   "outputs": [],
   "source": [
    "ridge = Ridge()\n",
    "lasso = Lasso()\n",
    "alpha_L = [0.001, 0.01, 0.1, 1, 10, 100]"
   ]
  },
  {
   "cell_type": "code",
   "execution_count": 32,
   "id": "2e1bf375",
   "metadata": {},
   "outputs": [],
   "source": [
    "ridge_trainS = []\n",
    "ridge_testS = []\n",
    "lasso_trainS = []\n",
    "lasso_testS = []\n",
    "for j in alpha_L:\n",
    "    ridge = Ridge(alpha=j)\n",
    "    lasso = Lasso(alpha=j, max_iter=1000000)\n",
    "    ridge.fit(X_train, y_train)\n",
    "    lasso.fit(X_train, y_train)\n",
    "    ridge_trainS.append(ridge.score(X_train, y_train))\n",
    "    ridge_testS.append(ridge.score(X_test, y_test))\n",
    "    lasso_trainS.append(lasso.score(X_train, y_train))\n",
    "    lasso_testS.append(lasso.score(X_test, y_test))"
   ]
  },
  {
   "cell_type": "code",
   "execution_count": 33,
   "id": "2a5e9577",
   "metadata": {},
   "outputs": [
    {
     "data": {
      "text/plain": [
       "<function matplotlib.pyplot.show(close=None, block=None)>"
      ]
     },
     "execution_count": 33,
     "metadata": {},
     "output_type": "execute_result"
    },
    {
     "data": {
      "image/png": "[encoded data removed]",
      "text/plain": [
       "<Figure size 432x288 with 1 Axes>"
      ]
     },
     "metadata": {},
     "output_type": "display_data"
    },
    {
     "data": {
      "image/png": "[encoded data removed]",
      "text/plain": [
       "<Figure size 432x288 with 1 Axes>"
      ]
     },
     "metadata": {},
     "output_type": "display_data"
    }
   ],
   "source": [
    "plt.figure(1)\n",
    "plt.title(\"Lasso train score\")\n",
    "plt.plot(np.log10(alpha_L), ridge_trainS)\n",
    "plt.xlabel('alpha')\n",
    "plt.ylabel('R^2')\n",
    "plt.figure(2)\n",
    "plt.title(\"Lasso test score\")\n",
    "plt.plot(np.log10(alpha_L), ridge_testS, c='orange')\n",
    "plt.xlabel('alpha')\n",
    "plt.ylabel('R^2')\n",
    "plt.show"
   ]
  },
  {
   "cell_type": "code",
   "execution_count": 34,
   "id": "64dcf805",
   "metadata": {},
   "outputs": [
    {
     "data": {
      "text/plain": [
       "<function matplotlib.pyplot.show(close=None, block=None)>"
      ]
     },
     "execution_count": 34,
     "metadata": {},
     "output_type": "execute_result"
    },
    {
     "data": {
      "image/png": "[encoded data removed]",
      "text/plain": [
       "<Figure size 432x288 with 1 Axes>"
      ]
     },
     "metadata": {},
     "output_type": "display_data"
    }
   ],
   "source": [
    "plt.figure(1)\n",
    "plt.title(\"Lasso train score\")\n",
    "plt.plot(np.log10(alpha_L), ridge_trainS)\n",
    "plt.plot(np.log10(alpha_L), ridge_testS)\n",
    "plt.xlabel('alpha')\n",
    "plt.ylabel('R^2')\n",
    "plt.show"
   ]
  },
  {
   "cell_type": "code",
   "execution_count": 35,
   "id": "271fc088",
   "metadata": {},
   "outputs": [
    {
     "data": {
      "text/plain": [
       "<function matplotlib.pyplot.show(close=None, block=None)>"
      ]
     },
     "execution_count": 35,
     "metadata": {},
     "output_type": "execute_result"
    },
    {
     "data": {
      "image/png": "[encoded data removed]",
      "text/plain": [
       "<Figure size 432x288 with 1 Axes>"
      ]
     },
     "metadata": {},
     "output_type": "display_data"
    },
    {
     "data": {
      "image/png": "[encoded data removed]",
      "text/plain": [
       "<Figure size 432x288 with 1 Axes>"
      ]
     },
     "metadata": {},
     "output_type": "display_data"
    }
   ],
   "source": [
    "plt.figure(1)\n",
    "plt.title(\"Lasso train score\")\n",
    "plt.plot(np.log10(alpha_L), lasso_trainS)\n",
    "plt.xlabel('alpha')\n",
    "plt.ylabel('R^2')\n",
    "plt.figure(2)\n",
    "plt.title(\"Lasso test score\")\n",
    "plt.plot(np.log10(alpha_L), lasso_testS, c='orange')\n",
    "plt.xlabel('alpha')\n",
    "plt.ylabel('R^2')\n",
    "plt.show"
   ]
  },
  {
   "cell_type": "code",
   "execution_count": 36,
   "id": "7e8a13f2",
   "metadata": {},
   "outputs": [
    {
     "data": {
      "text/plain": [
       "<function matplotlib.pyplot.show(close=None, block=None)>"
      ]
     },
     "execution_count": 36,
     "metadata": {},
     "output_type": "execute_result"
    },
    {
     "data": {
      "image/png": "[encoded data removed]",
      "text/plain": [
       "<Figure size 432x288 with 1 Axes>"
      ]
     },
     "metadata": {},
     "output_type": "display_data"
    }
   ],
   "source": [
    "plt.figure(1)\n",
    "plt.title(\"Lasso train, test score\")\n",
    "plt.plot(np.log10(alpha_L), lasso_trainS)\n",
    "plt.plot(np.log10(alpha_L), lasso_testS)\n",
    "plt.xlabel('alpha')\n",
    "plt.ylabel('R^2')\n",
    "plt.show"
   ]
  },
  {
   "cell_type": "code",
   "execution_count": 37,
   "id": "e6e115ca",
   "metadata": {},
   "outputs": [
    {
     "name": "stdout",
     "output_type": "stream",
     "text": [
      "0.2677100291655953\n",
      "0.17284049487706532\n"
     ]
    }
   ],
   "source": [
    "lasso = Lasso(alpha=1, max_iter=10000)\n",
    "lasso.fit(X_train, y_train)\n",
    "print(lasso.score(X_train, y_train))\n",
    "print(lasso.score(X_test, y_test))"
   ]
  }
 ],
 "metadata": {
  "kernelspec": {
   "display_name": "Python 3 (ipykernel)",
   "language": "python",
   "name": "python3"
  },
  "language_info": {
   "codemirror_mode": {
    "name": "ipython",
    "version": 3
   },
   "file_extension": ".py",
   "mimetype": "text/x-python",
   "name": "python",
   "nbconvert_exporter": "python",
   "pygments_lexer": "ipython3",
   "version": "3.9.12"
  }
 },
 "nbformat": 4,
 "nbformat_minor": 5
}
