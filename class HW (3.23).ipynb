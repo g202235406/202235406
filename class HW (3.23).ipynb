{
 "cells": [
  {
   "cell_type": "code",
   "execution_count": 54,
   "id": "07a2dc6e",
   "metadata": {},
   "outputs": [],
   "source": [
    "from sklearn.tree import DecisionTreeClassifier\n",
    "from sklearn.model_selection import train_test_split\n",
    "import pandas as pd\n",
    "import numpy as np\n",
    "import matplotlib.pyplot as plt\n",
    "import seaborn as sns\n",
    "from sklearn.preprocessing import StandardScaler, LabelEncoder\n",
    "from sklearn.neighbors import KNeighborsClassifier\n",
    "from sklearn.metrics import accuracy_score\n",
    "from sklearn.metrics import confusion_matrix\n",
    "from sklearn.neural_network import MLPClassifier\n",
    "from sklearn.linear_model import LogisticRegression\n",
    "from sklearn.svm import SVC\n",
    "from sklearn.linear_model import LinearRegression"
   ]
  },
  {
   "cell_type": "code",
   "execution_count": 55,
   "id": "3a9ac245",
   "metadata": {},
   "outputs": [],
   "source": [
    "df = pd.read_csv(\"C:/Users/user/Downloads/Salary_Data.csv\")"
   ]
  },
  {
   "cell_type": "code",
   "execution_count": 56,
   "id": "89a7a1e6",
   "metadata": {},
   "outputs": [
    {
     "data": {
      "text/plain": [
       "Index(['YearsExperience', 'Salary'], dtype='object')"
      ]
     },
     "execution_count": 56,
     "metadata": {},
     "output_type": "execute_result"
    }
   ],
   "source": [
    "df.columns"
   ]
  },
  {
   "cell_type": "code",
   "execution_count": 57,
   "id": "087c2756",
   "metadata": {},
   "outputs": [
    {
     "data": {
      "text/html": [
       "<div>\n",
       "<style scoped>\n",
       "    .dataframe tbody tr th:only-of-type {\n",
       "        vertical-align: middle;\n",
       "    }\n",
       "\n",
       "    .dataframe tbody tr th {\n",
       "        vertical-align: top;\n",
       "    }\n",
       "\n",
       "    .dataframe thead th {\n",
       "        text-align: right;\n",
       "    }\n",
       "</style>\n",
       "<table border=\"1\" class=\"dataframe\">\n",
       "  <thead>\n",
       "    <tr style=\"text-align: right;\">\n",
       "      <th></th>\n",
       "      <th>YearsExperience</th>\n",
       "      <th>Salary</th>\n",
       "    </tr>\n",
       "  </thead>\n",
       "  <tbody>\n",
       "    <tr>\n",
       "      <th>0</th>\n",
       "      <td>1.1</td>\n",
       "      <td>39343.0</td>\n",
       "    </tr>\n",
       "    <tr>\n",
       "      <th>1</th>\n",
       "      <td>1.3</td>\n",
       "      <td>46205.0</td>\n",
       "    </tr>\n",
       "    <tr>\n",
       "      <th>2</th>\n",
       "      <td>1.5</td>\n",
       "      <td>37731.0</td>\n",
       "    </tr>\n",
       "    <tr>\n",
       "      <th>3</th>\n",
       "      <td>2.0</td>\n",
       "      <td>43525.0</td>\n",
       "    </tr>\n",
       "    <tr>\n",
       "      <th>4</th>\n",
       "      <td>2.2</td>\n",
       "      <td>39891.0</td>\n",
       "    </tr>\n",
       "  </tbody>\n",
       "</table>\n",
       "</div>"
      ],
      "text/plain": [
       "   YearsExperience   Salary\n",
       "0              1.1  39343.0\n",
       "1              1.3  46205.0\n",
       "2              1.5  37731.0\n",
       "3              2.0  43525.0\n",
       "4              2.2  39891.0"
      ]
     },
     "execution_count": 57,
     "metadata": {},
     "output_type": "execute_result"
    }
   ],
   "source": [
    "df.head()"
   ]
  },
  {
   "cell_type": "code",
   "execution_count": 58,
   "id": "9ad9a9b6",
   "metadata": {},
   "outputs": [],
   "source": [
    "y = df['YearsExperience']"
   ]
  },
  {
   "cell_type": "code",
   "execution_count": 59,
   "id": "3526470d",
   "metadata": {},
   "outputs": [
    {
     "data": {
      "text/plain": [
       "array([[  1.21,   1.1 ],\n",
       "       [  1.69,   1.3 ],\n",
       "       [  2.25,   1.5 ],\n",
       "       [  4.  ,   2.  ],\n",
       "       [  4.84,   2.2 ],\n",
       "       [  8.41,   2.9 ],\n",
       "       [  9.  ,   3.  ],\n",
       "       [ 10.24,   3.2 ],\n",
       "       [ 10.24,   3.2 ],\n",
       "       [ 13.69,   3.7 ],\n",
       "       [ 15.21,   3.9 ],\n",
       "       [ 16.  ,   4.  ],\n",
       "       [ 16.  ,   4.  ],\n",
       "       [ 16.81,   4.1 ],\n",
       "       [ 20.25,   4.5 ],\n",
       "       [ 24.01,   4.9 ],\n",
       "       [ 26.01,   5.1 ],\n",
       "       [ 28.09,   5.3 ],\n",
       "       [ 34.81,   5.9 ],\n",
       "       [ 36.  ,   6.  ],\n",
       "       [ 46.24,   6.8 ],\n",
       "       [ 50.41,   7.1 ],\n",
       "       [ 62.41,   7.9 ],\n",
       "       [ 67.24,   8.2 ],\n",
       "       [ 75.69,   8.7 ],\n",
       "       [ 81.  ,   9.  ],\n",
       "       [ 90.25,   9.5 ],\n",
       "       [ 92.16,   9.6 ],\n",
       "       [106.09,  10.3 ],\n",
       "       [110.25,  10.5 ]])"
      ]
     },
     "execution_count": 59,
     "metadata": {},
     "output_type": "execute_result"
    }
   ],
   "source": [
    "y_poly = np.column_stack((y ** 2, y))\n",
    "y_poly"
   ]
  },
  {
   "cell_type": "code",
   "execution_count": 60,
   "id": "1a857138",
   "metadata": {},
   "outputs": [
    {
     "data": {
      "text/plain": [
       "numpy.ndarray"
      ]
     },
     "execution_count": 60,
     "metadata": {},
     "output_type": "execute_result"
    }
   ],
   "source": [
    "type(y_poly)"
   ]
  },
  {
   "cell_type": "code",
   "execution_count": 61,
   "id": "302184b7",
   "metadata": {},
   "outputs": [
    {
     "data": {
      "text/plain": [
       "\"df_1 = df['YearsExperience']*df['YearsExperience']\\nnewdf = pd.concat([df_1, y], axis = 1)\\npandas.core.frame.DataFrame 타입\\na = newdf.value -> numpy.ndarray 타입\\nX_train = X_train.to_numpy() 판다스DF를 넘파이 배열로 변환\\n\""
      ]
     },
     "execution_count": 61,
     "metadata": {},
     "output_type": "execute_result"
    }
   ],
   "source": [
    "\"\"\"df_1 = df['YearsExperience']*df['YearsExperience']\n",
    "newdf = pd.concat([df_1, y], axis = 1)\n",
    "pandas.core.frame.DataFrame 타입\n",
    "a = newdf.value -> numpy.ndarray 타입\n",
    "X_train = X_train.to_numpy() 판다스DF를 넘파이 배열로 변환\n",
    "\"\"\""
   ]
  },
  {
   "cell_type": "code",
   "execution_count": 62,
   "id": "ad8e1856",
   "metadata": {},
   "outputs": [
    {
     "data": {
      "text/plain": [
       "'train_poly = np.column_stack((y ** 2, y))\\nnumpy.ndarray 타입\\n'"
      ]
     },
     "execution_count": 62,
     "metadata": {},
     "output_type": "execute_result"
    }
   ],
   "source": [
    "\"\"\"train_poly = np.column_stack((y ** 2, y))\n",
    "numpy.ndarray 타입\n",
    "\"\"\""
   ]
  },
  {
   "cell_type": "code",
   "execution_count": 151,
   "id": "201f6971",
   "metadata": {},
   "outputs": [],
   "source": [
    "X_train, X_test, y_train, y_test = train_test_split(y_poly, df.Salary ,test_size=0.2,random_state=0)"
   ]
  },
  {
   "cell_type": "code",
   "execution_count": 152,
   "id": "6dcb329f",
   "metadata": {},
   "outputs": [
    {
     "data": {
      "text/plain": [
       "array([[ 92.16,   9.6 ],\n",
       "       [ 16.  ,   4.  ],\n",
       "       [ 28.09,   5.3 ],\n",
       "       [ 62.41,   7.9 ],\n",
       "       [  8.41,   2.9 ],\n",
       "       [ 26.01,   5.1 ],\n",
       "       [ 10.24,   3.2 ],\n",
       "       [ 20.25,   4.5 ],\n",
       "       [ 67.24,   8.2 ],\n",
       "       [ 46.24,   6.8 ],\n",
       "       [  1.69,   1.3 ],\n",
       "       [110.25,  10.5 ],\n",
       "       [  9.  ,   3.  ],\n",
       "       [  4.84,   2.2 ],\n",
       "       [ 34.81,   5.9 ],\n",
       "       [ 36.  ,   6.  ],\n",
       "       [ 13.69,   3.7 ],\n",
       "       [ 10.24,   3.2 ],\n",
       "       [ 81.  ,   9.  ],\n",
       "       [  4.  ,   2.  ],\n",
       "       [  1.21,   1.1 ],\n",
       "       [ 50.41,   7.1 ],\n",
       "       [ 24.01,   4.9 ],\n",
       "       [ 16.  ,   4.  ]])"
      ]
     },
     "execution_count": 152,
     "metadata": {},
     "output_type": "execute_result"
    }
   ],
   "source": [
    "X_train"
   ]
  },
  {
   "cell_type": "code",
   "execution_count": 153,
   "id": "d298e0d7",
   "metadata": {},
   "outputs": [
    {
     "data": {
      "text/plain": [
       "LinearRegression()"
      ]
     },
     "execution_count": 153,
     "metadata": {},
     "output_type": "execute_result"
    }
   ],
   "source": [
    "lr = LinearRegression()\n",
    "lr.fit(X_train, y_train)"
   ]
  },
  {
   "cell_type": "code",
   "execution_count": 154,
   "id": "43db3ca8",
   "metadata": {},
   "outputs": [
    {
     "name": "stdout",
     "output_type": "stream",
     "text": [
      "[   9.47566012 9205.97080896] 27013.670321992693\n"
     ]
    }
   ],
   "source": [
    "print(lr.coef_, lr.intercept_)"
   ]
  },
  {
   "cell_type": "code",
   "execution_count": 155,
   "id": "31ad3946",
   "metadata": {},
   "outputs": [
    {
     "data": {
      "image/png": "[encoded data removed]",
      "text/plain": [
       "<Figure size 432x288 with 1 Axes>"
      ]
     },
     "metadata": {
      "needs_background": "light"
     },
     "output_type": "display_data"
    }
   ],
   "source": [
    "import matplotlib.pyplot as plt\n",
    "point = np.arange(1, 11)\n",
    "plt.scatter(X_train[:,1], y_train, color='red')\n",
    "plt.plot(point,11.3*point**2 + 9256.1*point + 27249.8)\n",
    "plt.xlabel('length')\n",
    "plt.ylabel('weight')\n",
    "plt.show()"
   ]
  },
  {
   "cell_type": "code",
   "execution_count": 156,
   "id": "1c4348c9",
   "metadata": {},
   "outputs": [
    {
     "name": "stdout",
     "output_type": "stream",
     "text": [
      "0.9412018325566514\n",
      "0.9882197351491804\n"
     ]
    }
   ],
   "source": [
    "print(lr.score(X_train, y_train))\n",
    "print(lr.score(X_test, y_test))\n",
    "#0.9545249190394051 선형회귀 train 점수\n",
    "#0.9686158528335039 선형획귀 test 점수"
   ]
  }
 ],
 "metadata": {
  "kernelspec": {
   "display_name": "Python 3 (ipykernel)",
   "language": "python",
   "name": "python3"
  },
  "language_info": {
   "codemirror_mode": {
    "name": "ipython",
    "version": 3
   },
   "file_extension": ".py",
   "mimetype": "text/x-python",
   "name": "python",
   "nbconvert_exporter": "python",
   "pygments_lexer": "ipython3",
   "version": "3.9.12"
  }
 },
 "nbformat": 4,
 "nbformat_minor": 5
}
