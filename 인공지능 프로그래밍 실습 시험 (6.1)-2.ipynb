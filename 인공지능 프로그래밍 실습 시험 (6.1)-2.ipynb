{
 "cells": [
  {
   "cell_type": "code",
   "execution_count": 1,
   "id": "2e2595bb",
   "metadata": {},
   "outputs": [],
   "source": [
    "import numpy as np\n",
    "import matplotlib.pyplot as plt\n",
    "import pandas as pd\n",
    "import seaborn as sns\n",
    "from scipy import stats  # 과학용 계산 라이브러리\n",
    "from sklearn.datasets import load_linnerud\n",
    "from sklearn.model_selection import train_test_split"
   ]
  },
  {
   "cell_type": "code",
   "execution_count": 2,
   "id": "169e01d4",
   "metadata": {},
   "outputs": [],
   "source": [
    "dataset = pd.read_csv(\"C:/Users/user/Downloads/Salary_Data.csv\")"
   ]
  },
  {
   "cell_type": "code",
   "execution_count": 3,
   "id": "94d05ca8",
   "metadata": {},
   "outputs": [
    {
     "data": {
      "text/plain": [
       "YearsExperience    0\n",
       "Salary             0\n",
       "dtype: int64"
      ]
     },
     "execution_count": 3,
     "metadata": {},
     "output_type": "execute_result"
    }
   ],
   "source": [
    "dataset.isna().sum()"
   ]
  },
  {
   "cell_type": "code",
   "execution_count": 4,
   "id": "0c496b66",
   "metadata": {},
   "outputs": [
    {
     "data": {
      "image/png": "[encoded data removed]",
      "text/plain": [
       "<Figure size 432x288 with 1 Axes>"
      ]
     },
     "metadata": {
      "needs_background": "light"
     },
     "output_type": "display_data"
    }
   ],
   "source": [
    "dataset.describe()\n",
    "plt.hist(dataset['YearsExperience'])\n",
    "plt.title('YearsExperience')\n",
    "plt.show()"
   ]
  },
  {
   "cell_type": "code",
   "execution_count": 5,
   "id": "ca2029aa",
   "metadata": {},
   "outputs": [],
   "source": [
    "X=dataset[['Salary']]"
   ]
  },
  {
   "cell_type": "code",
   "execution_count": 6,
   "id": "7eb42d02",
   "metadata": {},
   "outputs": [],
   "source": [
    "Y=dataset[['YearsExperience']]"
   ]
  },
  {
   "cell_type": "code",
   "execution_count": 7,
   "id": "03f95408",
   "metadata": {},
   "outputs": [],
   "source": [
    "X_train, X_test, y_train, y_test = train_test_split(X, Y,test_size=0.25,random_state=42)"
   ]
  },
  {
   "cell_type": "code",
   "execution_count": 8,
   "id": "f31f61bd",
   "metadata": {},
   "outputs": [],
   "source": [
    "X_train = X_train.to_numpy()\n",
    "y_train = y_train.to_numpy()\n",
    "X_test = X_test.to_numpy()\n",
    "y_test = y_test.to_numpy()"
   ]
  },
  {
   "cell_type": "code",
   "execution_count": 9,
   "id": "95bf4d3e",
   "metadata": {},
   "outputs": [
    {
     "name": "stdout",
     "output_type": "stream",
     "text": [
      "Model: \"sequential\"\n",
      "_________________________________________________________________\n",
      " Layer (type)                Output Shape              Param #   \n",
      "=================================================================\n",
      " dense (Dense)               (None, 32)                64        \n",
      "                                                                 \n",
      " dense_1 (Dense)             (None, 16)                528       \n",
      "                                                                 \n",
      " dense_2 (Dense)             (None, 8)                 136       \n",
      "                                                                 \n",
      " dense_3 (Dense)             (None, 1)                 9         \n",
      "                                                                 \n",
      "=================================================================\n",
      "Total params: 737\n",
      "Trainable params: 737\n",
      "Non-trainable params: 0\n",
      "_________________________________________________________________\n"
     ]
    }
   ],
   "source": [
    "from tensorflow.keras.models import Sequential\n",
    "from tensorflow.keras.layers import Dense\n",
    "\n",
    "model = Sequential()\n",
    "model.add(Dense(32, activation = 'relu', input_shape = (1,)))\n",
    "model.add(Dense(16, activation = 'relu'))\n",
    "model.add(Dense(8, activation = 'relu'))\n",
    "model.add(Dense(1))\n",
    "model.compile(optimizer = 'rmsprop', loss = 'mse', metrics = ['mse'])\n",
    "\n",
    "model.summary()"
   ]
  },
  {
   "cell_type": "code",
   "execution_count": 10,
   "id": "72efc181",
   "metadata": {},
   "outputs": [
    {
     "name": "stdout",
     "output_type": "stream",
     "text": [
      "Epoch 1/70\n",
      "1/1 [==============================] - 1s 613ms/step - loss: 164199440.0000 - mse: 164199440.0000 - val_loss: 183203744.0000 - val_mse: 183203744.0000\n",
      "Epoch 2/70\n",
      "1/1 [==============================] - 0s 21ms/step - loss: 115063424.0000 - mse: 115063424.0000 - val_loss: 140106528.0000 - val_mse: 140106528.0000\n",
      "Epoch 3/70\n",
      "1/1 [==============================] - 0s 21ms/step - loss: 87996264.0000 - mse: 87996264.0000 - val_loss: 110481352.0000 - val_mse: 110481352.0000\n",
      "Epoch 4/70\n",
      "1/1 [==============================] - 0s 21ms/step - loss: 69390152.0000 - mse: 69390152.0000 - val_loss: 88325104.0000 - val_mse: 88325104.0000\n",
      "Epoch 5/70\n",
      "1/1 [==============================] - 0s 20ms/step - loss: 55474844.0000 - mse: 55474844.0000 - val_loss: 71023232.0000 - val_mse: 71023232.0000\n",
      "Epoch 6/70\n",
      "1/1 [==============================] - 0s 26ms/step - loss: 44608332.0000 - mse: 44608332.0000 - val_loss: 57174720.0000 - val_mse: 57174720.0000\n",
      "Epoch 7/70\n",
      "1/1 [==============================] - 0s 21ms/step - loss: 35910652.0000 - mse: 35910652.0000 - val_loss: 45930400.0000 - val_mse: 45930400.0000\n",
      "Epoch 8/70\n",
      "1/1 [==============================] - 0s 22ms/step - loss: 28848530.0000 - mse: 28848530.0000 - val_loss: 36730312.0000 - val_mse: 36730312.0000\n",
      "Epoch 9/70\n",
      "1/1 [==============================] - 0s 21ms/step - loss: 23070280.0000 - mse: 23070280.0000 - val_loss: 29180836.0000 - val_mse: 29180836.0000\n",
      "Epoch 10/70\n",
      "1/1 [==============================] - 0s 20ms/step - loss: 18328694.0000 - mse: 18328694.0000 - val_loss: 22990362.0000 - val_mse: 22990362.0000\n",
      "Epoch 11/70\n",
      "1/1 [==============================] - 0s 20ms/step - loss: 14440628.0000 - mse: 14440628.0000 - val_loss: 17933004.0000 - val_mse: 17933004.0000\n",
      "Epoch 12/70\n",
      "1/1 [==============================] - 0s 20ms/step - loss: 11264220.0000 - mse: 11264220.0000 - val_loss: 13827120.0000 - val_mse: 13827120.0000\n",
      "Epoch 13/70\n",
      "1/1 [==============================] - 0s 22ms/step - loss: 8685380.0000 - mse: 8685380.0000 - val_loss: 10522096.0000 - val_mse: 10522096.0000\n",
      "Epoch 14/70\n",
      "1/1 [==============================] - 0s 19ms/step - loss: 6609527.5000 - mse: 6609527.5000 - val_loss: 7890065.0000 - val_mse: 7890065.0000\n",
      "Epoch 15/70\n",
      "1/1 [==============================] - 0s 22ms/step - loss: 4956351.0000 - mse: 4956351.0000 - val_loss: 5820622.5000 - val_mse: 5820622.5000\n",
      "Epoch 16/70\n",
      "1/1 [==============================] - 0s 20ms/step - loss: 3656513.5000 - mse: 3656513.5000 - val_loss: 4217493.5000 - val_mse: 4217493.5000\n",
      "Epoch 17/70\n",
      "1/1 [==============================] - 0s 20ms/step - loss: 2649552.2500 - mse: 2649552.2500 - val_loss: 2996392.0000 - val_mse: 2996392.0000\n",
      "Epoch 18/70\n",
      "1/1 [==============================] - 0s 22ms/step - loss: 1882528.7500 - mse: 1882528.7500 - val_loss: 2083751.8750 - val_mse: 2083751.8750\n",
      "Epoch 19/70\n",
      "1/1 [==============================] - 0s 20ms/step - loss: 1309244.1250 - mse: 1309244.1250 - val_loss: 1415834.3750 - val_mse: 1415834.3750\n",
      "Epoch 20/70\n",
      "1/1 [==============================] - 0s 22ms/step - loss: 889669.1875 - mse: 889669.1875 - val_loss: 938201.7500 - val_mse: 938201.7500\n",
      "Epoch 21/70\n",
      "1/1 [==============================] - 0s 20ms/step - loss: 589611.5625 - mse: 589611.5625 - val_loss: 627720.8750 - val_mse: 627720.8750\n",
      "Epoch 22/70\n",
      "1/1 [==============================] - 0s 21ms/step - loss: 394550.6875 - mse: 394550.6875 - val_loss: 401386.8125 - val_mse: 401386.8125\n",
      "Epoch 23/70\n",
      "1/1 [==============================] - 0s 23ms/step - loss: 252339.4375 - mse: 252339.4375 - val_loss: 260371.6875 - val_mse: 260371.6875\n",
      "Epoch 24/70\n",
      "1/1 [==============================] - 0s 20ms/step - loss: 163728.7344 - mse: 163728.7344 - val_loss: 156265.8750 - val_mse: 156265.8750\n",
      "Epoch 25/70\n",
      "1/1 [==============================] - 0s 20ms/step - loss: 98300.6328 - mse: 98300.6328 - val_loss: 92638.8984 - val_mse: 92638.8984\n",
      "Epoch 26/70\n",
      "1/1 [==============================] - 0s 20ms/step - loss: 58302.9727 - mse: 58302.9727 - val_loss: 53694.7695 - val_mse: 53694.7695\n",
      "Epoch 27/70\n",
      "1/1 [==============================] - 0s 21ms/step - loss: 33816.2852 - mse: 33816.2852 - val_loss: 28949.4180 - val_mse: 28949.4180\n",
      "Epoch 28/70\n",
      "1/1 [==============================] - 0s 22ms/step - loss: 18250.5137 - mse: 18250.5137 - val_loss: 15790.5830 - val_mse: 15790.5830\n",
      "Epoch 29/70\n",
      "1/1 [==============================] - 0s 23ms/step - loss: 9967.9072 - mse: 9967.9072 - val_loss: 7833.7109 - val_mse: 7833.7109\n",
      "Epoch 30/70\n",
      "1/1 [==============================] - 0s 20ms/step - loss: 4956.0498 - mse: 4956.0498 - val_loss: 3819.3193 - val_mse: 3819.3193\n",
      "Epoch 31/70\n",
      "1/1 [==============================] - 0s 21ms/step - loss: 2424.0225 - mse: 2424.0225 - val_loss: 1779.4683 - val_mse: 1779.4683\n",
      "Epoch 32/70\n",
      "1/1 [==============================] - 0s 22ms/step - loss: 1135.1100 - mse: 1135.1100 - val_loss: 752.3064 - val_mse: 752.3064\n",
      "Epoch 33/70\n",
      "1/1 [==============================] - 0s 19ms/step - loss: 484.0391 - mse: 484.0391 - val_loss: 321.3901 - val_mse: 321.3901\n",
      "Epoch 34/70\n",
      "1/1 [==============================] - 0s 22ms/step - loss: 209.4890 - mse: 209.4890 - val_loss: 118.5086 - val_mse: 118.5086\n",
      "Epoch 35/70\n",
      "1/1 [==============================] - 0s 20ms/step - loss: 79.3060 - mse: 79.3060 - val_loss: 42.5335 - val_mse: 42.5335\n",
      "Epoch 36/70\n",
      "1/1 [==============================] - 0s 21ms/step - loss: 29.7873 - mse: 29.7873 - val_loss: 14.1427 - val_mse: 14.1427\n",
      "Epoch 37/70\n",
      "1/1 [==============================] - 0s 21ms/step - loss: 10.8384 - mse: 10.8384 - val_loss: 4.2448 - val_mse: 4.2448\n",
      "Epoch 38/70\n",
      "1/1 [==============================] - 0s 21ms/step - loss: 3.8951 - mse: 3.8951 - val_loss: 1.5484 - val_mse: 1.5484\n",
      "Epoch 39/70\n",
      "1/1 [==============================] - 0s 19ms/step - loss: 1.7917 - mse: 1.7917 - val_loss: 0.8871 - val_mse: 0.8871\n",
      "Epoch 40/70\n",
      "1/1 [==============================] - 0s 20ms/step - loss: 1.1461 - mse: 1.1461 - val_loss: 0.8139 - val_mse: 0.8139\n",
      "Epoch 41/70\n",
      "1/1 [==============================] - 0s 22ms/step - loss: 0.9703 - mse: 0.9703 - val_loss: 0.8433 - val_mse: 0.8433\n",
      "Epoch 42/70\n",
      "1/1 [==============================] - 0s 20ms/step - loss: 0.9282 - mse: 0.9282 - val_loss: 0.8755 - val_mse: 0.8755\n",
      "Epoch 43/70\n",
      "1/1 [==============================] - 0s 21ms/step - loss: 0.9187 - mse: 0.9187 - val_loss: 0.8978 - val_mse: 0.8978\n",
      "Epoch 44/70\n",
      "1/1 [==============================] - 0s 21ms/step - loss: 0.9171 - mse: 0.9171 - val_loss: 0.8988 - val_mse: 0.8988\n",
      "Epoch 45/70\n",
      "1/1 [==============================] - 0s 19ms/step - loss: 0.9167 - mse: 0.9167 - val_loss: 0.9067 - val_mse: 0.9067\n",
      "Epoch 46/70\n",
      "1/1 [==============================] - 0s 21ms/step - loss: 0.9171 - mse: 0.9171 - val_loss: 0.9075 - val_mse: 0.9075\n",
      "Epoch 47/70\n",
      "1/1 [==============================] - 0s 21ms/step - loss: 0.9164 - mse: 0.9164 - val_loss: 0.9087 - val_mse: 0.9087\n",
      "Epoch 48/70\n",
      "1/1 [==============================] - 0s 21ms/step - loss: 0.9163 - mse: 0.9163 - val_loss: 0.9089 - val_mse: 0.9089\n",
      "Epoch 49/70\n",
      "1/1 [==============================] - 0s 21ms/step - loss: 0.9159 - mse: 0.9159 - val_loss: 0.9094 - val_mse: 0.9094\n",
      "Epoch 50/70\n",
      "1/1 [==============================] - 0s 21ms/step - loss: 0.9159 - mse: 0.9159 - val_loss: 0.9105 - val_mse: 0.9105\n",
      "Epoch 51/70\n",
      "1/1 [==============================] - 0s 21ms/step - loss: 0.9156 - mse: 0.9156 - val_loss: 0.9107 - val_mse: 0.9107\n",
      "Epoch 52/70\n",
      "1/1 [==============================] - 0s 22ms/step - loss: 0.9159 - mse: 0.9159 - val_loss: 0.9110 - val_mse: 0.9110\n",
      "Epoch 53/70\n",
      "1/1 [==============================] - 0s 20ms/step - loss: 0.9157 - mse: 0.9157 - val_loss: 0.9112 - val_mse: 0.9112\n",
      "Epoch 54/70\n",
      "1/1 [==============================] - 0s 20ms/step - loss: 0.9158 - mse: 0.9158 - val_loss: 0.9111 - val_mse: 0.9111\n",
      "Epoch 55/70\n",
      "1/1 [==============================] - 0s 21ms/step - loss: 0.9157 - mse: 0.9157 - val_loss: 0.9114 - val_mse: 0.9114\n",
      "Epoch 56/70\n",
      "1/1 [==============================] - 0s 20ms/step - loss: 0.9159 - mse: 0.9159 - val_loss: 0.9117 - val_mse: 0.9117\n",
      "Epoch 57/70\n",
      "1/1 [==============================] - 0s 19ms/step - loss: 0.9158 - mse: 0.9158 - val_loss: 0.9117 - val_mse: 0.9117\n",
      "Epoch 58/70\n"
     ]
    },
    {
     "name": "stdout",
     "output_type": "stream",
     "text": [
      "1/1 [==============================] - 0s 22ms/step - loss: 0.9158 - mse: 0.9158 - val_loss: 0.9116 - val_mse: 0.9116\n",
      "Epoch 59/70\n",
      "1/1 [==============================] - 0s 21ms/step - loss: 0.9158 - mse: 0.9158 - val_loss: 0.9116 - val_mse: 0.9116\n",
      "Epoch 60/70\n",
      "1/1 [==============================] - 0s 21ms/step - loss: 0.9160 - mse: 0.9160 - val_loss: 0.9116 - val_mse: 0.9116\n",
      "Epoch 61/70\n",
      "1/1 [==============================] - 0s 22ms/step - loss: 0.9160 - mse: 0.9160 - val_loss: 0.9116 - val_mse: 0.9116\n",
      "Epoch 62/70\n",
      "1/1 [==============================] - 0s 20ms/step - loss: 0.9160 - mse: 0.9160 - val_loss: 0.9113 - val_mse: 0.9113\n",
      "Epoch 63/70\n",
      "1/1 [==============================] - 0s 20ms/step - loss: 0.9162 - mse: 0.9162 - val_loss: 0.9113 - val_mse: 0.9113\n",
      "Epoch 64/70\n",
      "1/1 [==============================] - 0s 21ms/step - loss: 0.9162 - mse: 0.9162 - val_loss: 0.9113 - val_mse: 0.9113\n",
      "Epoch 65/70\n",
      "1/1 [==============================] - 0s 22ms/step - loss: 0.9162 - mse: 0.9162 - val_loss: 0.9113 - val_mse: 0.9113\n",
      "Epoch 66/70\n",
      "1/1 [==============================] - 0s 20ms/step - loss: 0.9162 - mse: 0.9162 - val_loss: 0.9111 - val_mse: 0.9111\n",
      "Epoch 67/70\n",
      "1/1 [==============================] - 0s 20ms/step - loss: 0.9160 - mse: 0.9160 - val_loss: 0.9111 - val_mse: 0.9111\n",
      "Epoch 68/70\n",
      "1/1 [==============================] - 0s 23ms/step - loss: 0.9160 - mse: 0.9160 - val_loss: 0.9111 - val_mse: 0.9111\n",
      "Epoch 69/70\n",
      "1/1 [==============================] - 0s 20ms/step - loss: 0.9160 - mse: 0.9160 - val_loss: 0.9110 - val_mse: 0.9110\n",
      "Epoch 70/70\n",
      "1/1 [==============================] - 0s 21ms/step - loss: 0.9159 - mse: 0.9159 - val_loss: 0.9110 - val_mse: 0.9110\n"
     ]
    }
   ],
   "source": [
    "N_EPOCHS = 70\n",
    "history = model.fit(X_train, y_train, epochs = N_EPOCHS, validation_data=(X_test, y_test))"
   ]
  },
  {
   "cell_type": "code",
   "execution_count": 11,
   "id": "383b6c2e",
   "metadata": {},
   "outputs": [
    {
     "data": {
      "image/png": "[encoded data removed]",
      "text/plain": [
       "<Figure size 720x504 with 1 Axes>"
      ]
     },
     "metadata": {
      "needs_background": "light"
     },
     "output_type": "display_data"
    }
   ],
   "source": [
    "import matplotlib.pyplot as plt\n",
    "plt.figure(figsize=(10,7))\n",
    "plt.plot(range(N_EPOCHS), history.history['loss'], label='train loss')\n",
    "plt.plot(range(N_EPOCHS), history.history['val_loss'], label='test loss')\n",
    "plt.xlabel('Epoch')\n",
    "plt.ylabel('Loss')\n",
    "plt.legend()\n",
    "plt.show()"
   ]
  },
  {
   "cell_type": "code",
   "execution_count": 12,
   "id": "0361ec3e",
   "metadata": {},
   "outputs": [
    {
     "data": {
      "image/png": "[encoded data removed]",
      "text/plain": [
       "<Figure size 720x504 with 1 Axes>"
      ]
     },
     "metadata": {
      "needs_background": "light"
     },
     "output_type": "display_data"
    }
   ],
   "source": [
    "import matplotlib.pyplot as plt\n",
    "plt.figure(figsize=(10,7))\n",
    "plt.plot(range(N_EPOCHS), history.history['mse'], label='mse')\n",
    "plt.plot(range(N_EPOCHS), history.history['val_mse'], label='test mse')\n",
    "plt.xlabel('Epoch')\n",
    "plt.ylabel('Loss')\n",
    "plt.legend()\n",
    "plt.show()"
   ]
  },
  {
   "cell_type": "code",
   "execution_count": 13,
   "id": "196b62ff",
   "metadata": {},
   "outputs": [
    {
     "name": "stdout",
     "output_type": "stream",
     "text": [
      "1/1 [==============================] - 0s 20ms/step - loss: 0.9110 - mse: 0.9110\n"
     ]
    }
   ],
   "source": [
    "test_mse_score, test_mae_score=model.evaluate(X_test, y_test)\n"
   ]
  }
 ],
 "metadata": {
  "kernelspec": {
   "display_name": "Python 3 (ipykernel)",
   "language": "python",
   "name": "python3"
  },
  "language_info": {
   "codemirror_mode": {
    "name": "ipython",
    "version": 3
   },
   "file_extension": ".py",
   "mimetype": "text/x-python",
   "name": "python",
   "nbconvert_exporter": "python",
   "pygments_lexer": "ipython3",
   "version": "3.9.12"
  }
 },
 "nbformat": 4,
 "nbformat_minor": 5
}
