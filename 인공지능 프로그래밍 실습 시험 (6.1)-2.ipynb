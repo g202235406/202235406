{
 "cells": [
  {
   "cell_type": "code",
   "execution_count": 29,
   "id": "2e2595bb",
   "metadata": {},
   "outputs": [],
   "source": [
    "import numpy as np\n",
    "import matplotlib.pyplot as plt\n",
    "import pandas as pd\n",
    "import seaborn as sns\n",
    "from scipy import stats  # 과학용 계산 라이브러리\n",
    "from sklearn.datasets import load_linnerud\n",
    "from sklearn.model_selection import train_test_split"
   ]
  },
  {
   "cell_type": "code",
   "execution_count": 30,
   "id": "169e01d4",
   "metadata": {},
   "outputs": [],
   "source": [
    "dataset = pd.read_csv(\"C:/Users/user/Downloads/Salary_Data.csv\")"
   ]
  },
  {
   "cell_type": "code",
   "execution_count": 31,
   "id": "94d05ca8",
   "metadata": {},
   "outputs": [
    {
     "data": {
      "text/plain": [
       "YearsExperience    0\n",
       "Salary             0\n",
       "dtype: int64"
      ]
     },
     "execution_count": 31,
     "metadata": {},
     "output_type": "execute_result"
    }
   ],
   "source": [
    "dataset.isna().sum()"
   ]
  },
  {
   "cell_type": "code",
   "execution_count": 32,
   "id": "0c496b66",
   "metadata": {},
   "outputs": [
    {
     "data": {
      "image/png": "[encoded data removed]",
      "text/plain": [
       "<Figure size 432x288 with 1 Axes>"
      ]
     },
     "metadata": {
      "needs_background": "light"
     },
     "output_type": "display_data"
    }
   ],
   "source": [
    "df.describe()\n",
    "plt.hist(df['Salary'])\n",
    "plt.title('Salary')\n",
    "plt.show()"
   ]
  },
  {
   "cell_type": "code",
   "execution_count": 33,
   "id": "ca2029aa",
   "metadata": {},
   "outputs": [],
   "source": [
    "X=df[['Salary']]"
   ]
  },
  {
   "cell_type": "code",
   "execution_count": 34,
   "id": "7eb42d02",
   "metadata": {},
   "outputs": [],
   "source": [
    "Y=df[['YearsExperience']]"
   ]
  },
  {
   "cell_type": "code",
   "execution_count": 35,
   "id": "03f95408",
   "metadata": {},
   "outputs": [],
   "source": [
    "X_train, X_test, y_train, y_test = train_test_split(X, Y,test_size=0.25,random_state=42)"
   ]
  },
  {
   "cell_type": "code",
   "execution_count": 36,
   "id": "f31f61bd",
   "metadata": {},
   "outputs": [],
   "source": [
    "X_train = X_train.to_numpy()\n",
    "y_train = y_train.to_numpy()\n",
    "X_test = X_test.to_numpy()\n",
    "y_test = y_test.to_numpy()"
   ]
  },
  {
   "cell_type": "code",
   "execution_count": 37,
   "id": "95bf4d3e",
   "metadata": {},
   "outputs": [
    {
     "name": "stdout",
     "output_type": "stream",
     "text": [
      "Model: \"sequential_2\"\n",
      "_________________________________________________________________\n",
      " Layer (type)                Output Shape              Param #   \n",
      "=================================================================\n",
      " dense_10 (Dense)            (None, 64)                128       \n",
      "                                                                 \n",
      " dense_11 (Dense)            (None, 32)                2080      \n",
      "                                                                 \n",
      " dense_12 (Dense)            (None, 16)                528       \n",
      "                                                                 \n",
      " dense_13 (Dense)            (None, 8)                 136       \n",
      "                                                                 \n",
      " dense_14 (Dense)            (None, 1)                 9         \n",
      "                                                                 \n",
      "=================================================================\n",
      "Total params: 2,881\n",
      "Trainable params: 2,881\n",
      "Non-trainable params: 0\n",
      "_________________________________________________________________\n"
     ]
    }
   ],
   "source": [
    "from tensorflow.keras.models import Sequential\n",
    "from tensorflow.keras.layers import Dense\n",
    "\n",
    "model = Sequential()\n",
    "model.add(Dense(64, activation = 'relu', input_shape = (1,)))\n",
    "model.add(Dense(32, activation = 'relu'))\n",
    "model.add(Dense(16, activation = 'relu'))\n",
    "model.add(Dense(8, activation = 'relu'))\n",
    "model.add(Dense(1))\n",
    "model.compile(optimizer = 'rmsprop', loss = 'mse', metrics = ['mse'])\n",
    "\n",
    "model.summary()"
   ]
  },
  {
   "cell_type": "code",
   "execution_count": 38,
   "id": "72efc181",
   "metadata": {},
   "outputs": [
    {
     "name": "stdout",
     "output_type": "stream",
     "text": [
      "Epoch 1/100\n",
      "1/1 [==============================] - 1s 782ms/step - loss: 32987502.0000 - mse: 32987502.0000 - val_loss: 12880620.0000 - val_mse: 12880620.0000\n",
      "Epoch 2/100\n",
      "1/1 [==============================] - 0s 49ms/step - loss: 8090965.0000 - mse: 8090965.0000 - val_loss: 4342848.5000 - val_mse: 4342848.5000\n",
      "Epoch 3/100\n",
      "1/1 [==============================] - 0s 38ms/step - loss: 2728333.0000 - mse: 2728333.0000 - val_loss: 1876972.6250 - val_mse: 1876972.6250\n",
      "Epoch 4/100\n",
      "1/1 [==============================] - 0s 32ms/step - loss: 1179383.1250 - mse: 1179383.1250 - val_loss: 1245991.5000 - val_mse: 1245991.5000\n",
      "Epoch 5/100\n",
      "1/1 [==============================] - 0s 32ms/step - loss: 782997.7500 - mse: 782997.7500 - val_loss: 933111.3750 - val_mse: 933111.3750\n",
      "Epoch 6/100\n",
      "1/1 [==============================] - 0s 43ms/step - loss: 586438.0625 - mse: 586438.0625 - val_loss: 634551.3750 - val_mse: 634551.3750\n",
      "Epoch 7/100\n",
      "1/1 [==============================] - 0s 33ms/step - loss: 398859.8750 - mse: 398859.8750 - val_loss: 431325.4062 - val_mse: 431325.4062\n",
      "Epoch 8/100\n",
      "1/1 [==============================] - 0s 33ms/step - loss: 271165.3125 - mse: 271165.3125 - val_loss: 311188.8125 - val_mse: 311188.8125\n",
      "Epoch 9/100\n",
      "1/1 [==============================] - 0s 25ms/step - loss: 195675.5000 - mse: 195675.5000 - val_loss: 198017.1562 - val_mse: 198017.1562\n",
      "Epoch 10/100\n",
      "1/1 [==============================] - 0s 33ms/step - loss: 124551.7422 - mse: 124551.7422 - val_loss: 123187.3516 - val_mse: 123187.3516\n",
      "Epoch 11/100\n",
      "1/1 [==============================] - 0s 40ms/step - loss: 77514.6953 - mse: 77514.6953 - val_loss: 79503.0547 - val_mse: 79503.0547\n",
      "Epoch 12/100\n",
      "1/1 [==============================] - 0s 37ms/step - loss: 50051.0898 - mse: 50051.0898 - val_loss: 44024.7578 - val_mse: 44024.7578\n",
      "Epoch 13/100\n",
      "1/1 [==============================] - 0s 34ms/step - loss: 27738.3672 - mse: 27738.3672 - val_loss: 20502.3672 - val_mse: 20502.3672\n",
      "Epoch 14/100\n",
      "1/1 [==============================] - 0s 37ms/step - loss: 12937.2100 - mse: 12937.2100 - val_loss: 9368.9121 - val_mse: 9368.9121\n",
      "Epoch 15/100\n",
      "1/1 [==============================] - 0s 34ms/step - loss: 5925.4629 - mse: 5925.4629 - val_loss: 4242.4565 - val_mse: 4242.4565\n",
      "Epoch 16/100\n",
      "1/1 [==============================] - 0s 35ms/step - loss: 2692.5220 - mse: 2692.5220 - val_loss: 1815.7991 - val_mse: 1815.7991\n",
      "Epoch 17/100\n",
      "1/1 [==============================] - 0s 33ms/step - loss: 1158.9052 - mse: 1158.9052 - val_loss: 1185.4375 - val_mse: 1185.4375\n",
      "Epoch 18/100\n",
      "1/1 [==============================] - 0s 35ms/step - loss: 759.8443 - mse: 759.8443 - val_loss: 947.3434 - val_mse: 947.3434\n",
      "Epoch 19/100\n",
      "1/1 [==============================] - 0s 46ms/step - loss: 608.5556 - mse: 608.5556 - val_loss: 765.9756 - val_mse: 765.9756\n",
      "Epoch 20/100\n",
      "1/1 [==============================] - 0s 44ms/step - loss: 493.4793 - mse: 493.4793 - val_loss: 457.0341 - val_mse: 457.0341\n",
      "Epoch 21/100\n",
      "1/1 [==============================] - 0s 39ms/step - loss: 296.6294 - mse: 296.6294 - val_loss: 382.1180 - val_mse: 382.1180\n",
      "Epoch 22/100\n",
      "1/1 [==============================] - 0s 44ms/step - loss: 248.9180 - mse: 248.9180 - val_loss: 291.1372 - val_mse: 291.1372\n",
      "Epoch 23/100\n",
      "1/1 [==============================] - 0s 40ms/step - loss: 190.7453 - mse: 190.7453 - val_loss: 255.5393 - val_mse: 255.5393\n",
      "Epoch 24/100\n",
      "1/1 [==============================] - 0s 42ms/step - loss: 167.9298 - mse: 167.9298 - val_loss: 272.4796 - val_mse: 272.4796\n",
      "Epoch 25/100\n",
      "1/1 [==============================] - 0s 39ms/step - loss: 178.6477 - mse: 178.6477 - val_loss: 281.2962 - val_mse: 281.2962\n",
      "Epoch 26/100\n",
      "1/1 [==============================] - 0s 40ms/step - loss: 184.4459 - mse: 184.4459 - val_loss: 248.1987 - val_mse: 248.1987\n",
      "Epoch 27/100\n",
      "1/1 [==============================] - 0s 39ms/step - loss: 163.2172 - mse: 163.2172 - val_loss: 217.5270 - val_mse: 217.5270\n",
      "Epoch 28/100\n",
      "1/1 [==============================] - 0s 38ms/step - loss: 143.5185 - mse: 143.5185 - val_loss: 189.2917 - val_mse: 189.2917\n",
      "Epoch 29/100\n",
      "1/1 [==============================] - 0s 41ms/step - loss: 125.3556 - mse: 125.3556 - val_loss: 163.4803 - val_mse: 163.4803\n",
      "Epoch 30/100\n",
      "1/1 [==============================] - 0s 38ms/step - loss: 108.7217 - mse: 108.7217 - val_loss: 140.0608 - val_mse: 140.0608\n",
      "Epoch 31/100\n",
      "1/1 [==============================] - 0s 40ms/step - loss: 93.5989 - mse: 93.5989 - val_loss: 118.9775 - val_mse: 118.9775\n",
      "Epoch 32/100\n",
      "1/1 [==============================] - 0s 40ms/step - loss: 79.9553 - mse: 79.9553 - val_loss: 125.7265 - val_mse: 125.7265\n",
      "Epoch 33/100\n",
      "1/1 [==============================] - 0s 35ms/step - loss: 84.2335 - mse: 84.2335 - val_loss: 131.9226 - val_mse: 131.9226\n",
      "Epoch 34/100\n",
      "1/1 [==============================] - 0s 39ms/step - loss: 88.3363 - mse: 88.3363 - val_loss: 109.1715 - val_mse: 109.1715\n",
      "Epoch 35/100\n",
      "1/1 [==============================] - 0s 39ms/step - loss: 73.5917 - mse: 73.5917 - val_loss: 90.8490 - val_mse: 90.8490\n",
      "Epoch 36/100\n",
      "1/1 [==============================] - 0s 39ms/step - loss: 61.6898 - mse: 61.6898 - val_loss: 73.4098 - val_mse: 73.4098\n",
      "Epoch 37/100\n",
      "1/1 [==============================] - 0s 36ms/step - loss: 50.3172 - mse: 50.3172 - val_loss: 58.6071 - val_mse: 58.6071\n",
      "Epoch 38/100\n",
      "1/1 [==============================] - 0s 45ms/step - loss: 40.6225 - mse: 40.6225 - val_loss: 46.1948 - val_mse: 46.1948\n",
      "Epoch 39/100\n",
      "1/1 [==============================] - 0s 41ms/step - loss: 32.4519 - mse: 32.4519 - val_loss: 36.1424 - val_mse: 36.1424\n",
      "Epoch 40/100\n",
      "1/1 [==============================] - 0s 40ms/step - loss: 25.7917 - mse: 25.7917 - val_loss: 28.2750 - val_mse: 28.2750\n",
      "Epoch 41/100\n",
      "1/1 [==============================] - 0s 39ms/step - loss: 20.5482 - mse: 20.5482 - val_loss: 34.9187 - val_mse: 34.9187\n",
      "Epoch 42/100\n",
      "1/1 [==============================] - 0s 40ms/step - loss: 24.9272 - mse: 24.9272 - val_loss: 34.4440 - val_mse: 34.4440\n",
      "Epoch 43/100\n",
      "1/1 [==============================] - 0s 36ms/step - loss: 24.6652 - mse: 24.6652 - val_loss: 25.2115 - val_mse: 25.2115\n",
      "Epoch 44/100\n",
      "1/1 [==============================] - 0s 34ms/step - loss: 18.4909 - mse: 18.4909 - val_loss: 18.6375 - val_mse: 18.6375\n",
      "Epoch 45/100\n",
      "1/1 [==============================] - 0s 37ms/step - loss: 14.0536 - mse: 14.0536 - val_loss: 13.1284 - val_mse: 13.1284\n",
      "Epoch 46/100\n",
      "1/1 [==============================] - 0s 36ms/step - loss: 10.2842 - mse: 10.2842 - val_loss: 9.0967 - val_mse: 9.0967\n",
      "Epoch 47/100\n",
      "1/1 [==============================] - 0s 31ms/step - loss: 7.4780 - mse: 7.4780 - val_loss: 6.2144 - val_mse: 6.2144\n",
      "Epoch 48/100\n",
      "1/1 [==============================] - 0s 35ms/step - loss: 5.4269 - mse: 5.4269 - val_loss: 4.2068 - val_mse: 4.2068\n",
      "Epoch 49/100\n",
      "1/1 [==============================] - 0s 32ms/step - loss: 3.9563 - mse: 3.9563 - val_loss: 2.8882 - val_mse: 2.8882\n",
      "Epoch 50/100\n",
      "1/1 [==============================] - 0s 28ms/step - loss: 2.9517 - mse: 2.9517 - val_loss: 2.0425 - val_mse: 2.0425\n",
      "Epoch 51/100\n",
      "1/1 [==============================] - 0s 32ms/step - loss: 2.2764 - mse: 2.2764 - val_loss: 1.4681 - val_mse: 1.4681\n",
      "Epoch 52/100\n",
      "1/1 [==============================] - 0s 33ms/step - loss: 1.7831 - mse: 1.7831 - val_loss: 1.1333 - val_mse: 1.1333\n",
      "Epoch 53/100\n",
      "1/1 [==============================] - 0s 33ms/step - loss: 1.4629 - mse: 1.4629 - val_loss: 1.0783 - val_mse: 1.0783\n",
      "Epoch 54/100\n",
      "1/1 [==============================] - 0s 32ms/step - loss: 1.3943 - mse: 1.3943 - val_loss: 1.2636 - val_mse: 1.2636\n",
      "Epoch 55/100\n",
      "1/1 [==============================] - 0s 32ms/step - loss: 1.5927 - mse: 1.5927 - val_loss: 1.0062 - val_mse: 1.0062\n",
      "Epoch 56/100\n",
      "1/1 [==============================] - 0s 33ms/step - loss: 1.3235 - mse: 1.3235 - val_loss: 0.8875 - val_mse: 0.8875\n",
      "Epoch 57/100\n",
      "1/1 [==============================] - 0s 32ms/step - loss: 1.1628 - mse: 1.1628 - val_loss: 0.8500 - val_mse: 0.8500\n",
      "Epoch 58/100\n",
      "1/1 [==============================] - 0s 26ms/step - loss: 1.0706 - mse: 1.0706 - val_loss: 0.8546 - val_mse: 0.8546\n",
      "Epoch 59/100\n",
      "1/1 [==============================] - 0s 33ms/step - loss: 1.0224 - mse: 1.0224 - val_loss: 0.8756 - val_mse: 0.8756\n"
     ]
    },
    {
     "name": "stdout",
     "output_type": "stream",
     "text": [
      "Epoch 60/100\n",
      "1/1 [==============================] - 0s 33ms/step - loss: 0.9983 - mse: 0.9983 - val_loss: 0.8996 - val_mse: 0.8996\n",
      "Epoch 61/100\n",
      "1/1 [==============================] - 0s 33ms/step - loss: 0.9867 - mse: 0.9867 - val_loss: 0.9208 - val_mse: 0.9208\n",
      "Epoch 62/100\n",
      "1/1 [==============================] - 0s 33ms/step - loss: 0.9815 - mse: 0.9815 - val_loss: 0.9371 - val_mse: 0.9371\n",
      "Epoch 63/100\n",
      "1/1 [==============================] - 0s 28ms/step - loss: 0.9792 - mse: 0.9792 - val_loss: 0.9487 - val_mse: 0.9487\n",
      "Epoch 64/100\n",
      "1/1 [==============================] - 0s 44ms/step - loss: 0.9783 - mse: 0.9783 - val_loss: 0.9565 - val_mse: 0.9565\n",
      "Epoch 65/100\n",
      "1/1 [==============================] - 0s 36ms/step - loss: 0.9780 - mse: 0.9780 - val_loss: 0.9613 - val_mse: 0.9613\n",
      "Epoch 66/100\n",
      "1/1 [==============================] - 0s 33ms/step - loss: 0.9779 - mse: 0.9779 - val_loss: 0.9641 - val_mse: 0.9641\n",
      "Epoch 67/100\n",
      "1/1 [==============================] - 0s 33ms/step - loss: 0.9778 - mse: 0.9778 - val_loss: 0.9658 - val_mse: 0.9658\n",
      "Epoch 68/100\n",
      "1/1 [==============================] - 0s 34ms/step - loss: 0.9778 - mse: 0.9778 - val_loss: 0.9666 - val_mse: 0.9666\n",
      "Epoch 69/100\n",
      "1/1 [==============================] - 0s 24ms/step - loss: 0.9778 - mse: 0.9778 - val_loss: 0.9670 - val_mse: 0.9670\n",
      "Epoch 70/100\n",
      "1/1 [==============================] - 0s 33ms/step - loss: 0.9778 - mse: 0.9778 - val_loss: 0.9673 - val_mse: 0.9673\n",
      "Epoch 71/100\n",
      "1/1 [==============================] - 0s 39ms/step - loss: 0.9778 - mse: 0.9778 - val_loss: 0.9674 - val_mse: 0.9674\n",
      "Epoch 72/100\n",
      "1/1 [==============================] - 0s 32ms/step - loss: 0.9778 - mse: 0.9778 - val_loss: 0.9675 - val_mse: 0.9675\n",
      "Epoch 73/100\n",
      "1/1 [==============================] - 0s 33ms/step - loss: 0.9778 - mse: 0.9778 - val_loss: 0.9675 - val_mse: 0.9675\n",
      "Epoch 74/100\n",
      "1/1 [==============================] - 0s 32ms/step - loss: 0.9778 - mse: 0.9778 - val_loss: 0.9675 - val_mse: 0.9675\n",
      "Epoch 75/100\n",
      "1/1 [==============================] - 0s 39ms/step - loss: 0.9778 - mse: 0.9778 - val_loss: 0.9675 - val_mse: 0.9675\n",
      "Epoch 76/100\n",
      "1/1 [==============================] - 0s 36ms/step - loss: 0.9778 - mse: 0.9778 - val_loss: 0.9675 - val_mse: 0.9675\n",
      "Epoch 77/100\n",
      "1/1 [==============================] - 0s 33ms/step - loss: 0.9778 - mse: 0.9778 - val_loss: 0.9675 - val_mse: 0.9675\n",
      "Epoch 78/100\n",
      "1/1 [==============================] - 0s 33ms/step - loss: 0.9778 - mse: 0.9778 - val_loss: 0.9675 - val_mse: 0.9675\n",
      "Epoch 79/100\n",
      "1/1 [==============================] - 0s 39ms/step - loss: 0.9778 - mse: 0.9778 - val_loss: 0.9675 - val_mse: 0.9675\n",
      "Epoch 80/100\n",
      "1/1 [==============================] - 0s 42ms/step - loss: 0.9777 - mse: 0.9777 - val_loss: 0.9675 - val_mse: 0.9675\n",
      "Epoch 81/100\n",
      "1/1 [==============================] - 0s 33ms/step - loss: 0.9777 - mse: 0.9777 - val_loss: 0.9675 - val_mse: 0.9675\n",
      "Epoch 82/100\n",
      "1/1 [==============================] - 0s 35ms/step - loss: 0.9777 - mse: 0.9777 - val_loss: 0.9675 - val_mse: 0.9675\n",
      "Epoch 83/100\n",
      "1/1 [==============================] - 0s 32ms/step - loss: 0.9777 - mse: 0.9777 - val_loss: 0.9675 - val_mse: 0.9675\n",
      "Epoch 84/100\n",
      "1/1 [==============================] - 0s 38ms/step - loss: 0.9777 - mse: 0.9777 - val_loss: 0.9675 - val_mse: 0.9675\n",
      "Epoch 85/100\n",
      "1/1 [==============================] - 0s 33ms/step - loss: 0.9777 - mse: 0.9777 - val_loss: 0.9674 - val_mse: 0.9674\n",
      "Epoch 86/100\n",
      "1/1 [==============================] - 0s 40ms/step - loss: 0.9777 - mse: 0.9777 - val_loss: 0.9674 - val_mse: 0.9674\n",
      "Epoch 87/100\n",
      "1/1 [==============================] - 0s 35ms/step - loss: 0.9777 - mse: 0.9777 - val_loss: 0.9674 - val_mse: 0.9674\n",
      "Epoch 88/100\n",
      "1/1 [==============================] - 0s 29ms/step - loss: 0.9776 - mse: 0.9776 - val_loss: 0.9674 - val_mse: 0.9674\n",
      "Epoch 89/100\n",
      "1/1 [==============================] - 0s 36ms/step - loss: 0.9776 - mse: 0.9776 - val_loss: 0.9674 - val_mse: 0.9674\n",
      "Epoch 90/100\n",
      "1/1 [==============================] - 0s 33ms/step - loss: 0.9776 - mse: 0.9776 - val_loss: 0.9674 - val_mse: 0.9674\n",
      "Epoch 91/100\n",
      "1/1 [==============================] - 0s 34ms/step - loss: 0.9776 - mse: 0.9776 - val_loss: 0.9674 - val_mse: 0.9674\n",
      "Epoch 92/100\n",
      "1/1 [==============================] - 0s 26ms/step - loss: 0.9776 - mse: 0.9776 - val_loss: 0.9674 - val_mse: 0.9674\n",
      "Epoch 93/100\n",
      "1/1 [==============================] - 0s 44ms/step - loss: 0.9776 - mse: 0.9776 - val_loss: 0.9674 - val_mse: 0.9674\n",
      "Epoch 94/100\n",
      "1/1 [==============================] - 0s 33ms/step - loss: 0.9776 - mse: 0.9776 - val_loss: 0.9673 - val_mse: 0.9673\n",
      "Epoch 95/100\n",
      "1/1 [==============================] - 0s 33ms/step - loss: 0.9776 - mse: 0.9776 - val_loss: 0.9673 - val_mse: 0.9673\n",
      "Epoch 96/100\n",
      "1/1 [==============================] - 0s 29ms/step - loss: 0.9775 - mse: 0.9775 - val_loss: 0.9673 - val_mse: 0.9673\n",
      "Epoch 97/100\n",
      "1/1 [==============================] - 0s 33ms/step - loss: 0.9775 - mse: 0.9775 - val_loss: 0.9673 - val_mse: 0.9673\n",
      "Epoch 98/100\n",
      "1/1 [==============================] - 0s 28ms/step - loss: 0.9775 - mse: 0.9775 - val_loss: 0.9673 - val_mse: 0.9673\n",
      "Epoch 99/100\n",
      "1/1 [==============================] - 0s 36ms/step - loss: 0.9775 - mse: 0.9775 - val_loss: 0.9673 - val_mse: 0.9673\n",
      "Epoch 100/100\n",
      "1/1 [==============================] - 0s 34ms/step - loss: 0.9775 - mse: 0.9775 - val_loss: 0.9672 - val_mse: 0.9672\n"
     ]
    }
   ],
   "source": [
    "N_EPOCHS = 100\n",
    "history = model.fit(X_train, y_train, epochs = N_EPOCHS, validation_data=(X_test, y_test))"
   ]
  },
  {
   "cell_type": "code",
   "execution_count": 39,
   "id": "383b6c2e",
   "metadata": {},
   "outputs": [
    {
     "data": {
      "image/png": "[encoded data removed]",
      "text/plain": [
       "<Figure size 720x504 with 1 Axes>"
      ]
     },
     "metadata": {
      "needs_background": "light"
     },
     "output_type": "display_data"
    }
   ],
   "source": [
    "import matplotlib.pyplot as plt\n",
    "plt.figure(figsize=(10,7))\n",
    "plt.plot(range(N_EPOCHS), history.history['loss'], label='train loss')\n",
    "plt.plot(range(N_EPOCHS), history.history['val_loss'], label='test loss')\n",
    "plt.xlabel('Epoch')\n",
    "plt.ylabel('Loss')\n",
    "plt.legend()\n",
    "plt.show()"
   ]
  },
  {
   "cell_type": "code",
   "execution_count": 40,
   "id": "0361ec3e",
   "metadata": {},
   "outputs": [
    {
     "data": {
      "image/png": "[encoded data removed]",
      "text/plain": [
       "<Figure size 720x504 with 1 Axes>"
      ]
     },
     "metadata": {
      "needs_background": "light"
     },
     "output_type": "display_data"
    }
   ],
   "source": [
    "import matplotlib.pyplot as plt\n",
    "plt.figure(figsize=(10,7))\n",
    "plt.plot(range(N_EPOCHS), history.history['mse'], label='mse')\n",
    "plt.plot(range(N_EPOCHS), history.history['val_mse'], label='test mse')\n",
    "plt.xlabel('Epoch')\n",
    "plt.ylabel('Loss')\n",
    "plt.legend()\n",
    "plt.show()"
   ]
  },
  {
   "cell_type": "code",
   "execution_count": 41,
   "id": "196b62ff",
   "metadata": {},
   "outputs": [
    {
     "name": "stdout",
     "output_type": "stream",
     "text": [
      "1/1 [==============================] - 0s 27ms/step - loss: 0.9672 - mse: 0.9672\n"
     ]
    }
   ],
   "source": [
    "test_mse_score, test_mae_score=model.evaluate(X_test, y_test)\n"
   ]
  }
 ],
 "metadata": {
  "kernelspec": {
   "display_name": "Python 3 (ipykernel)",
   "language": "python",
   "name": "python3"
  },
  "language_info": {
   "codemirror_mode": {
    "name": "ipython",
    "version": 3
   },
   "file_extension": ".py",
   "mimetype": "text/x-python",
   "name": "python",
   "nbconvert_exporter": "python",
   "pygments_lexer": "ipython3",
   "version": "3.9.12"
  }
 },
 "nbformat": 4,
 "nbformat_minor": 5
}
