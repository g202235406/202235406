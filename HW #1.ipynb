{
 "cells": [
  {
   "cell_type": "code",
   "execution_count": 1,
   "id": "b8f2589c",
   "metadata": {},
   "outputs": [],
   "source": [
    "from sklearn.datasets import load_breast_cancer\n",
    "\n",
    "import pandas as pd"
   ]
  },
  {
   "cell_type": "code",
   "execution_count": 2,
   "id": "747f5daa",
   "metadata": {},
   "outputs": [],
   "source": [
    "breast_cancer_data = load_breast_cancer()\n",
    "\n",
    "df_data = pd.DataFrame(breast_cancer_data.data)\n",
    "\n",
    "df_labels = pd.DataFrame(breast_cancer_data.target)"
   ]
  },
  {
   "cell_type": "code",
   "execution_count": 3,
   "id": "92b9a6c8",
   "metadata": {},
   "outputs": [
    {
     "name": "stdout",
     "output_type": "stream",
     "text": [
      "      0      1       2       3        4        5        6        7       8   \\\n",
      "0  17.99  10.38  122.80  1001.0  0.11840  0.27760  0.30010  0.14710  0.2419   \n",
      "1  20.57  17.77  132.90  1326.0  0.08474  0.07864  0.08690  0.07017  0.1812   \n",
      "2  19.69  21.25  130.00  1203.0  0.10960  0.15990  0.19740  0.12790  0.2069   \n",
      "3  11.42  20.38   77.58   386.1  0.14250  0.28390  0.24140  0.10520  0.2597   \n",
      "4  20.29  14.34  135.10  1297.0  0.10030  0.13280  0.19800  0.10430  0.1809   \n",
      "5  12.45  15.70   82.57   477.1  0.12780  0.17000  0.15780  0.08089  0.2087   \n",
      "6  18.25  19.98  119.60  1040.0  0.09463  0.10900  0.11270  0.07400  0.1794   \n",
      "7  13.71  20.83   90.20   577.9  0.11890  0.16450  0.09366  0.05985  0.2196   \n",
      "8  13.00  21.82   87.50   519.8  0.12730  0.19320  0.18590  0.09353  0.2350   \n",
      "9  12.46  24.04   83.97   475.9  0.11860  0.23960  0.22730  0.08543  0.2030   \n",
      "\n",
      "        9   ...     20     21      22      23      24      25      26      27  \\\n",
      "0  0.07871  ...  25.38  17.33  184.60  2019.0  0.1622  0.6656  0.7119  0.2654   \n",
      "1  0.05667  ...  24.99  23.41  158.80  1956.0  0.1238  0.1866  0.2416  0.1860   \n",
      "2  0.05999  ...  23.57  25.53  152.50  1709.0  0.1444  0.4245  0.4504  0.2430   \n",
      "3  0.09744  ...  14.91  26.50   98.87   567.7  0.2098  0.8663  0.6869  0.2575   \n",
      "4  0.05883  ...  22.54  16.67  152.20  1575.0  0.1374  0.2050  0.4000  0.1625   \n",
      "5  0.07613  ...  15.47  23.75  103.40   741.6  0.1791  0.5249  0.5355  0.1741   \n",
      "6  0.05742  ...  22.88  27.66  153.20  1606.0  0.1442  0.2576  0.3784  0.1932   \n",
      "7  0.07451  ...  17.06  28.14  110.60   897.0  0.1654  0.3682  0.2678  0.1556   \n",
      "8  0.07389  ...  15.49  30.73  106.20   739.3  0.1703  0.5401  0.5390  0.2060   \n",
      "9  0.08243  ...  15.09  40.68   97.65   711.4  0.1853  1.0580  1.1050  0.2210   \n",
      "\n",
      "       28       29  \n",
      "0  0.4601  0.11890  \n",
      "1  0.2750  0.08902  \n",
      "2  0.3613  0.08758  \n",
      "3  0.6638  0.17300  \n",
      "4  0.2364  0.07678  \n",
      "5  0.3985  0.12440  \n",
      "6  0.3063  0.08368  \n",
      "7  0.3196  0.11510  \n",
      "8  0.4378  0.10720  \n",
      "9  0.4366  0.20750  \n",
      "\n",
      "[10 rows x 30 columns]\n"
     ]
    }
   ],
   "source": [
    "print(df_data[:10])"
   ]
  },
  {
   "cell_type": "code",
   "execution_count": 4,
   "id": "130b9a4c",
   "metadata": {},
   "outputs": [
    {
     "name": "stdout",
     "output_type": "stream",
     "text": [
      "   0\n",
      "0  0\n",
      "1  0\n",
      "2  0\n",
      "3  0\n",
      "4  0\n",
      "5  0\n",
      "6  0\n",
      "7  0\n",
      "8  0\n",
      "9  0\n"
     ]
    }
   ],
   "source": [
    "print(df_labels[0:10])"
   ]
  },
  {
   "cell_type": "code",
   "execution_count": 5,
   "id": "8dabf95a",
   "metadata": {},
   "outputs": [
    {
     "name": "stdout",
     "output_type": "stream",
     "text": [
      "['malignant' 'benign']\n"
     ]
    }
   ],
   "source": [
    "print(breast_cancer_data.target_names)"
   ]
  },
  {
   "cell_type": "code",
   "execution_count": 6,
   "id": "7bdb8d6a",
   "metadata": {},
   "outputs": [],
   "source": [
    "from sklearn.model_selection import train_test_split\n",
    "X_train, X_test, y_train, y_test = train_test_split(\n",
    "    df_data, df_labels, test_size = 0.2, random_state=42)"
   ]
  },
  {
   "cell_type": "code",
   "execution_count": 7,
   "id": "ef9beb89",
   "metadata": {},
   "outputs": [
    {
     "name": "stdout",
     "output_type": "stream",
     "text": [
      "X_train.shape : (455, 30)\n",
      "y_train.shape : (455, 1)\n",
      "X_test.shape: (114, 30)\n",
      "y_test.shape: (114, 1)\n"
     ]
    }
   ],
   "source": [
    "print(\"X_train.shape :\", X_train.shape)\n",
    "\n",
    "print(\"y_train.shape :\", y_train.shape)\n",
    "\n",
    "print(\"X_test.shape:\", X_test.shape)\n",
    "\n",
    "print(\"y_test.shape:\", y_test.shape)"
   ]
  },
  {
   "cell_type": "code",
   "execution_count": 8,
   "id": "afbe5261",
   "metadata": {},
   "outputs": [
    {
     "name": "stdout",
     "output_type": "stream",
     "text": [
      "         0      1       2       3        4        5        6        7   \\\n",
      "68    9.029  17.33   58.79   250.5  0.10660  0.14130  0.31300  0.04375   \n",
      "181  21.090  26.57  142.70  1311.0  0.11410  0.28320  0.24870  0.14960   \n",
      "63    9.173  13.86   59.20   260.9  0.07721  0.08751  0.05988  0.02180   \n",
      "248  10.650  25.22   68.01   347.0  0.09657  0.07234  0.02379  0.01615   \n",
      "60   10.170  14.88   64.55   311.9  0.11340  0.08061  0.01084  0.01290   \n",
      "..      ...    ...     ...     ...      ...      ...      ...      ...   \n",
      "71    8.888  14.64   58.79   244.0  0.09783  0.15310  0.08606  0.02872   \n",
      "106  11.640  18.33   75.17   412.5  0.11420  0.10170  0.07070  0.03485   \n",
      "270  14.290  16.82   90.30   632.6  0.06429  0.02675  0.00725  0.00625   \n",
      "435  13.980  19.62   91.12   599.5  0.10600  0.11330  0.11260  0.06463   \n",
      "102  12.180  20.52   77.22   458.7  0.08013  0.04038  0.02383  0.01770   \n",
      "\n",
      "         8        9   ...      20     21      22      23       24       25  \\\n",
      "68   0.2111  0.08046  ...  10.310  22.65   65.50   324.7  0.14820  0.43650   \n",
      "181  0.2395  0.07398  ...  26.680  33.48  176.50  2089.0  0.14910  0.75840   \n",
      "63   0.2341  0.06963  ...  10.010  19.23   65.59   310.1  0.09836  0.16780   \n",
      "248  0.1897  0.06329  ...  12.250  35.19   77.98   455.7  0.14990  0.13980   \n",
      "60   0.2743  0.06960  ...  11.020  17.45   69.86   368.6  0.12750  0.09866   \n",
      "..      ...      ...  ...     ...    ...     ...     ...      ...      ...   \n",
      "71   0.1902  0.08980  ...   9.733  15.67   62.56   284.4  0.12070  0.24360   \n",
      "106  0.1801  0.06520  ...  13.140  29.26   85.51   521.7  0.16880  0.26600   \n",
      "270  0.1508  0.05376  ...  14.910  20.65   94.44   684.6  0.08567  0.05036   \n",
      "435  0.1669  0.06544  ...  17.040  30.80  113.90   869.3  0.16130  0.35680   \n",
      "102  0.1739  0.05677  ...  13.340  32.84   84.58   547.8  0.11230  0.08862   \n",
      "\n",
      "          26       27      28       29  \n",
      "68   1.25200  0.17500  0.4228  0.11750  \n",
      "181  0.67800  0.29030  0.4098  0.12840  \n",
      "63   0.13970  0.05087  0.3282  0.08490  \n",
      "248  0.11250  0.06136  0.3409  0.08147  \n",
      "60   0.02168  0.02579  0.3557  0.08020  \n",
      "..       ...      ...     ...      ...  \n",
      "71   0.14340  0.04786  0.2254  0.10840  \n",
      "106  0.28730  0.12180  0.2806  0.09097  \n",
      "270  0.03866  0.03333  0.2458  0.06120  \n",
      "435  0.40690  0.18270  0.3179  0.10550  \n",
      "102  0.11450  0.07431  0.2694  0.06878  \n",
      "\n",
      "[455 rows x 30 columns]\n"
     ]
    }
   ],
   "source": [
    "print(X_train)"
   ]
  },
  {
   "cell_type": "code",
   "execution_count": 9,
   "id": "79d0c1e4",
   "metadata": {},
   "outputs": [
    {
     "data": {
      "text/plain": [
       "KNeighborsClassifier(n_neighbors=3)"
      ]
     },
     "execution_count": 9,
     "metadata": {},
     "output_type": "execute_result"
    }
   ],
   "source": [
    "from sklearn.neighbors import KNeighborsClassifier\n",
    "\n",
    "mymodel = KNeighborsClassifier(n_neighbors=3)\n",
    "mymodel.fit(X_train, y_train.values.ravel())"
   ]
  },
  {
   "cell_type": "code",
   "execution_count": 10,
   "id": "0df5e370",
   "metadata": {},
   "outputs": [
    {
     "data": {
      "text/plain": [
       "0.9298245614035088"
      ]
     },
     "execution_count": 10,
     "metadata": {},
     "output_type": "execute_result"
    }
   ],
   "source": [
    "prediction = mymodel.predict(X_test)\n",
    "mymodel.score(X_test, y_test)\n"
   ]
  },
  {
   "cell_type": "code",
   "execution_count": 11,
   "id": "c50f64d2",
   "metadata": {},
   "outputs": [
    {
     "data": {
      "text/plain": [
       "0.9385964912280702"
      ]
     },
     "execution_count": 11,
     "metadata": {},
     "output_type": "execute_result"
    }
   ],
   "source": [
    "from sklearn.neighbors import KNeighborsClassifier\n",
    "\n",
    "mymodel = KNeighborsClassifier(n_neighbors=4)\n",
    "mymodel.fit(X_train, y_train.values.ravel())\n",
    "prediction = mymodel.predict(X_test)\n",
    "mymodel.score(X_test, y_test)"
   ]
  },
  {
   "cell_type": "code",
   "execution_count": 12,
   "id": "ffcd8b7d",
   "metadata": {},
   "outputs": [
    {
     "name": "stdout",
     "output_type": "stream",
     "text": [
      "5\n",
      "6\n",
      "10\n",
      "11\n",
      "정확도가 가장 높은 최근접 이웃 개수는 정확도가 98.245614035%인 11 입니다.\n"
     ]
    }
   ],
   "source": [
    "a = mymodel.score(X_test, y_test)\n",
    "for n in range(3, 100):\n",
    "    # 최근접 이웃 개수 설정\n",
    "    mymodel.n_neighbors = n\n",
    "    # 점수 계산\n",
    "    score = mymodel.score(X_test, y_test)\n",
    "    if score > a:\n",
    "        print(n)\n",
    "        a = score\n",
    "        max = n\n",
    "mymodel.n_neighbors = max\n",
    "max_S = mymodel.score(X_test, y_test)\n",
    "print(\"정확도가 가장 높은 최근접 이웃 개수는 정확도가 %.9f%%인 %d 입니다.\"%(max_S*100, max))"
   ]
  },
  {
   "cell_type": "code",
   "execution_count": 13,
   "id": "07bb3c72",
   "metadata": {},
   "outputs": [
    {
     "data": {
      "text/plain": [
       "0.9824561403508771"
      ]
     },
     "execution_count": 13,
     "metadata": {},
     "output_type": "execute_result"
    }
   ],
   "source": [
    "mymodel.n_neighbors = 11\n",
    "mymodel.score(X_test, y_test)"
   ]
  }
 ],
 "metadata": {
  "kernelspec": {
   "display_name": "Python 3 (ipykernel)",
   "language": "python",
   "name": "python3"
  },
  "language_info": {
   "codemirror_mode": {
    "name": "ipython",
    "version": 3
   },
   "file_extension": ".py",
   "mimetype": "text/x-python",
   "name": "python",
   "nbconvert_exporter": "python",
   "pygments_lexer": "ipython3",
   "version": "3.9.12"
  }
 },
 "nbformat": 4,
 "nbformat_minor": 5
}
