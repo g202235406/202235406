{
 "cells": [
  {
   "cell_type": "code",
   "execution_count": 1,
   "id": "5987d877",
   "metadata": {},
   "outputs": [],
   "source": [
    "import matplotlib.pyplot as plt\n",
    "import numpy as np\n",
    "import pandas as pd\n",
    "import seaborn as sns\n",
    "from sklearn.model_selection import train_test_split\n",
    "from sklearn import metrics\n",
    "import tensorflow as tf\n",
    "from tensorflow import keras\n",
    "from tensorflow.keras import layers"
   ]
  },
  {
   "cell_type": "code",
   "execution_count": 2,
   "id": "2d5fd515",
   "metadata": {},
   "outputs": [
    {
     "data": {
      "text/html": [
       "<div>\n",
       "<style scoped>\n",
       "    .dataframe tbody tr th:only-of-type {\n",
       "        vertical-align: middle;\n",
       "    }\n",
       "\n",
       "    .dataframe tbody tr th {\n",
       "        vertical-align: top;\n",
       "    }\n",
       "\n",
       "    .dataframe thead th {\n",
       "        text-align: right;\n",
       "    }\n",
       "</style>\n",
       "<table border=\"1\" class=\"dataframe\">\n",
       "  <thead>\n",
       "    <tr style=\"text-align: right;\">\n",
       "      <th></th>\n",
       "      <th>Area</th>\n",
       "      <th>Perimeter</th>\n",
       "      <th>MajorAxisLength</th>\n",
       "      <th>MinorAxisLength</th>\n",
       "      <th>AspectRation</th>\n",
       "      <th>Eccentricity</th>\n",
       "      <th>ConvexArea</th>\n",
       "      <th>EquivDiameter</th>\n",
       "      <th>Extent</th>\n",
       "      <th>Solidity</th>\n",
       "      <th>roundness</th>\n",
       "      <th>Compactness</th>\n",
       "      <th>ShapeFactor1</th>\n",
       "      <th>ShapeFactor2</th>\n",
       "      <th>ShapeFactor3</th>\n",
       "      <th>ShapeFactor4</th>\n",
       "      <th>Class</th>\n",
       "    </tr>\n",
       "  </thead>\n",
       "  <tbody>\n",
       "    <tr>\n",
       "      <th>0</th>\n",
       "      <td>28395</td>\n",
       "      <td>610.291</td>\n",
       "      <td>208.178117</td>\n",
       "      <td>173.888747</td>\n",
       "      <td>1.197191</td>\n",
       "      <td>0.549812</td>\n",
       "      <td>28715</td>\n",
       "      <td>190.141097</td>\n",
       "      <td>0.763923</td>\n",
       "      <td>0.988856</td>\n",
       "      <td>0.958027</td>\n",
       "      <td>0.913358</td>\n",
       "      <td>0.007332</td>\n",
       "      <td>0.003147</td>\n",
       "      <td>0.834222</td>\n",
       "      <td>0.998724</td>\n",
       "      <td>SEKER</td>\n",
       "    </tr>\n",
       "    <tr>\n",
       "      <th>1</th>\n",
       "      <td>28734</td>\n",
       "      <td>638.018</td>\n",
       "      <td>200.524796</td>\n",
       "      <td>182.734419</td>\n",
       "      <td>1.097356</td>\n",
       "      <td>0.411785</td>\n",
       "      <td>29172</td>\n",
       "      <td>191.272750</td>\n",
       "      <td>0.783968</td>\n",
       "      <td>0.984986</td>\n",
       "      <td>0.887034</td>\n",
       "      <td>0.953861</td>\n",
       "      <td>0.006979</td>\n",
       "      <td>0.003564</td>\n",
       "      <td>0.909851</td>\n",
       "      <td>0.998430</td>\n",
       "      <td>SEKER</td>\n",
       "    </tr>\n",
       "    <tr>\n",
       "      <th>2</th>\n",
       "      <td>29380</td>\n",
       "      <td>624.110</td>\n",
       "      <td>212.826130</td>\n",
       "      <td>175.931143</td>\n",
       "      <td>1.209713</td>\n",
       "      <td>0.562727</td>\n",
       "      <td>29690</td>\n",
       "      <td>193.410904</td>\n",
       "      <td>0.778113</td>\n",
       "      <td>0.989559</td>\n",
       "      <td>0.947849</td>\n",
       "      <td>0.908774</td>\n",
       "      <td>0.007244</td>\n",
       "      <td>0.003048</td>\n",
       "      <td>0.825871</td>\n",
       "      <td>0.999066</td>\n",
       "      <td>SEKER</td>\n",
       "    </tr>\n",
       "    <tr>\n",
       "      <th>3</th>\n",
       "      <td>30008</td>\n",
       "      <td>645.884</td>\n",
       "      <td>210.557999</td>\n",
       "      <td>182.516516</td>\n",
       "      <td>1.153638</td>\n",
       "      <td>0.498616</td>\n",
       "      <td>30724</td>\n",
       "      <td>195.467062</td>\n",
       "      <td>0.782681</td>\n",
       "      <td>0.976696</td>\n",
       "      <td>0.903936</td>\n",
       "      <td>0.928329</td>\n",
       "      <td>0.007017</td>\n",
       "      <td>0.003215</td>\n",
       "      <td>0.861794</td>\n",
       "      <td>0.994199</td>\n",
       "      <td>SEKER</td>\n",
       "    </tr>\n",
       "    <tr>\n",
       "      <th>4</th>\n",
       "      <td>30140</td>\n",
       "      <td>620.134</td>\n",
       "      <td>201.847882</td>\n",
       "      <td>190.279279</td>\n",
       "      <td>1.060798</td>\n",
       "      <td>0.333680</td>\n",
       "      <td>30417</td>\n",
       "      <td>195.896503</td>\n",
       "      <td>0.773098</td>\n",
       "      <td>0.990893</td>\n",
       "      <td>0.984877</td>\n",
       "      <td>0.970516</td>\n",
       "      <td>0.006697</td>\n",
       "      <td>0.003665</td>\n",
       "      <td>0.941900</td>\n",
       "      <td>0.999166</td>\n",
       "      <td>SEKER</td>\n",
       "    </tr>\n",
       "    <tr>\n",
       "      <th>...</th>\n",
       "      <td>...</td>\n",
       "      <td>...</td>\n",
       "      <td>...</td>\n",
       "      <td>...</td>\n",
       "      <td>...</td>\n",
       "      <td>...</td>\n",
       "      <td>...</td>\n",
       "      <td>...</td>\n",
       "      <td>...</td>\n",
       "      <td>...</td>\n",
       "      <td>...</td>\n",
       "      <td>...</td>\n",
       "      <td>...</td>\n",
       "      <td>...</td>\n",
       "      <td>...</td>\n",
       "      <td>...</td>\n",
       "      <td>...</td>\n",
       "    </tr>\n",
       "    <tr>\n",
       "      <th>13606</th>\n",
       "      <td>42097</td>\n",
       "      <td>759.696</td>\n",
       "      <td>288.721612</td>\n",
       "      <td>185.944705</td>\n",
       "      <td>1.552728</td>\n",
       "      <td>0.765002</td>\n",
       "      <td>42508</td>\n",
       "      <td>231.515799</td>\n",
       "      <td>0.714574</td>\n",
       "      <td>0.990331</td>\n",
       "      <td>0.916603</td>\n",
       "      <td>0.801865</td>\n",
       "      <td>0.006858</td>\n",
       "      <td>0.001749</td>\n",
       "      <td>0.642988</td>\n",
       "      <td>0.998385</td>\n",
       "      <td>DERMASON</td>\n",
       "    </tr>\n",
       "    <tr>\n",
       "      <th>13607</th>\n",
       "      <td>42101</td>\n",
       "      <td>757.499</td>\n",
       "      <td>281.576392</td>\n",
       "      <td>190.713136</td>\n",
       "      <td>1.476439</td>\n",
       "      <td>0.735702</td>\n",
       "      <td>42494</td>\n",
       "      <td>231.526798</td>\n",
       "      <td>0.799943</td>\n",
       "      <td>0.990752</td>\n",
       "      <td>0.922015</td>\n",
       "      <td>0.822252</td>\n",
       "      <td>0.006688</td>\n",
       "      <td>0.001886</td>\n",
       "      <td>0.676099</td>\n",
       "      <td>0.998219</td>\n",
       "      <td>DERMASON</td>\n",
       "    </tr>\n",
       "    <tr>\n",
       "      <th>13608</th>\n",
       "      <td>42139</td>\n",
       "      <td>759.321</td>\n",
       "      <td>281.539928</td>\n",
       "      <td>191.187979</td>\n",
       "      <td>1.472582</td>\n",
       "      <td>0.734065</td>\n",
       "      <td>42569</td>\n",
       "      <td>231.631261</td>\n",
       "      <td>0.729932</td>\n",
       "      <td>0.989899</td>\n",
       "      <td>0.918424</td>\n",
       "      <td>0.822730</td>\n",
       "      <td>0.006681</td>\n",
       "      <td>0.001888</td>\n",
       "      <td>0.676884</td>\n",
       "      <td>0.996767</td>\n",
       "      <td>DERMASON</td>\n",
       "    </tr>\n",
       "    <tr>\n",
       "      <th>13609</th>\n",
       "      <td>42147</td>\n",
       "      <td>763.779</td>\n",
       "      <td>283.382636</td>\n",
       "      <td>190.275731</td>\n",
       "      <td>1.489326</td>\n",
       "      <td>0.741055</td>\n",
       "      <td>42667</td>\n",
       "      <td>231.653248</td>\n",
       "      <td>0.705389</td>\n",
       "      <td>0.987813</td>\n",
       "      <td>0.907906</td>\n",
       "      <td>0.817457</td>\n",
       "      <td>0.006724</td>\n",
       "      <td>0.001852</td>\n",
       "      <td>0.668237</td>\n",
       "      <td>0.995222</td>\n",
       "      <td>DERMASON</td>\n",
       "    </tr>\n",
       "    <tr>\n",
       "      <th>13610</th>\n",
       "      <td>42159</td>\n",
       "      <td>772.237</td>\n",
       "      <td>295.142741</td>\n",
       "      <td>182.204716</td>\n",
       "      <td>1.619841</td>\n",
       "      <td>0.786693</td>\n",
       "      <td>42600</td>\n",
       "      <td>231.686223</td>\n",
       "      <td>0.788962</td>\n",
       "      <td>0.989648</td>\n",
       "      <td>0.888380</td>\n",
       "      <td>0.784997</td>\n",
       "      <td>0.007001</td>\n",
       "      <td>0.001640</td>\n",
       "      <td>0.616221</td>\n",
       "      <td>0.998180</td>\n",
       "      <td>DERMASON</td>\n",
       "    </tr>\n",
       "  </tbody>\n",
       "</table>\n",
       "<p>13611 rows × 17 columns</p>\n",
       "</div>"
      ],
      "text/plain": [
       "        Area  Perimeter  MajorAxisLength  MinorAxisLength  AspectRation  \\\n",
       "0      28395    610.291       208.178117       173.888747      1.197191   \n",
       "1      28734    638.018       200.524796       182.734419      1.097356   \n",
       "2      29380    624.110       212.826130       175.931143      1.209713   \n",
       "3      30008    645.884       210.557999       182.516516      1.153638   \n",
       "4      30140    620.134       201.847882       190.279279      1.060798   \n",
       "...      ...        ...              ...              ...           ...   \n",
       "13606  42097    759.696       288.721612       185.944705      1.552728   \n",
       "13607  42101    757.499       281.576392       190.713136      1.476439   \n",
       "13608  42139    759.321       281.539928       191.187979      1.472582   \n",
       "13609  42147    763.779       283.382636       190.275731      1.489326   \n",
       "13610  42159    772.237       295.142741       182.204716      1.619841   \n",
       "\n",
       "       Eccentricity  ConvexArea  EquivDiameter    Extent  Solidity  roundness  \\\n",
       "0          0.549812       28715     190.141097  0.763923  0.988856   0.958027   \n",
       "1          0.411785       29172     191.272750  0.783968  0.984986   0.887034   \n",
       "2          0.562727       29690     193.410904  0.778113  0.989559   0.947849   \n",
       "3          0.498616       30724     195.467062  0.782681  0.976696   0.903936   \n",
       "4          0.333680       30417     195.896503  0.773098  0.990893   0.984877   \n",
       "...             ...         ...            ...       ...       ...        ...   \n",
       "13606      0.765002       42508     231.515799  0.714574  0.990331   0.916603   \n",
       "13607      0.735702       42494     231.526798  0.799943  0.990752   0.922015   \n",
       "13608      0.734065       42569     231.631261  0.729932  0.989899   0.918424   \n",
       "13609      0.741055       42667     231.653248  0.705389  0.987813   0.907906   \n",
       "13610      0.786693       42600     231.686223  0.788962  0.989648   0.888380   \n",
       "\n",
       "       Compactness  ShapeFactor1  ShapeFactor2  ShapeFactor3  ShapeFactor4  \\\n",
       "0         0.913358      0.007332      0.003147      0.834222      0.998724   \n",
       "1         0.953861      0.006979      0.003564      0.909851      0.998430   \n",
       "2         0.908774      0.007244      0.003048      0.825871      0.999066   \n",
       "3         0.928329      0.007017      0.003215      0.861794      0.994199   \n",
       "4         0.970516      0.006697      0.003665      0.941900      0.999166   \n",
       "...            ...           ...           ...           ...           ...   \n",
       "13606     0.801865      0.006858      0.001749      0.642988      0.998385   \n",
       "13607     0.822252      0.006688      0.001886      0.676099      0.998219   \n",
       "13608     0.822730      0.006681      0.001888      0.676884      0.996767   \n",
       "13609     0.817457      0.006724      0.001852      0.668237      0.995222   \n",
       "13610     0.784997      0.007001      0.001640      0.616221      0.998180   \n",
       "\n",
       "          Class  \n",
       "0         SEKER  \n",
       "1         SEKER  \n",
       "2         SEKER  \n",
       "3         SEKER  \n",
       "4         SEKER  \n",
       "...         ...  \n",
       "13606  DERMASON  \n",
       "13607  DERMASON  \n",
       "13608  DERMASON  \n",
       "13609  DERMASON  \n",
       "13610  DERMASON  \n",
       "\n",
       "[13611 rows x 17 columns]"
      ]
     },
     "execution_count": 2,
     "metadata": {},
     "output_type": "execute_result"
    }
   ],
   "source": [
    "dataset = pd.read_csv(\"C:/Users/user/Downloads/Dry_Bean_Dataset.csv\")\n",
    "dataset"
   ]
  },
  {
   "cell_type": "code",
   "execution_count": 3,
   "id": "78ac3f24",
   "metadata": {},
   "outputs": [
    {
     "data": {
      "text/plain": [
       "Area                 int64\n",
       "Perimeter          float64\n",
       "MajorAxisLength    float64\n",
       "MinorAxisLength    float64\n",
       "AspectRation       float64\n",
       "Eccentricity       float64\n",
       "ConvexArea           int64\n",
       "EquivDiameter      float64\n",
       "Extent             float64\n",
       "Solidity           float64\n",
       "roundness          float64\n",
       "Compactness        float64\n",
       "ShapeFactor1       float64\n",
       "ShapeFactor2       float64\n",
       "ShapeFactor3       float64\n",
       "ShapeFactor4       float64\n",
       "Class               object\n",
       "dtype: object"
      ]
     },
     "execution_count": 3,
     "metadata": {},
     "output_type": "execute_result"
    }
   ],
   "source": [
    "dataset.dtypes"
   ]
  },
  {
   "cell_type": "code",
   "execution_count": 4,
   "id": "74d15eaf",
   "metadata": {},
   "outputs": [
    {
     "data": {
      "text/plain": [
       "Area               0\n",
       "Perimeter          0\n",
       "MajorAxisLength    0\n",
       "MinorAxisLength    0\n",
       "AspectRation       0\n",
       "Eccentricity       0\n",
       "ConvexArea         0\n",
       "EquivDiameter      0\n",
       "Extent             0\n",
       "Solidity           0\n",
       "roundness          0\n",
       "Compactness        0\n",
       "ShapeFactor1       0\n",
       "ShapeFactor2       0\n",
       "ShapeFactor3       0\n",
       "ShapeFactor4       0\n",
       "Class              0\n",
       "dtype: int64"
      ]
     },
     "execution_count": 4,
     "metadata": {},
     "output_type": "execute_result"
    }
   ],
   "source": [
    "dataset.isna().sum()"
   ]
  },
  {
   "cell_type": "code",
   "execution_count": 5,
   "id": "2c019e2e",
   "metadata": {},
   "outputs": [
    {
     "data": {
      "image/png": "[encoded data removed]",
      "text/plain": [
       "<Figure size 432x288 with 1 Axes>"
      ]
     },
     "metadata": {
      "needs_background": "light"
     },
     "output_type": "display_data"
    }
   ],
   "source": [
    "dataset.describe()\n",
    "plt.hist(dataset['Class'])\n",
    "plt.title('Class')\n",
    "plt.show()"
   ]
  },
  {
   "cell_type": "code",
   "execution_count": 6,
   "id": "6cc35bea",
   "metadata": {},
   "outputs": [
    {
     "data": {
      "text/plain": [
       "array(['SEKER', 'BARBUNYA', 'BOMBAY', 'CALI', 'HOROZ', 'SIRA', 'DERMASON'],\n",
       "      dtype=object)"
      ]
     },
     "execution_count": 6,
     "metadata": {},
     "output_type": "execute_result"
    }
   ],
   "source": [
    "dataset['Class'].unique()"
   ]
  },
  {
   "cell_type": "code",
   "execution_count": 7,
   "id": "da366d4f",
   "metadata": {},
   "outputs": [],
   "source": [
    "from sklearn.preprocessing import LabelEncoder\n",
    "le = LabelEncoder()\n",
    "dataset['Class']=le.fit_transform(dataset['Class'])"
   ]
  },
  {
   "cell_type": "code",
   "execution_count": 8,
   "id": "cd18f670",
   "metadata": {},
   "outputs": [],
   "source": [
    "X = dataset.iloc[:,0:16].values\n",
    "y = dataset.iloc[:,16].values\n",
    "\n",
    "from sklearn.preprocessing import LabelEncoder\n",
    "encoder =  LabelEncoder()\n",
    "y1 = encoder.fit_transform(y)\n",
    "\n",
    "Y = pd.get_dummies(y1).values\n",
    "\n",
    "from sklearn.model_selection import train_test_split\n",
    "X_train,X_test, y_train,y_test = train_test_split(X,Y,test_size=0.2,random_state=0) "
   ]
  },
  {
   "cell_type": "code",
   "execution_count": 9,
   "id": "73abe3c9",
   "metadata": {},
   "outputs": [
    {
     "data": {
      "text/plain": [
       "array([[2.83950000e+04, 6.10291000e+02, 2.08178117e+02, ...,\n",
       "        3.14728917e-03, 8.34222388e-01, 9.98723889e-01],\n",
       "       [2.87340000e+04, 6.38018000e+02, 2.00524796e+02, ...,\n",
       "        3.56362371e-03, 9.09850506e-01, 9.98430331e-01],\n",
       "       [2.93800000e+04, 6.24110000e+02, 2.12826130e+02, ...,\n",
       "        3.04773322e-03, 8.25870617e-01, 9.99066137e-01],\n",
       "       ...,\n",
       "       [4.21390000e+04, 7.59321000e+02, 2.81539928e+02, ...,\n",
       "        1.88827064e-03, 6.76884164e-01, 9.96767264e-01],\n",
       "       [4.21470000e+04, 7.63779000e+02, 2.83382636e+02, ...,\n",
       "        1.85202548e-03, 6.68236684e-01, 9.95222420e-01],\n",
       "       [4.21590000e+04, 7.72237000e+02, 2.95142741e+02, ...,\n",
       "        1.63981171e-03, 6.16220592e-01, 9.98179623e-01]])"
      ]
     },
     "execution_count": 9,
     "metadata": {},
     "output_type": "execute_result"
    }
   ],
   "source": [
    "X"
   ]
  },
  {
   "cell_type": "code",
   "execution_count": 10,
   "id": "8c693148",
   "metadata": {},
   "outputs": [
    {
     "name": "stdout",
     "output_type": "stream",
     "text": [
      "[[0 0 0 ... 0 1 0]\n",
      " [0 0 0 ... 0 1 0]\n",
      " [0 0 0 ... 0 1 0]\n",
      " ...\n",
      " [0 0 0 ... 0 0 0]\n",
      " [0 0 0 ... 0 0 0]\n",
      " [0 0 0 ... 0 0 0]]\n"
     ]
    }
   ],
   "source": [
    "print(Y)"
   ]
  },
  {
   "cell_type": "code",
   "execution_count": 11,
   "id": "88e251de",
   "metadata": {},
   "outputs": [
    {
     "data": {
      "text/plain": [
       "(13611, 16)"
      ]
     },
     "execution_count": 11,
     "metadata": {},
     "output_type": "execute_result"
    }
   ],
   "source": [
    "X.shape"
   ]
  },
  {
   "cell_type": "code",
   "execution_count": 12,
   "id": "9bd46c3a",
   "metadata": {},
   "outputs": [
    {
     "data": {
      "text/plain": [
       "(13611,)"
      ]
     },
     "execution_count": 12,
     "metadata": {},
     "output_type": "execute_result"
    }
   ],
   "source": [
    "y.shape"
   ]
  },
  {
   "cell_type": "code",
   "execution_count": 13,
   "id": "82055719",
   "metadata": {},
   "outputs": [
    {
     "name": "stdout",
     "output_type": "stream",
     "text": [
      "Model: \"sequential\"\n",
      "_________________________________________________________________\n",
      " Layer (type)                Output Shape              Param #   \n",
      "=================================================================\n",
      " dense (Dense)               (None, 256)               4352      \n",
      "                                                                 \n",
      " dense_1 (Dense)             (None, 128)               32896     \n",
      "                                                                 \n",
      " dense_2 (Dense)             (None, 64)                8256      \n",
      "                                                                 \n",
      " dense_3 (Dense)             (None, 7)                 455       \n",
      "                                                                 \n",
      "=================================================================\n",
      "Total params: 45,959\n",
      "Trainable params: 45,959\n",
      "Non-trainable params: 0\n",
      "_________________________________________________________________\n"
     ]
    },
    {
     "name": "stderr",
     "output_type": "stream",
     "text": [
      "C:\\Users\\user\\anaconda3\\lib\\site-packages\\keras\\optimizers\\legacy\\adam.py:117: UserWarning: The `lr` argument is deprecated, use `learning_rate` instead.\n",
      "  super().__init__(name, **kwargs)\n"
     ]
    }
   ],
   "source": [
    "from keras.models import Sequential\n",
    "from keras.layers import Dense\n",
    "from keras.optimizers import SGD,Adam\n",
    "\n",
    "\n",
    "model = Sequential()\n",
    "#softmax, tanh\n",
    "model.add(Dense(256,input_shape=(16,),activation='relu'))\n",
    "#model.add(Dense(64,activation='relu'))\n",
    "model.add(Dense(128,activation='relu'))\n",
    "model.add(Dense(64,activation='relu'))\n",
    "model.add(Dense(7,activation='softmax'))\n",
    " \n",
    "model.compile(Adam(lr=0.0004), loss = 'categorical_crossentropy',metrics=['accuracy'])\n",
    "#categorical_crossentropy\n",
    "\n",
    "model.summary()"
   ]
  },
  {
   "cell_type": "code",
   "execution_count": 14,
   "id": "d0250d16",
   "metadata": {},
   "outputs": [
    {
     "name": "stdout",
     "output_type": "stream",
     "text": [
      "Epoch 1/70\n",
      "341/341 [==============================] - 1s 1ms/step - loss: 399.3939 - accuracy: 0.1605 - val_loss: 443.3656 - val_accuracy: 0.0338\n",
      "Epoch 2/70\n",
      "341/341 [==============================] - 0s 1ms/step - loss: 170.9975 - accuracy: 0.1977 - val_loss: 141.8071 - val_accuracy: 0.3037\n",
      "Epoch 3/70\n",
      "341/341 [==============================] - 0s 997us/step - loss: 119.4261 - accuracy: 0.2282 - val_loss: 89.4178 - val_accuracy: 0.3195\n",
      "Epoch 4/70\n",
      "341/341 [==============================] - 0s 990us/step - loss: 117.9365 - accuracy: 0.2405 - val_loss: 149.3907 - val_accuracy: 0.3944\n",
      "Epoch 5/70\n",
      "341/341 [==============================] - 0s 1ms/step - loss: 99.5792 - accuracy: 0.2588 - val_loss: 101.7792 - val_accuracy: 0.3059\n",
      "Epoch 6/70\n",
      "341/341 [==============================] - 0s 1ms/step - loss: 67.9627 - accuracy: 0.2997 - val_loss: 37.5482 - val_accuracy: 0.3423\n",
      "Epoch 7/70\n",
      "341/341 [==============================] - 0s 1ms/step - loss: 55.4599 - accuracy: 0.3343 - val_loss: 94.8455 - val_accuracy: 0.3577\n",
      "Epoch 8/70\n",
      "341/341 [==============================] - 0s 1ms/step - loss: 55.6787 - accuracy: 0.3365 - val_loss: 84.0389 - val_accuracy: 0.2251\n",
      "Epoch 9/70\n",
      "341/341 [==============================] - 0s 1ms/step - loss: 62.1260 - accuracy: 0.3348 - val_loss: 22.5880 - val_accuracy: 0.3279\n",
      "Epoch 10/70\n",
      "341/341 [==============================] - 0s 1ms/step - loss: 48.2050 - accuracy: 0.3633 - val_loss: 28.5798 - val_accuracy: 0.3459\n",
      "Epoch 11/70\n",
      "341/341 [==============================] - 0s 1ms/step - loss: 43.5301 - accuracy: 0.3706 - val_loss: 56.3595 - val_accuracy: 0.2405\n",
      "Epoch 12/70\n",
      "341/341 [==============================] - 0s 1ms/step - loss: 36.3970 - accuracy: 0.4160 - val_loss: 34.0211 - val_accuracy: 0.5189\n",
      "Epoch 13/70\n",
      "341/341 [==============================] - 0s 1ms/step - loss: 45.2681 - accuracy: 0.4015 - val_loss: 53.3629 - val_accuracy: 0.2644\n",
      "Epoch 14/70\n",
      "341/341 [==============================] - 0s 1ms/step - loss: 36.0171 - accuracy: 0.4193 - val_loss: 57.3980 - val_accuracy: 0.3566\n",
      "Epoch 15/70\n",
      "341/341 [==============================] - 0s 1ms/step - loss: 32.0960 - accuracy: 0.4505 - val_loss: 38.0074 - val_accuracy: 0.4198\n",
      "Epoch 16/70\n",
      "341/341 [==============================] - 0s 1ms/step - loss: 32.7529 - accuracy: 0.4457 - val_loss: 58.4160 - val_accuracy: 0.3313\n",
      "Epoch 17/70\n",
      "341/341 [==============================] - 0s 1ms/step - loss: 22.3748 - accuracy: 0.4863 - val_loss: 42.0632 - val_accuracy: 0.5006\n",
      "Epoch 18/70\n",
      "341/341 [==============================] - 0s 1ms/step - loss: 22.7833 - accuracy: 0.4962 - val_loss: 21.3240 - val_accuracy: 0.3470\n",
      "Epoch 19/70\n",
      "341/341 [==============================] - 0s 1ms/step - loss: 26.1285 - accuracy: 0.4694 - val_loss: 10.7446 - val_accuracy: 0.5913\n",
      "Epoch 20/70\n",
      "341/341 [==============================] - 0s 1ms/step - loss: 18.2660 - accuracy: 0.5010 - val_loss: 15.0195 - val_accuracy: 0.5252\n",
      "Epoch 21/70\n",
      "341/341 [==============================] - 0s 1ms/step - loss: 20.2509 - accuracy: 0.4974 - val_loss: 9.0828 - val_accuracy: 0.6302\n",
      "Epoch 22/70\n",
      "341/341 [==============================] - 0s 1ms/step - loss: 17.2031 - accuracy: 0.5025 - val_loss: 13.5132 - val_accuracy: 0.5553\n",
      "Epoch 23/70\n",
      "341/341 [==============================] - 0s 1ms/step - loss: 17.5714 - accuracy: 0.5186 - val_loss: 8.2110 - val_accuracy: 0.5645\n",
      "Epoch 24/70\n",
      "341/341 [==============================] - 0s 1ms/step - loss: 16.1976 - accuracy: 0.5206 - val_loss: 27.6864 - val_accuracy: 0.4157\n",
      "Epoch 25/70\n",
      "341/341 [==============================] - 0s 1ms/step - loss: 16.8608 - accuracy: 0.5231 - val_loss: 13.0793 - val_accuracy: 0.5362\n",
      "Epoch 26/70\n",
      "341/341 [==============================] - 0s 1ms/step - loss: 17.1918 - accuracy: 0.5128 - val_loss: 7.6393 - val_accuracy: 0.5755\n",
      "Epoch 27/70\n",
      "341/341 [==============================] - 0s 1ms/step - loss: 12.9567 - accuracy: 0.5308 - val_loss: 16.5152 - val_accuracy: 0.4888\n",
      "Epoch 28/70\n",
      "341/341 [==============================] - 0s 1ms/step - loss: 10.8105 - accuracy: 0.5261 - val_loss: 5.5983 - val_accuracy: 0.5454\n",
      "Epoch 29/70\n",
      "341/341 [==============================] - 0s 1ms/step - loss: 7.2910 - accuracy: 0.5409 - val_loss: 11.2379 - val_accuracy: 0.4411\n",
      "Epoch 30/70\n",
      "341/341 [==============================] - 0s 1ms/step - loss: 5.3220 - accuracy: 0.5785 - val_loss: 3.4197 - val_accuracy: 0.6203\n",
      "Epoch 31/70\n",
      "341/341 [==============================] - 0s 1ms/step - loss: 4.4498 - accuracy: 0.5912 - val_loss: 5.0911 - val_accuracy: 0.5747\n",
      "Epoch 32/70\n",
      "341/341 [==============================] - 0s 1ms/step - loss: 5.3451 - accuracy: 0.5588 - val_loss: 2.9893 - val_accuracy: 0.5538\n",
      "Epoch 33/70\n",
      "341/341 [==============================] - 0s 1ms/step - loss: 2.8352 - accuracy: 0.5608 - val_loss: 1.3547 - val_accuracy: 0.6522\n",
      "Epoch 34/70\n",
      "341/341 [==============================] - 0s 1ms/step - loss: 2.9130 - accuracy: 0.5599 - val_loss: 3.4777 - val_accuracy: 0.5182\n",
      "Epoch 35/70\n",
      "341/341 [==============================] - 0s 1ms/step - loss: 2.4503 - accuracy: 0.5883 - val_loss: 2.1352 - val_accuracy: 0.6037\n",
      "Epoch 36/70\n",
      "341/341 [==============================] - 0s 1ms/step - loss: 2.3279 - accuracy: 0.5940 - val_loss: 2.3632 - val_accuracy: 0.6581\n",
      "Epoch 37/70\n",
      "341/341 [==============================] - 0s 1ms/step - loss: 1.7215 - accuracy: 0.6308 - val_loss: 2.6573 - val_accuracy: 0.5417\n",
      "Epoch 38/70\n",
      "341/341 [==============================] - 0s 1ms/step - loss: 2.7391 - accuracy: 0.5870 - val_loss: 5.0373 - val_accuracy: 0.2960\n",
      "Epoch 39/70\n",
      "341/341 [==============================] - 0s 1ms/step - loss: 2.9070 - accuracy: 0.5618 - val_loss: 1.0385 - val_accuracy: 0.6423\n",
      "Epoch 40/70\n",
      "341/341 [==============================] - 0s 1ms/step - loss: 1.7328 - accuracy: 0.5930 - val_loss: 3.5619 - val_accuracy: 0.5501\n",
      "Epoch 41/70\n",
      "341/341 [==============================] - 0s 1ms/step - loss: 2.5832 - accuracy: 0.5704 - val_loss: 1.4963 - val_accuracy: 0.6232\n",
      "Epoch 42/70\n",
      "341/341 [==============================] - 0s 1ms/step - loss: 1.8722 - accuracy: 0.5836 - val_loss: 1.7196 - val_accuracy: 0.4961\n",
      "Epoch 43/70\n",
      "341/341 [==============================] - 0s 1ms/step - loss: 1.2878 - accuracy: 0.6274 - val_loss: 1.1936 - val_accuracy: 0.6974\n",
      "Epoch 44/70\n",
      "341/341 [==============================] - 0s 1ms/step - loss: 1.0866 - accuracy: 0.6626 - val_loss: 1.4290 - val_accuracy: 0.5931\n",
      "Epoch 45/70\n",
      "341/341 [==============================] - 0s 1ms/step - loss: 1.5771 - accuracy: 0.6352 - val_loss: 1.9858 - val_accuracy: 0.6555\n",
      "Epoch 46/70\n",
      "341/341 [==============================] - 0s 1ms/step - loss: 1.1085 - accuracy: 0.6509 - val_loss: 1.2987 - val_accuracy: 0.6941\n",
      "Epoch 47/70\n",
      "341/341 [==============================] - 0s 1ms/step - loss: 1.6306 - accuracy: 0.6055 - val_loss: 3.3992 - val_accuracy: 0.3232\n",
      "Epoch 48/70\n",
      "341/341 [==============================] - 0s 1ms/step - loss: 1.4252 - accuracy: 0.5680 - val_loss: 1.0559 - val_accuracy: 0.6445\n",
      "Epoch 49/70\n",
      "341/341 [==============================] - 0s 1ms/step - loss: 0.9413 - accuracy: 0.6621 - val_loss: 0.7083 - val_accuracy: 0.7514\n",
      "Epoch 50/70\n",
      "341/341 [==============================] - 0s 1ms/step - loss: 1.3334 - accuracy: 0.6222 - val_loss: 0.9686 - val_accuracy: 0.7378\n",
      "Epoch 51/70\n",
      "341/341 [==============================] - 0s 1ms/step - loss: 1.8578 - accuracy: 0.6436 - val_loss: 10.7864 - val_accuracy: 0.2266\n",
      "Epoch 52/70\n",
      "341/341 [==============================] - 0s 1ms/step - loss: 2.8527 - accuracy: 0.5591 - val_loss: 1.2688 - val_accuracy: 0.5505\n",
      "Epoch 53/70\n",
      "341/341 [==============================] - 0s 1ms/step - loss: 1.1212 - accuracy: 0.6424 - val_loss: 0.9671 - val_accuracy: 0.6893\n",
      "Epoch 54/70\n",
      "341/341 [==============================] - 0s 1ms/step - loss: 0.9530 - accuracy: 0.6763 - val_loss: 0.5548 - val_accuracy: 0.8340\n",
      "Epoch 55/70\n",
      "341/341 [==============================] - 0s 1ms/step - loss: 0.8654 - accuracy: 0.6943 - val_loss: 0.5412 - val_accuracy: 0.8347\n",
      "Epoch 56/70\n",
      "341/341 [==============================] - 0s 1ms/step - loss: 0.8951 - accuracy: 0.6842 - val_loss: 1.5679 - val_accuracy: 0.4881\n",
      "Epoch 57/70\n",
      "341/341 [==============================] - 0s 1ms/step - loss: 0.9950 - accuracy: 0.6989 - val_loss: 3.7732 - val_accuracy: 0.4389\n"
     ]
    },
    {
     "name": "stdout",
     "output_type": "stream",
     "text": [
      "Epoch 58/70\n",
      "341/341 [==============================] - 0s 1ms/step - loss: 1.0612 - accuracy: 0.6871 - val_loss: 0.7430 - val_accuracy: 0.7444\n",
      "Epoch 59/70\n",
      "341/341 [==============================] - 0s 1ms/step - loss: 0.8491 - accuracy: 0.7009 - val_loss: 0.8441 - val_accuracy: 0.7040\n",
      "Epoch 60/70\n",
      "341/341 [==============================] - 0s 1ms/step - loss: 0.6951 - accuracy: 0.7397 - val_loss: 0.5854 - val_accuracy: 0.7624\n",
      "Epoch 61/70\n",
      "341/341 [==============================] - 0s 1ms/step - loss: 2.1295 - accuracy: 0.6437 - val_loss: 0.5123 - val_accuracy: 0.8090\n",
      "Epoch 62/70\n",
      "341/341 [==============================] - 0s 1ms/step - loss: 0.7651 - accuracy: 0.7248 - val_loss: 0.7929 - val_accuracy: 0.7484\n",
      "Epoch 63/70\n",
      "341/341 [==============================] - 0s 1ms/step - loss: 0.8371 - accuracy: 0.7282 - val_loss: 2.5006 - val_accuracy: 0.5498\n",
      "Epoch 64/70\n",
      "341/341 [==============================] - 0s 1ms/step - loss: 0.8679 - accuracy: 0.7264 - val_loss: 0.4551 - val_accuracy: 0.8402\n",
      "Epoch 65/70\n",
      "341/341 [==============================] - 0s 1ms/step - loss: 0.6024 - accuracy: 0.7574 - val_loss: 1.5048 - val_accuracy: 0.4546\n",
      "Epoch 66/70\n",
      "341/341 [==============================] - 0s 1ms/step - loss: 0.5903 - accuracy: 0.7652 - val_loss: 0.4411 - val_accuracy: 0.8278\n",
      "Epoch 67/70\n",
      "341/341 [==============================] - 0s 1ms/step - loss: 0.8514 - accuracy: 0.7095 - val_loss: 0.6046 - val_accuracy: 0.7337\n",
      "Epoch 68/70\n",
      "341/341 [==============================] - 0s 1ms/step - loss: 0.5650 - accuracy: 0.7809 - val_loss: 0.8692 - val_accuracy: 0.5997\n",
      "Epoch 69/70\n",
      "341/341 [==============================] - 0s 1ms/step - loss: 0.6439 - accuracy: 0.7490 - val_loss: 0.6312 - val_accuracy: 0.7455\n",
      "Epoch 70/70\n",
      "341/341 [==============================] - 0s 1ms/step - loss: 0.6355 - accuracy: 0.7607 - val_loss: 0.6761 - val_accuracy: 0.7084\n",
      "86/86 [==============================] - 0s 554us/step\n"
     ]
    }
   ],
   "source": [
    "model_history=model.fit(x=X_train, y=y_train, epochs=70, batch_size=32,validation_data= (X_test,y_test))\n",
    "y_pred = model.predict(X_test)\n",
    "y_test_class = np.argmax(y_test,axis=1)\n",
    "y_pred_class = np.argmax(y_pred,axis=1)"
   ]
  },
  {
   "cell_type": "code",
   "execution_count": 15,
   "id": "4350d5ba",
   "metadata": {},
   "outputs": [
    {
     "data": {
      "image/png": "[encoded data removed]",
      "text/plain": [
       "<Figure size 432x288 with 1 Axes>"
      ]
     },
     "metadata": {
      "needs_background": "light"
     },
     "output_type": "display_data"
    }
   ],
   "source": [
    "import matplotlib.pyplot as plt\n",
    "import seaborn as sns\n",
    "\n",
    "loss =model_history.history['loss']\n",
    "val_loss =model_history.history['val_loss']\n",
    "epochs = range(1, len(loss) + 1)\n",
    "plt.plot(epochs, loss, 'y', label='Training loss')\n",
    "plt.plot(epochs, val_loss, 'r', label='Validation loss')\n",
    "plt.title('Training and validation loss')\n",
    "plt.xlabel('Epochs')\n",
    "plt.ylabel('Loss')\n",
    "plt.legend()\n",
    "plt.show()"
   ]
  },
  {
   "cell_type": "code",
   "execution_count": 16,
   "id": "9e602886",
   "metadata": {},
   "outputs": [
    {
     "data": {
      "image/png": "[encoded data removed]",
      "text/plain": [
       "<Figure size 432x288 with 1 Axes>"
      ]
     },
     "metadata": {
      "needs_background": "light"
     },
     "output_type": "display_data"
    }
   ],
   "source": [
    "acc =model_history.history['accuracy']\n",
    "val_acc =model_history.history['val_accuracy']\n",
    "plt.plot(epochs, acc, 'y', label='Training acc')\n",
    "plt.plot(epochs, val_acc, 'r', label='Validation acc')\n",
    "plt.title('Training and validation accuracy')\n",
    "plt.xlabel('Epochs')\n",
    "plt.ylabel('Accuracy')\n",
    "plt.legend()\n",
    "plt.show()"
   ]
  },
  {
   "cell_type": "code",
   "execution_count": 17,
   "id": "63e7ddaf",
   "metadata": {},
   "outputs": [
    {
     "name": "stdout",
     "output_type": "stream",
     "text": [
      "              precision    recall  f1-score   support\n",
      "\n",
      "           0       0.36      0.93      0.52       255\n",
      "           1       1.00      1.00      1.00        92\n",
      "           2       0.72      0.06      0.11       350\n",
      "           3       0.95      0.79      0.86       735\n",
      "           4       1.00      0.52      0.68       390\n",
      "           5       0.72      0.96      0.82       376\n",
      "           6       0.69      0.83      0.75       525\n",
      "\n",
      "    accuracy                           0.71      2723\n",
      "   macro avg       0.78      0.73      0.68      2723\n",
      "weighted avg       0.79      0.71      0.69      2723\n",
      "\n",
      "[[236   0   0   0   0   2  17]\n",
      " [  0  92   0   0   0   0   0]\n",
      " [327   0  21   0   0   1   1]\n",
      " [  0   0   0 584   0  89  62]\n",
      " [ 74   0   8   5 201   0 102]\n",
      " [  3   0   0   2   0 361  10]\n",
      " [ 18   0   0  25   1  47 434]]\n"
     ]
    }
   ],
   "source": [
    "from sklearn.metrics import classification_report,confusion_matrix\n",
    "print(classification_report(y_test_class,y_pred_class))\n",
    "print(confusion_matrix(y_test_class,y_pred_class))"
   ]
  }
 ],
 "metadata": {
  "kernelspec": {
   "display_name": "Python 3 (ipykernel)",
   "language": "python",
   "name": "python3"
  },
  "language_info": {
   "codemirror_mode": {
    "name": "ipython",
    "version": 3
   },
   "file_extension": ".py",
   "mimetype": "text/x-python",
   "name": "python",
   "nbconvert_exporter": "python",
   "pygments_lexer": "ipython3",
   "version": "3.9.12"
  }
 },
 "nbformat": 4,
 "nbformat_minor": 5
}
